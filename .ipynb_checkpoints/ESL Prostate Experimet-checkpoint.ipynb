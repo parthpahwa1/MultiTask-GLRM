{
 "cells": [
  {
   "cell_type": "code",
   "execution_count": 1,
   "id": "8541f4bf",
   "metadata": {},
   "outputs": [],
   "source": [
    "import tensorflow as tf\n",
    "import numpy as np\n",
    "import pandas as pd\n",
    "from sklearn.linear_model import LogisticRegression\n",
    "from sklearn.metrics import accuracy_score\n",
    "from sklearn.preprocessing import StandardScaler\n",
    "import semisupervised_params\n",
    "from supervised_embedding_params import Multilearn_GLRM_GetEmbedding\n",
    "from importlib import reload\n",
    "import Multi_Learn\n",
    "import generate_AXY\n",
    "%load_ext autoreload\n",
    "%autoreload 2"
   ]
  },
  {
   "cell_type": "code",
   "execution_count": 17,
   "id": "6d51f914",
   "metadata": {},
   "outputs": [],
   "source": [
    "df = pd.read_csv('./prostate/prostate.data', delimiter='\\t', index_col=0)\n",
    "df = df.sample(frac=1).reset_index(drop=True)\n",
    "\n",
    "mask_train = df.pop('train')\n",
    "df_y = df.pop('lpsa')\n",
    "\n",
    "X_train = df[mask_train == 'T']\n",
    "Y_train = df_y[mask_train == 'T']\n",
    "Y_train = np.array(Y_train).reshape(-1,1)\n",
    "\n",
    "\n",
    "X_test = df[mask_train != 'T']\n",
    "Y_test = df_y[mask_train != 'T']\n",
    "Y_test = np.array(Y_test).reshape(-1,1)\n",
    "\n",
    "\n",
    "scaler = StandardScaler()\n",
    "X_train = scaler.fit_transform(X_train)\n",
    "X_test = scaler.transform(X_test)"
   ]
  },
  {
   "cell_type": "code",
   "execution_count": 66,
   "id": "f0c29713",
   "metadata": {},
   "outputs": [
    {
     "data": {
      "text/html": [
       "<div>\n",
       "<style scoped>\n",
       "    .dataframe tbody tr th:only-of-type {\n",
       "        vertical-align: middle;\n",
       "    }\n",
       "\n",
       "    .dataframe tbody tr th {\n",
       "        vertical-align: top;\n",
       "    }\n",
       "\n",
       "    .dataframe thead th {\n",
       "        text-align: right;\n",
       "    }\n",
       "</style>\n",
       "<table border=\"1\" class=\"dataframe\">\n",
       "  <thead>\n",
       "    <tr style=\"text-align: right;\">\n",
       "      <th></th>\n",
       "      <th>lcavol</th>\n",
       "      <th>lweight</th>\n",
       "      <th>age</th>\n",
       "      <th>lbph</th>\n",
       "      <th>svi</th>\n",
       "      <th>lcp</th>\n",
       "      <th>gleason</th>\n",
       "      <th>pgg45</th>\n",
       "    </tr>\n",
       "  </thead>\n",
       "  <tbody>\n",
       "    <tr>\n",
       "      <th>0</th>\n",
       "      <td>3.471966</td>\n",
       "      <td>3.974998</td>\n",
       "      <td>68</td>\n",
       "      <td>0.438255</td>\n",
       "      <td>1</td>\n",
       "      <td>2.904165</td>\n",
       "      <td>7</td>\n",
       "      <td>20</td>\n",
       "    </tr>\n",
       "    <tr>\n",
       "      <th>1</th>\n",
       "      <td>3.141130</td>\n",
       "      <td>3.263849</td>\n",
       "      <td>68</td>\n",
       "      <td>-0.051293</td>\n",
       "      <td>1</td>\n",
       "      <td>2.420368</td>\n",
       "      <td>7</td>\n",
       "      <td>50</td>\n",
       "    </tr>\n",
       "    <tr>\n",
       "      <th>2</th>\n",
       "      <td>-0.544727</td>\n",
       "      <td>3.375880</td>\n",
       "      <td>59</td>\n",
       "      <td>-0.798508</td>\n",
       "      <td>0</td>\n",
       "      <td>-1.386294</td>\n",
       "      <td>6</td>\n",
       "      <td>0</td>\n",
       "    </tr>\n",
       "    <tr>\n",
       "      <th>3</th>\n",
       "      <td>1.541159</td>\n",
       "      <td>3.061052</td>\n",
       "      <td>66</td>\n",
       "      <td>-1.386294</td>\n",
       "      <td>0</td>\n",
       "      <td>-1.386294</td>\n",
       "      <td>6</td>\n",
       "      <td>0</td>\n",
       "    </tr>\n",
       "    <tr>\n",
       "      <th>4</th>\n",
       "      <td>-0.415515</td>\n",
       "      <td>3.516013</td>\n",
       "      <td>70</td>\n",
       "      <td>1.244155</td>\n",
       "      <td>0</td>\n",
       "      <td>-0.597837</td>\n",
       "      <td>7</td>\n",
       "      <td>30</td>\n",
       "    </tr>\n",
       "    <tr>\n",
       "      <th>...</th>\n",
       "      <td>...</td>\n",
       "      <td>...</td>\n",
       "      <td>...</td>\n",
       "      <td>...</td>\n",
       "      <td>...</td>\n",
       "      <td>...</td>\n",
       "      <td>...</td>\n",
       "      <td>...</td>\n",
       "    </tr>\n",
       "    <tr>\n",
       "      <th>92</th>\n",
       "      <td>2.779440</td>\n",
       "      <td>3.823192</td>\n",
       "      <td>63</td>\n",
       "      <td>-1.386294</td>\n",
       "      <td>0</td>\n",
       "      <td>0.371564</td>\n",
       "      <td>7</td>\n",
       "      <td>50</td>\n",
       "    </tr>\n",
       "    <tr>\n",
       "      <th>93</th>\n",
       "      <td>0.582216</td>\n",
       "      <td>3.865979</td>\n",
       "      <td>62</td>\n",
       "      <td>1.713798</td>\n",
       "      <td>0</td>\n",
       "      <td>-0.430783</td>\n",
       "      <td>6</td>\n",
       "      <td>0</td>\n",
       "    </tr>\n",
       "    <tr>\n",
       "      <th>94</th>\n",
       "      <td>-1.347074</td>\n",
       "      <td>3.598681</td>\n",
       "      <td>63</td>\n",
       "      <td>1.266948</td>\n",
       "      <td>0</td>\n",
       "      <td>-1.386294</td>\n",
       "      <td>6</td>\n",
       "      <td>0</td>\n",
       "    </tr>\n",
       "    <tr>\n",
       "      <th>95</th>\n",
       "      <td>0.974560</td>\n",
       "      <td>2.865054</td>\n",
       "      <td>47</td>\n",
       "      <td>-1.386294</td>\n",
       "      <td>0</td>\n",
       "      <td>0.500775</td>\n",
       "      <td>7</td>\n",
       "      <td>4</td>\n",
       "    </tr>\n",
       "    <tr>\n",
       "      <th>96</th>\n",
       "      <td>1.275363</td>\n",
       "      <td>3.037354</td>\n",
       "      <td>71</td>\n",
       "      <td>1.266948</td>\n",
       "      <td>0</td>\n",
       "      <td>-1.386294</td>\n",
       "      <td>6</td>\n",
       "      <td>0</td>\n",
       "    </tr>\n",
       "  </tbody>\n",
       "</table>\n",
       "<p>97 rows × 8 columns</p>\n",
       "</div>"
      ],
      "text/plain": [
       "      lcavol   lweight  age      lbph  svi       lcp  gleason  pgg45\n",
       "0   3.471966  3.974998   68  0.438255    1  2.904165        7     20\n",
       "1   3.141130  3.263849   68 -0.051293    1  2.420368        7     50\n",
       "2  -0.544727  3.375880   59 -0.798508    0 -1.386294        6      0\n",
       "3   1.541159  3.061052   66 -1.386294    0 -1.386294        6      0\n",
       "4  -0.415515  3.516013   70  1.244155    0 -0.597837        7     30\n",
       "..       ...       ...  ...       ...  ...       ...      ...    ...\n",
       "92  2.779440  3.823192   63 -1.386294    0  0.371564        7     50\n",
       "93  0.582216  3.865979   62  1.713798    0 -0.430783        6      0\n",
       "94 -1.347074  3.598681   63  1.266948    0 -1.386294        6      0\n",
       "95  0.974560  2.865054   47 -1.386294    0  0.500775        7      4\n",
       "96  1.275363  3.037354   71  1.266948    0 -1.386294        6      0\n",
       "\n",
       "[97 rows x 8 columns]"
      ]
     },
     "execution_count": 66,
     "metadata": {},
     "output_type": "execute_result"
    }
   ],
   "source": [
    "df"
   ]
  },
  {
   "cell_type": "code",
   "execution_count": 18,
   "id": "bebb5b9d",
   "metadata": {},
   "outputs": [
    {
     "data": {
      "text/plain": [
       "((67, 8), (67, 1))"
      ]
     },
     "execution_count": 18,
     "metadata": {},
     "output_type": "execute_result"
    }
   ],
   "source": [
    "X_train.shape, Y_train.shape"
   ]
  },
  {
   "cell_type": "code",
   "execution_count": 84,
   "id": "96597f86",
   "metadata": {
    "scrolled": true
   },
   "outputs": [
    {
     "name": "stdout",
     "output_type": "stream",
     "text": [
      "epoch: 0\n",
      "iter: 0 Total loss: tf.Tensor(359.4461106989435, shape=(), dtype=float64)\n",
      "iter: 100 Total loss: tf.Tensor(248.03924712681646, shape=(), dtype=float64)\n",
      "iter: 200 Total loss: tf.Tensor(199.98056757406286, shape=(), dtype=float64)\n",
      "iter: 300 Total loss: tf.Tensor(178.3858479216652, shape=(), dtype=float64)\n",
      "iter: 398 Total loss: tf.Tensor(168.52293607924574, shape=(), dtype=float64)\n",
      "iter: 0 Total loss: tf.Tensor(168.43016567959705, shape=(), dtype=float64)\n",
      "iter: 46 Total loss: tf.Tensor(139.98852846528044, shape=(), dtype=float64)\n",
      "epoch: 1\n",
      "iter: 0 Total loss: tf.Tensor(139.81777797179413, shape=(), dtype=float64)\n",
      "iter: 100 Total loss: tf.Tensor(113.67770818279539, shape=(), dtype=float64)\n",
      "iter: 162 Total loss: tf.Tensor(108.08069409302952, shape=(), dtype=float64)\n",
      "iter: 0 Total loss: tf.Tensor(107.96402741262362, shape=(), dtype=float64)\n",
      "iter: 15 Total loss: tf.Tensor(107.38644008550487, shape=(), dtype=float64)\n",
      "epoch: 2\n",
      "iter: 0 Total loss: tf.Tensor(107.4953107900557, shape=(), dtype=float64)\n",
      "iter: 47 Total loss: tf.Tensor(102.12465497957065, shape=(), dtype=float64)\n",
      "iter: 0 Total loss: tf.Tensor(102.01460758054905, shape=(), dtype=float64)\n",
      "iter: 16 Total loss: tf.Tensor(102.05971828325406, shape=(), dtype=float64)\n",
      "epoch: 3\n",
      "iter: 0 Total loss: tf.Tensor(102.28164874161918, shape=(), dtype=float64)\n",
      "iter: 16 Total loss: tf.Tensor(99.89211332799891, shape=(), dtype=float64)\n",
      "iter: 0 Total loss: tf.Tensor(99.88615979497078, shape=(), dtype=float64)\n",
      "iter: 32 Total loss: tf.Tensor(100.01026029195106, shape=(), dtype=float64)\n",
      "epoch: 4\n",
      "iter: 0 Total loss: tf.Tensor(99.97383383318592, shape=(), dtype=float64)\n",
      "iter: 11 Total loss: tf.Tensor(98.57873054251662, shape=(), dtype=float64)\n",
      "iter: 0 Total loss: tf.Tensor(98.46280501878837, shape=(), dtype=float64)\n",
      "iter: 8 Total loss: tf.Tensor(98.72352729862882, shape=(), dtype=float64)\n",
      "epoch: 5\n",
      "iter: 0 Total loss: tf.Tensor(98.71057588158213, shape=(), dtype=float64)\n",
      "iter: 0 Total loss: tf.Tensor(98.71057588158213, shape=(), dtype=float64)\n",
      "iter: 0 Total loss: tf.Tensor(98.27997899391372, shape=(), dtype=float64)\n",
      "iter: 2 Total loss: tf.Tensor(98.49328855347164, shape=(), dtype=float64)\n",
      "epoch: 6\n",
      "iter: 0 Total loss: tf.Tensor(98.60979441746024, shape=(), dtype=float64)\n",
      "iter: 21 Total loss: tf.Tensor(96.91041211436067, shape=(), dtype=float64)\n",
      "iter: 0 Total loss: tf.Tensor(96.84530722479089, shape=(), dtype=float64)\n",
      "iter: 15 Total loss: tf.Tensor(97.21470478096805, shape=(), dtype=float64)\n",
      "epoch: 7\n",
      "iter: 0 Total loss: tf.Tensor(96.84551816899354, shape=(), dtype=float64)\n",
      "iter: 4 Total loss: tf.Tensor(96.41484619144572, shape=(), dtype=float64)\n",
      "iter: 0 Total loss: tf.Tensor(96.32860077687238, shape=(), dtype=float64)\n",
      "iter: 42 Total loss: tf.Tensor(96.39172941885222, shape=(), dtype=float64)\n",
      "epoch: 8\n",
      "iter: 0 Total loss: tf.Tensor(96.44071111695425, shape=(), dtype=float64)\n",
      "iter: 9 Total loss: tf.Tensor(95.5588492502605, shape=(), dtype=float64)\n",
      "iter: 0 Total loss: tf.Tensor(95.52935113036904, shape=(), dtype=float64)\n",
      "iter: 14 Total loss: tf.Tensor(95.75574288157303, shape=(), dtype=float64)\n",
      "epoch: 9\n",
      "iter: 0 Total loss: tf.Tensor(95.84752667114687, shape=(), dtype=float64)\n",
      "iter: 7 Total loss: tf.Tensor(94.81844403609838, shape=(), dtype=float64)\n",
      "iter: 0 Total loss: tf.Tensor(94.7759406698685, shape=(), dtype=float64)\n",
      "iter: 24 Total loss: tf.Tensor(94.97966223956436, shape=(), dtype=float64)\n",
      "epoch: 10\n",
      "iter: 0 Total loss: tf.Tensor(94.91987794304508, shape=(), dtype=float64)\n",
      "iter: 13 Total loss: tf.Tensor(94.1581618050878, shape=(), dtype=float64)\n",
      "iter: 0 Total loss: tf.Tensor(94.08584949427068, shape=(), dtype=float64)\n",
      "iter: 42 Total loss: tf.Tensor(94.28104038174548, shape=(), dtype=float64)\n",
      "epoch: 11\n",
      "iter: 0 Total loss: tf.Tensor(94.1733141671763, shape=(), dtype=float64)\n",
      "iter: 10 Total loss: tf.Tensor(93.5579585296555, shape=(), dtype=float64)\n",
      "iter: 0 Total loss: tf.Tensor(93.4916590340092, shape=(), dtype=float64)\n",
      "iter: 7 Total loss: tf.Tensor(93.65952716732471, shape=(), dtype=float64)\n",
      "epoch: 12\n",
      "iter: 0 Total loss: tf.Tensor(93.70312879833672, shape=(), dtype=float64)\n",
      "iter: 4 Total loss: tf.Tensor(93.29127603920719, shape=(), dtype=float64)\n",
      "iter: 0 Total loss: tf.Tensor(93.22673263891731, shape=(), dtype=float64)\n",
      "iter: 22 Total loss: tf.Tensor(93.41320299133513, shape=(), dtype=float64)\n",
      "epoch: 13\n",
      "iter: 0 Total loss: tf.Tensor(93.45069660745229, shape=(), dtype=float64)\n",
      "iter: 24 Total loss: tf.Tensor(92.36381149350812, shape=(), dtype=float64)\n",
      "iter: 0 Total loss: tf.Tensor(92.31402942137747, shape=(), dtype=float64)\n",
      "iter: 12 Total loss: tf.Tensor(92.61706244486109, shape=(), dtype=float64)\n",
      "epoch: 14\n",
      "iter: 0 Total loss: tf.Tensor(92.66543742448972, shape=(), dtype=float64)\n",
      "iter: 5 Total loss: tf.Tensor(92.05834988814684, shape=(), dtype=float64)\n",
      "iter: 0 Total loss: tf.Tensor(92.04755318617946, shape=(), dtype=float64)\n",
      "iter: 18 Total loss: tf.Tensor(92.28941243702769, shape=(), dtype=float64)\n",
      "epoch: 15\n",
      "iter: 0 Total loss: tf.Tensor(92.36231859518881, shape=(), dtype=float64)\n",
      "iter: 19 Total loss: tf.Tensor(91.43466946776215, shape=(), dtype=float64)\n",
      "iter: 0 Total loss: tf.Tensor(91.41525951904285, shape=(), dtype=float64)\n",
      "iter: 8 Total loss: tf.Tensor(91.6923154126047, shape=(), dtype=float64)\n",
      "epoch: 16\n",
      "iter: 0 Total loss: tf.Tensor(91.66222073928807, shape=(), dtype=float64)\n",
      "iter: 8 Total loss: tf.Tensor(91.10703286107928, shape=(), dtype=float64)\n",
      "iter: 0 Total loss: tf.Tensor(91.07536656491878, shape=(), dtype=float64)\n",
      "iter: 99 Total loss: tf.Tensor(91.19970161729096, shape=(), dtype=float64)\n",
      "epoch: 17\n",
      "iter: 0 Total loss: tf.Tensor(91.17182958480046, shape=(), dtype=float64)\n",
      "iter: 23 Total loss: tf.Tensor(90.56943883060153, shape=(), dtype=float64)\n",
      "iter: 0 Total loss: tf.Tensor(90.52314599507685, shape=(), dtype=float64)\n",
      "iter: 1 Total loss: tf.Tensor(90.52505762542783, shape=(), dtype=float64)\n",
      "epoch: 18\n",
      "iter: 0 Total loss: tf.Tensor(90.64095637155401, shape=(), dtype=float64)\n",
      "iter: 9 Total loss: tf.Tensor(90.42960817647693, shape=(), dtype=float64)\n",
      "iter: 0 Total loss: tf.Tensor(90.37188769001247, shape=(), dtype=float64)\n",
      "iter: 5 Total loss: tf.Tensor(90.68880137491726, shape=(), dtype=float64)\n",
      "epoch: 19\n",
      "iter: 0 Total loss: tf.Tensor(90.65007887807279, shape=(), dtype=float64)\n",
      "iter: 5 Total loss: tf.Tensor(90.23573071662878, shape=(), dtype=float64)\n",
      "iter: 0 Total loss: tf.Tensor(90.23214579613224, shape=(), dtype=float64)\n",
      "iter: 4 Total loss: tf.Tensor(90.35058735752689, shape=(), dtype=float64)\n"
     ]
    }
   ],
   "source": [
    "reload(semisupervised_params)\n",
    "reload(Multi_Learn)\n",
    "reload(generate_AXY)\n",
    "from semisupervised_params import Multilearn_GLRM_Semisupervised\n",
    "from Multi_Learn import alternating_minimization, predict \n",
    "from generate_AXY import get_semisupervised_glrm_train_form\n",
    "\n",
    "embedding_dim = 5\n",
    "n_class = 1\n",
    "\n",
    "A_prime, X_prime, Y_prime = get_semisupervised_glrm_train_form(X_train, Y_train, n_class, embedding_dim)\n",
    "[GLRM_loss_list, X_regulariation_list, Y_regulariation_list, X_grad_restrictions, Y_grad_restrictions] = Multilearn_GLRM_Semisupervised(A_prime, X_prime, Y_prime, n_class)\n",
    "\n",
    "num_iterations=100000\n",
    "learning_rate=0.005\n",
    "result = alternating_minimization(A_prime, X_prime, Y_prime, GLRM_loss_list, X_regulariation_list, Y_regulariation_list, X_grad_restrictions, Y_grad_restrictions, num_iterations, learning_rate, n_class)\n"
   ]
  },
  {
   "cell_type": "code",
   "execution_count": 85,
   "id": "558196dc",
   "metadata": {},
   "outputs": [
    {
     "data": {
      "text/plain": [
       "0.4495674496068231"
      ]
     },
     "execution_count": 85,
     "metadata": {},
     "output_type": "execute_result"
    }
   ],
   "source": [
    "res = np.matmul(result[0], result[1][:,0:n_class])\n",
    "np.mean((Y_train - res)**2)"
   ]
  },
  {
   "cell_type": "code",
   "execution_count": 73,
   "id": "f6761625",
   "metadata": {
    "scrolled": true
   },
   "outputs": [
    {
     "name": "stdout",
     "output_type": "stream",
     "text": [
      "[3.3375474] [3.46360087]\n",
      "[1.6956156] [1.03267292]\n",
      "[1.446919] [1.8667168]\n",
      "[1.4701758] [1.31589902]\n",
      "[2.8535925] [2.95660349]\n",
      "[2.7942279] [2.34551524]\n",
      "[1.2669476] [1.47617871]\n",
      "[4.029806] [3.26393234]\n",
      "[3.0130809] [3.17005258]\n",
      "[3.5307626] [2.95896382]\n",
      "[2.9204698] [2.98593746]\n",
      "[2.1575593] [1.7046678]\n",
      "[2.2137539] [3.86303573]\n",
      "[2.2975726] [2.13057403]\n",
      "[1.4929041] [2.17871666]\n",
      "[-0.1625189] [0.47149859]\n",
      "[3.5652984] [3.45010351]\n",
      "[2.0476928] [0.99535475]\n",
      "[1.5993876] [1.89287118]\n",
      "[2.5533438] [2.60124133]\n",
      "[3.4355988] [3.62690328]\n",
      "[2.8124102] [2.87398579]\n",
      "[2.5217206] [2.45272247]\n",
      "[-0.4307829] [0.71366474]\n",
      "[1.8484548] [2.19912764]\n",
      "[2.8419982] [2.5276057]\n",
      "[4.3851468] [3.78981058]\n",
      "[3.0373539] [2.25224946]\n",
      "[4.1295508] [4.09279966]\n",
      "[5.477509] [4.28855883]\n",
      "[1.3480731] [1.74607061]\n",
      "[2.677591] [3.20229151]\n",
      "[3.3928291] [3.54802863]\n",
      "[3.7123518] [2.91785698]\n",
      "[3.5876769] [2.6613311]\n",
      "[2.2772673] [1.67282809]\n",
      "[-0.1625189] [0.77039525]\n",
      "[2.5687881] [4.01030841]\n",
      "[-0.1625189] [0.65292113]\n",
      "[2.1916535] [0.92199377]\n",
      "[1.9242487] [2.14626927]\n",
      "[0.7654678] [0.78878136]\n",
      "[0.8544153] [2.22102627]\n",
      "[2.7180005] [3.05536287]\n",
      "[1.6389967] [2.03059915]\n",
      "[3.993603] [3.31187078]\n",
      "[2.9626924] [3.1816547]\n",
      "[1.7137979] [2.53548133]\n",
      "[3.2752562] [3.3264857]\n",
      "[2.8063861] [2.30139103]\n",
      "[2.9729753] [3.05869327]\n",
      "[3.6309855] [3.73517218]\n",
      "[1.2669476] [2.01929916]\n",
      "[2.6567569] [2.58056653]\n",
      "[1.8000583] [2.17719496]\n",
      "[3.9843437] [4.1275404]\n",
      "[4.6844434] [4.44960055]\n",
      "[3.4578927] [3.33316051]\n",
      "[3.5160131] [2.15112675]\n",
      "[1.5581446] [1.17710095]\n",
      "[2.9626924] [1.48127254]\n",
      "[3.6800909] [3.12998488]\n",
      "[0.3715636] [1.73374612]\n",
      "[1.8946169] [1.92722025]\n",
      "[2.3272777] [2.15012204]\n",
      "[1.2669476] [0.93190768]\n",
      "[2.008214] [2.10537023]\n"
     ]
    }
   ],
   "source": [
    "for i in range(0, Y_train.shape[0]):\n",
    "    print(Y_train[i], res[i])"
   ]
  },
  {
   "cell_type": "code",
   "execution_count": 81,
   "id": "83446191",
   "metadata": {},
   "outputs": [
    {
     "data": {
      "text/plain": [
       "<tf.Tensor: shape=(14, 1), dtype=float64, numpy=\n",
       "array([[ 0.42844915],\n",
       "       [ 0.76647522],\n",
       "       [-0.39746963],\n",
       "       [-0.04810776],\n",
       "       [ 0.57623786],\n",
       "       [ 0.12651037],\n",
       "       [ 0.1331365 ],\n",
       "       [-0.16776002],\n",
       "       [ 0.36505882],\n",
       "       [ 0.31483742],\n",
       "       [-0.23123023],\n",
       "       [-0.09092775],\n",
       "       [ 0.23216724],\n",
       "       [ 2.35703952]])>"
      ]
     },
     "execution_count": 81,
     "metadata": {},
     "output_type": "execute_result"
    }
   ],
   "source": [
    "beta = result[1][1:,0:n_class]\n",
    "Y_final = result[1][1:embedding_dim+1,n_class:]\n",
    "beta"
   ]
  },
  {
   "cell_type": "code",
   "execution_count": 86,
   "id": "918b960c",
   "metadata": {
    "scrolled": true
   },
   "outputs": [
    {
     "name": "stdout",
     "output_type": "stream",
     "text": [
      "iter: 0 Total loss: tf.Tensor(197.96774452915304, shape=(), dtype=float64)\n",
      "iter: 100 Total loss: tf.Tensor(178.47596565493865, shape=(), dtype=float64)\n",
      "iter: 200 Total loss: tf.Tensor(161.33050313899025, shape=(), dtype=float64)\n",
      "iter: 300 Total loss: tf.Tensor(146.04365307015308, shape=(), dtype=float64)\n",
      "iter: 400 Total loss: tf.Tensor(132.5812855101445, shape=(), dtype=float64)\n",
      "iter: 500 Total loss: tf.Tensor(120.92441573817678, shape=(), dtype=float64)\n",
      "iter: 600 Total loss: tf.Tensor(111.07055907441668, shape=(), dtype=float64)\n",
      "iter: 700 Total loss: tf.Tensor(102.89955604113523, shape=(), dtype=float64)\n",
      "iter: 800 Total loss: tf.Tensor(95.98570722449733, shape=(), dtype=float64)\n",
      "iter: 900 Total loss: tf.Tensor(90.49570993537036, shape=(), dtype=float64)\n",
      "iter: 1000 Total loss: tf.Tensor(86.16147970173584, shape=(), dtype=float64)\n",
      "iter: 1100 Total loss: tf.Tensor(82.91606963346254, shape=(), dtype=float64)\n",
      "iter: 1200 Total loss: tf.Tensor(80.51443110626747, shape=(), dtype=float64)\n",
      "iter: 1300 Total loss: tf.Tensor(78.27657308481159, shape=(), dtype=float64)\n",
      "iter: 1365 Total loss: tf.Tensor(76.99318463916197, shape=(), dtype=float64)\n"
     ]
    }
   ],
   "source": [
    "beta = result[1][1:,0:n_class]\n",
    "Y_final = result[1][1:embedding_dim+1,n_class:]\n",
    "\n",
    "A = X_test\n",
    "A_prime =tf.constant(A)\n",
    "\n",
    "\n",
    "X = np.random.uniform(-1,1, (A.shape[0], embedding_dim))\n",
    "X_prime = X\n",
    "X_prime = tf.Variable(X_prime)\n",
    "\n",
    "Y_prime = Y_final\n",
    "X_regularization_loss_list, Y_regularization_loss_list = [], []\n",
    "\n",
    "GLRM_loss_list = [{\n",
    "    \"A_start_row\": 0,\n",
    "    \"A_end_row\" : A_prime.shape[0],\n",
    "    \"A_start_col\" : 0,\n",
    "    \"A_end_col\" : A_prime.shape[1],\n",
    "\n",
    "    \"X_start_row\": 0,\n",
    "    \"X_end_row\" : X_prime.shape[0],\n",
    "    \"X_start_col\" : 0,\n",
    "    \"X_end_col\" : X_prime.shape[1],\n",
    "\n",
    "    \"Y_start_row\": 0,\n",
    "    \"Y_end_row\" : Y_prime.shape[0],\n",
    "    \"Y_start_col\" : 0,\n",
    "    \"Y_end_col\" : Y_prime.shape[1],\n",
    "    \"weight\": 1,\n",
    "    \"loss\": 'MAE'\n",
    "}]\n",
    "\n",
    "X_regularization_loss_list = [\n",
    "    {\n",
    "        \"X_start_row\": 0,\n",
    "        \"X_end_row\" : X.shape[0],\n",
    "        \"X_start_col\" : 0,\n",
    "        \"X_end_col\" : X.shape[1],\n",
    "        \"penalty_type\" : 'L2',\n",
    "        \"alpha\": 0.005\n",
    "    },\n",
    "    {\n",
    "        \"X_start_row\": 0,\n",
    "        \"X_end_row\" : X.shape[0],\n",
    "        \"X_start_col\" : 0,\n",
    "        \"X_end_col\" : X.shape[1],\n",
    "        \"penalty_type\" : 'L1',\n",
    "        \"alpha\": 0.\n",
    "    }\n",
    "]\n",
    "\n",
    "num_iterations=50000\n",
    "learning_rate=0.001\n",
    "result_val = predict(A_prime, X_prime, Y_prime, GLRM_loss_list, X_regularization_loss_list, Y_regularization_loss_list, num_iterations, learning_rate)"
   ]
  },
  {
   "cell_type": "code",
   "execution_count": 87,
   "id": "9b5f6089",
   "metadata": {},
   "outputs": [
    {
     "data": {
      "text/plain": [
       "0.42914647258765676"
      ]
     },
     "execution_count": 87,
     "metadata": {},
     "output_type": "execute_result"
    }
   ],
   "source": [
    "val_pred = np.hstack((result_val[0], A_prime))\n",
    "val_pred = np.hstack((val_pred, np.ones(shape=(val_pred.shape[0],1))))\n",
    "regress_val = np.matmul(val_pred, beta)\n",
    "np.mean((Y_test - regress_val)**2)"
   ]
  },
  {
   "cell_type": "code",
   "execution_count": 38,
   "id": "d376c42e",
   "metadata": {},
   "outputs": [
    {
     "data": {
      "text/plain": [
       "array([[ 2.30923451],\n",
       "       [ 0.50613568],\n",
       "       [-0.8628483 ],\n",
       "       [ 0.74312623],\n",
       "       [ 0.20962183],\n",
       "       [-0.55266391],\n",
       "       [-3.50156826],\n",
       "       [-2.65497436],\n",
       "       [-0.57342551],\n",
       "       [-2.41594279],\n",
       "       [-0.13582648],\n",
       "       [ 1.65054362],\n",
       "       [-1.98419775],\n",
       "       [ 0.55293849],\n",
       "       [-1.65754598],\n",
       "       [-0.78133466],\n",
       "       [-0.93538785],\n",
       "       [-0.73470754],\n",
       "       [ 1.15636356],\n",
       "       [ 0.0607335 ],\n",
       "       [-2.04546397],\n",
       "       [ 1.63477858],\n",
       "       [-1.20399331],\n",
       "       [ 0.08267352],\n",
       "       [ 0.02493476],\n",
       "       [-2.00865144],\n",
       "       [-1.57173321],\n",
       "       [ 1.12387255],\n",
       "       [-1.2316063 ],\n",
       "       [ 1.66820273]])"
      ]
     },
     "execution_count": 38,
     "metadata": {},
     "output_type": "execute_result"
    }
   ],
   "source": [
    "regress_val"
   ]
  },
  {
   "cell_type": "code",
   "execution_count": 41,
   "id": "0e30e421",
   "metadata": {},
   "outputs": [
    {
     "data": {
      "text/plain": [
       "array([[ 3.3375474],\n",
       "       [ 1.6956156],\n",
       "       [ 1.446919 ],\n",
       "       [ 1.4701758],\n",
       "       [ 2.8535925],\n",
       "       [ 2.7942279],\n",
       "       [ 1.2669476],\n",
       "       [ 4.029806 ],\n",
       "       [ 3.0130809],\n",
       "       [ 3.5307626],\n",
       "       [ 2.9204698],\n",
       "       [ 2.1575593],\n",
       "       [ 2.2137539],\n",
       "       [ 2.2975726],\n",
       "       [ 1.4929041],\n",
       "       [-0.1625189],\n",
       "       [ 3.5652984],\n",
       "       [ 2.0476928],\n",
       "       [ 1.5993876],\n",
       "       [ 2.5533438],\n",
       "       [ 3.4355988],\n",
       "       [ 2.8124102],\n",
       "       [ 2.5217206],\n",
       "       [-0.4307829],\n",
       "       [ 1.8484548],\n",
       "       [ 2.8419982],\n",
       "       [ 4.3851468],\n",
       "       [ 3.0373539],\n",
       "       [ 4.1295508],\n",
       "       [ 5.477509 ],\n",
       "       [ 1.3480731],\n",
       "       [ 2.677591 ],\n",
       "       [ 3.3928291],\n",
       "       [ 3.7123518],\n",
       "       [ 3.5876769],\n",
       "       [ 2.2772673],\n",
       "       [-0.1625189],\n",
       "       [ 2.5687881],\n",
       "       [-0.1625189],\n",
       "       [ 2.1916535],\n",
       "       [ 1.9242487],\n",
       "       [ 0.7654678],\n",
       "       [ 0.8544153],\n",
       "       [ 2.7180005],\n",
       "       [ 1.6389967],\n",
       "       [ 3.993603 ],\n",
       "       [ 2.9626924],\n",
       "       [ 1.7137979],\n",
       "       [ 3.2752562],\n",
       "       [ 2.8063861],\n",
       "       [ 2.9729753],\n",
       "       [ 3.6309855],\n",
       "       [ 1.2669476],\n",
       "       [ 2.6567569],\n",
       "       [ 1.8000583],\n",
       "       [ 3.9843437],\n",
       "       [ 4.6844434],\n",
       "       [ 3.4578927],\n",
       "       [ 3.5160131],\n",
       "       [ 1.5581446],\n",
       "       [ 2.9626924],\n",
       "       [ 3.6800909],\n",
       "       [ 0.3715636],\n",
       "       [ 1.8946169],\n",
       "       [ 2.3272777],\n",
       "       [ 1.2669476],\n",
       "       [ 2.008214 ]])"
      ]
     },
     "execution_count": 41,
     "metadata": {},
     "output_type": "execute_result"
    }
   ],
   "source": [
    "Y_train"
   ]
  },
  {
   "cell_type": "code",
   "execution_count": 216,
   "id": "65aee6e8",
   "metadata": {},
   "outputs": [
    {
     "data": {
      "text/plain": [
       "(array([[4601,  133],\n",
       "        [ 961,  305]]),\n",
       " array([[18416,   214],\n",
       "        [ 3461,  1909]]))"
      ]
     },
     "execution_count": 216,
     "metadata": {},
     "output_type": "execute_result"
    }
   ],
   "source": [
    "from sklearn.metrics import confusion_matrix\n",
    "\n",
    "confusion_matrix(Y_test, predictions_val), confusion_matrix(Y_train, predictions)"
   ]
  },
  {
   "cell_type": "code",
   "execution_count": 204,
   "id": "69c99ec4",
   "metadata": {},
   "outputs": [
    {
     "data": {
      "text/plain": [
       "(0.6715927750410509, 0.32306477093206953)"
      ]
     },
     "execution_count": 204,
     "metadata": {},
     "output_type": "execute_result"
    }
   ],
   "source": [
    "409/(409+200), 409/(409+857)"
   ]
  },
  {
   "cell_type": "code",
   "execution_count": 217,
   "id": "979995fb",
   "metadata": {},
   "outputs": [
    {
     "data": {
      "text/plain": [
       "(0.6963470319634704, 0.24091627172195892)"
      ]
     },
     "execution_count": 217,
     "metadata": {},
     "output_type": "execute_result"
    }
   ],
   "source": [
    "305/(305+133), 305/(305+961)"
   ]
  },
  {
   "cell_type": "code",
   "execution_count": 205,
   "id": "07698ffe",
   "metadata": {},
   "outputs": [
    {
     "data": {
      "text/plain": [
       "(0.7902534113060429, 0.37746741154562385)"
      ]
     },
     "execution_count": 205,
     "metadata": {},
     "output_type": "execute_result"
    }
   ],
   "source": [
    "2027/(2027+538), 2027/(2027+3343)"
   ]
  },
  {
   "cell_type": "code",
   "execution_count": 206,
   "id": "6a5846e8",
   "metadata": {},
   "outputs": [
    {
     "data": {
      "text/plain": [
       "(0.814375, 0.8043333333333333)"
      ]
     },
     "execution_count": 206,
     "metadata": {},
     "output_type": "execute_result"
    }
   ],
   "source": [
    "from sklearn.linear_model import LogisticRegression\n",
    "\n",
    "X_train_embedding = result[0][:, 1:embedding_dim+1]\n",
    "X_train_embedding = X_train_embedding.numpy()\n",
    "\n",
    "X_test_embedding = result_val[0].numpy()\n",
    "\n",
    "\n",
    "clf = LogisticRegression().fit(X_train_embedding, Y_train)\n",
    "pred_logistic = clf.predict(X_train_embedding)\n",
    "pred_logistic_val = clf.predict(X_test_embedding)\n",
    "accuracy_score(Y_train, pred_logistic), accuracy_score(Y_test, pred_logistic_val)"
   ]
  },
  {
   "cell_type": "code",
   "execution_count": 208,
   "id": "21d387d1",
   "metadata": {},
   "outputs": [
    {
     "data": {
      "text/plain": [
       "(array([[4498,  236],\n",
       "        [ 938,  328]]),\n",
       " array([[17980,   650],\n",
       "        [ 3805,  1565]]))"
      ]
     },
     "execution_count": 208,
     "metadata": {},
     "output_type": "execute_result"
    }
   ],
   "source": [
    "confusion_matrix(Y_test, pred_logistic_val), confusion_matrix(Y_train, pred_logistic)"
   ]
  },
  {
   "cell_type": "code",
   "execution_count": 209,
   "id": "f17149e4",
   "metadata": {},
   "outputs": [
    {
     "data": {
      "text/plain": [
       "(0.5815602836879432, 0.25908372827804105)"
      ]
     },
     "execution_count": 209,
     "metadata": {},
     "output_type": "execute_result"
    }
   ],
   "source": [
    "328/(328+236), 328/(328+938)"
   ]
  },
  {
   "cell_type": "code",
   "execution_count": 210,
   "id": "aedaa965",
   "metadata": {},
   "outputs": [
    {
     "data": {
      "text/plain": [
       "(0.7065462753950339, 0.2914338919925512)"
      ]
     },
     "execution_count": 210,
     "metadata": {},
     "output_type": "execute_result"
    }
   ],
   "source": [
    "1565/(1565+650), 1565/(1565+3805)"
   ]
  },
  {
   "cell_type": "code",
   "execution_count": 183,
   "id": "9377afd4",
   "metadata": {},
   "outputs": [
    {
     "data": {
      "text/plain": [
       "<tf.Tensor: shape=(24,), dtype=float64, numpy=\n",
       "array([-0.06078221, -0.08096537,  0.07017905, -0.22062607,  0.35488053,\n",
       "        0.39862827,  0.2153722 ,  0.06315138,  0.01180752,  0.06021941,\n",
       "        0.04830898, -0.18859167,  0.08307187,  0.16422852,  0.00642617,\n",
       "        0.14052606,  0.0896697 , -0.22232949, -0.17849683, -0.08283164,\n",
       "       -0.11471487, -0.12704948, -0.07854479, -1.26667971])>"
      ]
     },
     "execution_count": 183,
     "metadata": {},
     "output_type": "execute_result"
    }
   ],
   "source": [
    "beta[5:]"
   ]
  },
  {
   "cell_type": "code",
   "execution_count": null,
   "id": "6461d6e4",
   "metadata": {},
   "outputs": [],
   "source": []
  },
  {
   "cell_type": "code",
   "execution_count": 163,
   "id": "d1db71d5",
   "metadata": {},
   "outputs": [
    {
     "data": {
      "text/plain": [
       "<tf.Tensor: shape=(23,), dtype=float64, numpy=\n",
       "array([-0.8944437 , -1.29999224,  0.19562207,  0.8480684 , -1.33541679,\n",
       "        1.78308844,  1.76876603,  0.12852902,  0.18145061,  0.22244805,\n",
       "        0.24003907,  0.00893509,  0.01580282,  0.03063303,  0.02771253,\n",
       "       -0.31078083, -0.31270152, -0.36732258, -0.16417763, -0.16869953,\n",
       "       -0.18406823, -0.26715539, -0.25424832])>"
      ]
     },
     "execution_count": 163,
     "metadata": {},
     "output_type": "execute_result"
    }
   ],
   "source": [
    "A_prime[0]"
   ]
  },
  {
   "cell_type": "code",
   "execution_count": null,
   "id": "17cabbd3",
   "metadata": {},
   "outputs": [],
   "source": [
    "x_embeddings"
   ]
  },
  {
   "cell_type": "code",
   "execution_count": 62,
   "id": "c98a3071",
   "metadata": {
    "scrolled": true
   },
   "outputs": [
    {
     "data": {
      "text/plain": [
       "array([0.34780297, 0.16671354, 0.16582201, 0.64219219, 0.1262042 ,\n",
       "       0.20658415, 0.08178106, 0.15208459, 0.1876595 , 0.15627313])"
      ]
     },
     "execution_count": 62,
     "metadata": {},
     "output_type": "execute_result"
    }
   ],
   "source": [
    "prob_val[0:10]"
   ]
  },
  {
   "cell_type": "code",
   "execution_count": 63,
   "id": "e9bc4471",
   "metadata": {},
   "outputs": [
    {
     "data": {
      "text/plain": [
       "array([0.34500034, 0.21897527, 0.21774101, 0.24583357, 0.30727848,\n",
       "       0.22784088, 0.50308932, 0.13373273, 0.30618575, 0.07753649])"
      ]
     },
     "execution_count": 63,
     "metadata": {},
     "output_type": "execute_result"
    }
   ],
   "source": [
    "prob[0:10]"
   ]
  },
  {
   "cell_type": "code",
   "execution_count": null,
   "id": "4508e482",
   "metadata": {},
   "outputs": [],
   "source": [
    "temp = tf.Variable([1,1,1])\n",
    "tf.where(temp!=1).shape[0]\n",
    "# tf.where([True, False, False, True]).numpy()"
   ]
  },
  {
   "cell_type": "code",
   "execution_count": 151,
   "id": "c6dcba4d",
   "metadata": {},
   "outputs": [
    {
     "data": {
      "text/plain": [
       "array([-1.9516478 , -2.04629543, -1.70377307, -2.15427262, -1.38936124,\n",
       "       -1.20421852, -1.29999224, -2.36851212, -2.98284474, -1.55114657,\n",
       "       -1.77752498, -1.56302776, -1.53258922, -1.53304331, -1.53661396,\n",
       "       -1.48686073, -0.85538492, -1.65103594, -1.35636746, -1.70503041,\n",
       "       -1.67992001, -4.18589619, -0.3678535 , -0.2796292 , -0.30874059,\n",
       "       -0.31871886, -0.31325859, -0.29435041,  1.        ])"
      ]
     },
     "execution_count": 151,
     "metadata": {},
     "output_type": "execute_result"
    }
   ],
   "source": [
    "np.min(val_pred,axis=0)"
   ]
  },
  {
   "cell_type": "code",
   "execution_count": 152,
   "id": "7ddcd2bf",
   "metadata": {},
   "outputs": [
    {
     "data": {
      "text/plain": [
       "array([ 0.        , -2.11853932, -1.95478155, -2.32238873, -1.65901012,\n",
       "       -1.37094107, -1.20421852, -1.29999224, -2.36851212, -2.98284474,\n",
       "       -1.55114657, -1.77752498, -1.56302776, -1.53258922, -1.53304331,\n",
       "       -1.53661396, -1.48686073, -2.97568136, -1.68302713, -2.986122  ,\n",
       "       -3.36721611, -2.01072475, -6.39286167, -0.3678535 , -0.2796292 ,\n",
       "       -0.30874059, -0.31871886, -0.31325859, -0.29435041,  1.        ])"
      ]
     },
     "execution_count": 152,
     "metadata": {},
     "output_type": "execute_result"
    }
   ],
   "source": [
    "np.min(result[0],axis=0)"
   ]
  },
  {
   "cell_type": "code",
   "execution_count": 153,
   "id": "2100c827",
   "metadata": {},
   "outputs": [
    {
     "data": {
      "text/plain": [
       "<tf.Tensor: shape=(29,), dtype=float64, numpy=\n",
       "array([ 2.32920304,  1.87744885,  2.28603496,  0.0193024 ,  1.94286537,\n",
       "       -0.05994122, -0.09603823, -0.12248185, -0.20116798,  0.17172587,\n",
       "        0.24053478,  0.05275302, -0.00564511, -0.04167461,  0.09804698,\n",
       "        0.02832339, -0.25440925,  0.18297612, -0.08606386, -0.02333948,\n",
       "       -0.24518346,  0.50206154, -0.1084216 , -0.01720935, -0.23590036,\n",
       "        0.28719348,  0.0371344 ,  0.08209635, -1.26288559])>"
      ]
     },
     "execution_count": 153,
     "metadata": {},
     "output_type": "execute_result"
    }
   ],
   "source": [
    "beta"
   ]
  },
  {
   "cell_type": "code",
   "execution_count": 69,
   "id": "3ada90a3",
   "metadata": {},
   "outputs": [
    {
     "data": {
      "text/plain": [
       "<tf.Tensor: shape=(7, 29), dtype=float64, numpy=\n",
       "array([[ 0.00000000e+00,  2.79704164e-02,  1.24598251e-01,\n",
       "         8.08389672e-03, -1.64245262e-01, -8.94443705e-01,\n",
       "         7.69235361e-01,  1.95622071e-01, -1.06738817e+00,\n",
       "         1.74691685e-01,  2.78172924e-03,  1.02869133e-01,\n",
       "         1.28529024e-01,  1.81450606e-01,  2.22448051e-01,\n",
       "         2.40039073e-01, -4.96488771e-02, -5.87046225e-03,\n",
       "         4.28777847e-02, -2.22836998e-01, -1.82979704e-01,\n",
       "        -1.52426383e-01, -2.35124189e-01, -1.82546015e-01,\n",
       "        -2.34184570e-01, -2.44808832e-01, -2.43252446e-01,\n",
       "        -2.37628924e-01,  1.00000000e+00],\n",
       "       [ 0.00000000e+00, -2.86595088e-02,  1.35622732e-01,\n",
       "        -2.72350274e-01, -4.77846802e-01, -8.94443705e-01,\n",
       "        -1.29999224e+00,  1.95622071e-01, -1.06738817e+00,\n",
       "         2.33198950e+00, -8.87371627e-01,  1.02869133e-01,\n",
       "        -7.02030096e-01,  1.81450606e-01,  2.22448051e-01,\n",
       "         2.40039073e-01, -5.77854383e-01, -6.10775294e-01,\n",
       "        -1.54446033e-01, -3.39755882e-01, -3.45598022e-01,\n",
       "        -3.28507580e-01, -2.35124189e-01,  1.48416884e+00,\n",
       "         3.12559602e-01,  2.85999558e-01, -2.68137700e-01,\n",
       "        -2.55836520e-01,  1.00000000e+00],\n",
       "       [ 0.00000000e+00,  1.17330722e-01, -2.64749844e-02,\n",
       "        -1.84203187e-01,  7.09118136e-02, -8.94443705e-01,\n",
       "        -1.29999224e+00, -1.08644502e+00,  8.48068396e-01,\n",
       "         1.74691685e-01,  2.78172924e-03,  1.02869133e-01,\n",
       "         1.28529024e-01,  1.81450606e-01,  2.22448051e-01,\n",
       "         2.40039073e-01,  1.90000299e-01,  1.19706661e-01,\n",
       "         1.64841384e-01, -3.64268575e-01, -3.37759597e-01,\n",
       "        -3.13411525e-01, -2.01941862e-01, -1.92355311e-01,\n",
       "        -2.67921171e-01, -2.51527926e-01, -2.47771084e-01,\n",
       "        -2.48973220e-01,  1.00000000e+00],\n",
       "       [ 0.00000000e+00, -6.05912198e-01, -3.86277143e-01,\n",
       "        -3.68982796e-01,  1.62826294e-01,  2.59052299e+00,\n",
       "        -1.29999224e+00, -1.08644502e+00,  8.48068396e-01,\n",
       "        -6.88227442e-01,  2.78172924e-03,  1.02869133e-01,\n",
       "         1.28529024e-01,  1.81450606e-01,  2.22448051e-01,\n",
       "         2.40039073e-01,  4.36858171e+00,  5.16430853e+00,\n",
       "         5.84580523e+00,  7.93229480e+00,  7.34131168e+00,\n",
       "         7.36005017e+00,  3.28220246e+00,  1.64376225e+00,\n",
       "         2.05220015e+00,  1.04115848e+00,  5.87194682e-01,\n",
       "         4.86704406e-01,  1.00000000e+00],\n",
       "       [ 0.00000000e+00, -4.72709750e-02,  1.89276985e-01,\n",
       "         6.10510562e-01, -6.72602754e-03, -5.07225183e-01,\n",
       "         7.69235361e-01,  1.95622071e-01,  8.48068396e-01,\n",
       "        -1.33541679e+00,  2.78172924e-03, -7.30079315e-01,\n",
       "        -7.02030096e-01,  1.81450606e-01,  2.22448051e-01,\n",
       "        -6.23410831e-01, -5.32994149e-01, -6.85956708e-01,\n",
       "        -6.71130589e-01, -6.68267187e-01, -6.65515134e-01,\n",
       "        -6.42329714e-01, -3.42634928e-01, -2.50730242e-01,\n",
       "        -3.08740594e-01, -2.79680928e-01, -2.02781164e-01,\n",
       "        -2.06885880e-01,  1.00000000e+00],\n",
       "       [ 0.00000000e+00,  6.25664083e-02,  8.32136782e-02,\n",
       "        -1.78771143e-01, -6.26716247e-02, -1.97450365e-01,\n",
       "         7.69235361e-01,  1.47768916e+00, -1.06738817e+00,\n",
       "        -7.96092333e-01,  2.78172924e-03,  1.02869133e-01,\n",
       "         1.78964726e+00,  1.81450606e-01,  2.22448051e-01,\n",
       "         2.40039073e-01, -5.41129282e-01, -4.91025085e-01,\n",
       "        -5.02387636e-01, -4.78159047e-01, -4.67449901e-01,\n",
       "        -5.89045542e-01, -1.46925564e-01, -2.79629198e-01,\n",
       "        -2.81900425e-01, -2.51527926e-01, -2.47771084e-01,\n",
       "        -2.37628924e-01,  1.00000000e+00],\n",
       "       [ 0.00000000e+00,  4.16851089e-01,  3.47443495e-01,\n",
       "         4.90604717e-01, -1.30320072e-01, -1.12677482e+00,\n",
       "        -1.29999224e+00,  1.47768916e+00,  8.48068396e-01,\n",
       "        -4.10380966e-02, -1.77752498e+00, -1.56302776e+00,\n",
       "        -1.53258922e+00, -1.53304331e+00, -6.57082957e-01,\n",
       "        -6.23410831e-01, -6.96467648e-01, -6.91357264e-01,\n",
       "        -6.79943877e-01, -6.71771265e-01, -4.47331829e-01,\n",
       "        -4.16734132e-01, -3.67853497e-01, -2.79629198e-01,\n",
       "        -3.08740594e-01,  5.55233637e-01, -2.39781608e-01,\n",
       "        -2.94350406e-01,  1.00000000e+00]])>"
      ]
     },
     "execution_count": 69,
     "metadata": {},
     "output_type": "execute_result"
    }
   ],
   "source": [
    "result[0][3:10,:]"
   ]
  }
 ],
 "metadata": {
  "kernelspec": {
   "display_name": "Python 3 (ipykernel)",
   "language": "python",
   "name": "python3"
  },
  "language_info": {
   "codemirror_mode": {
    "name": "ipython",
    "version": 3
   },
   "file_extension": ".py",
   "mimetype": "text/x-python",
   "name": "python",
   "nbconvert_exporter": "python",
   "pygments_lexer": "ipython3",
   "version": "3.9.10"
  }
 },
 "nbformat": 4,
 "nbformat_minor": 5
}
