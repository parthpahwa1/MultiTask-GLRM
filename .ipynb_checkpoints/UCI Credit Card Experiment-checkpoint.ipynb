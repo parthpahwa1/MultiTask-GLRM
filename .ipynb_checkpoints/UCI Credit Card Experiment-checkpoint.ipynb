{
 "cells": [
  {
   "cell_type": "code",
   "execution_count": 211,
   "id": "8541f4bf",
   "metadata": {},
   "outputs": [
    {
     "name": "stdout",
     "output_type": "stream",
     "text": [
      "The autoreload extension is already loaded. To reload it, use:\n",
      "  %reload_ext autoreload\n"
     ]
    }
   ],
   "source": [
    "import tensorflow as tf\n",
    "import numpy as np\n",
    "import pandas as pd\n",
    "from sklearn.linear_model import LogisticRegression\n",
    "from sklearn.metrics import accuracy_score\n",
    "from sklearn.preprocessing import StandardScaler\n",
    "import semisupervised_params\n",
    "from supervised_embedding_params import Multilearn_GLRM_GetEmbedding\n",
    "from importlib import reload\n",
    "import Multi_Learn\n",
    "import generate_AXY\n",
    "%load_ext autoreload\n",
    "%autoreload 2"
   ]
  },
  {
   "cell_type": "code",
   "execution_count": 3,
   "id": "6d51f914",
   "metadata": {},
   "outputs": [],
   "source": [
    "df_credit_card = pd.read_excel('default of credit card clients.xls', header=1)\n",
    "df_train = df_credit_card.drop(columns=['ID']).iloc[0:int(df_credit_card.shape[0]*0.8), :]\n",
    "df_test = df_credit_card.drop(columns=['ID']).iloc[int(df_credit_card.shape[0]*0.8):, :]\n",
    "\n",
    "X_train = df_train.drop(columns=['default payment next month'])\n",
    "Y_train = df_train['default payment next month']\n",
    "\n",
    "X_test = df_test.drop(columns=['default payment next month'])\n",
    "Y_test = df_test['default payment next month']\n",
    "\n",
    "scaler = StandardScaler()\n",
    "X_train = scaler.fit_transform(X_train)\n",
    "X_test = scaler.transform(X_test)"
   ]
  },
  {
   "cell_type": "code",
   "execution_count": 212,
   "id": "96597f86",
   "metadata": {},
   "outputs": [
    {
     "name": "stdout",
     "output_type": "stream",
     "text": [
      "epoch: 0\n",
      "iter: 0 Total loss: tf.Tensor(13.951201164114487, shape=(), dtype=float64)\n",
      "iter: 100 Total loss: tf.Tensor(8.139958921176417, shape=(), dtype=float64)\n",
      "iter: 200 Total loss: tf.Tensor(6.7087057110508095, shape=(), dtype=float64)\n",
      "iter: 237 Total loss: tf.Tensor(6.545160103501457, shape=(), dtype=float64)\n",
      "iter: 0 Total loss: tf.Tensor(6.541983664424204, shape=(), dtype=float64)\n",
      "iter: 100 Total loss: tf.Tensor(4.670891431816801, shape=(), dtype=float64)\n",
      "iter: 104 Total loss: tf.Tensor(4.661395847171585, shape=(), dtype=float64)\n",
      "epoch: 1\n",
      "iter: 0 Total loss: tf.Tensor(4.659124890225011, shape=(), dtype=float64)\n",
      "iter: 59 Total loss: tf.Tensor(3.8281894554842375, shape=(), dtype=float64)\n",
      "iter: 0 Total loss: tf.Tensor(3.8263880149067053, shape=(), dtype=float64)\n",
      "iter: 64 Total loss: tf.Tensor(3.468579971888763, shape=(), dtype=float64)\n",
      "epoch: 2\n",
      "iter: 0 Total loss: tf.Tensor(3.4668886291817858, shape=(), dtype=float64)\n",
      "iter: 22 Total loss: tf.Tensor(3.3650444472353627, shape=(), dtype=float64)\n",
      "iter: 0 Total loss: tf.Tensor(3.363480289201027, shape=(), dtype=float64)\n",
      "iter: 32 Total loss: tf.Tensor(3.2782770370330816, shape=(), dtype=float64)\n",
      "epoch: 3\n",
      "iter: 0 Total loss: tf.Tensor(3.276711782986656, shape=(), dtype=float64)\n",
      "iter: 11 Total loss: tf.Tensor(3.247664029784961, shape=(), dtype=float64)\n",
      "iter: 0 Total loss: tf.Tensor(3.2462681090487373, shape=(), dtype=float64)\n",
      "iter: 16 Total loss: tf.Tensor(3.2142180636977766, shape=(), dtype=float64)\n",
      "epoch: 4\n",
      "iter: 0 Total loss: tf.Tensor(3.2126911382598387, shape=(), dtype=float64)\n",
      "iter: 5 Total loss: tf.Tensor(3.2029529388094784, shape=(), dtype=float64)\n",
      "iter: 0 Total loss: tf.Tensor(3.20157023507472, shape=(), dtype=float64)\n",
      "iter: 7 Total loss: tf.Tensor(3.1894045581298522, shape=(), dtype=float64)\n",
      "epoch: 5\n",
      "iter: 0 Total loss: tf.Tensor(3.1878762001546206, shape=(), dtype=float64)\n",
      "iter: 2 Total loss: tf.Tensor(3.184604785330702, shape=(), dtype=float64)\n",
      "iter: 0 Total loss: tf.Tensor(3.183230871120698, shape=(), dtype=float64)\n",
      "iter: 3 Total loss: tf.Tensor(3.1783508658065895, shape=(), dtype=float64)\n",
      "epoch: 6\n",
      "iter: 0 Total loss: tf.Tensor(3.176825849252356, shape=(), dtype=float64)\n",
      "iter: 1 Total loss: tf.Tensor(3.175365315519617, shape=(), dtype=float64)\n",
      "iter: 0 Total loss: tf.Tensor(3.174060528491144, shape=(), dtype=float64)\n",
      "iter: 2 Total loss: tf.Tensor(3.170914551807235, shape=(), dtype=float64)\n",
      "epoch: 7\n",
      "iter: 0 Total loss: tf.Tensor(3.1694161667763048, shape=(), dtype=float64)\n",
      "iter: 1 Total loss: tf.Tensor(3.1680846891734338, shape=(), dtype=float64)\n",
      "iter: 0 Total loss: tf.Tensor(3.166892296783929, shape=(), dtype=float64)\n",
      "iter: 1 Total loss: tf.Tensor(3.1653266339528647, shape=(), dtype=float64)\n",
      "epoch: 8\n",
      "iter: 0 Total loss: tf.Tensor(3.1638117320254837, shape=(), dtype=float64)\n",
      "iter: 1 Total loss: tf.Tensor(3.162641127365781, shape=(), dtype=float64)\n",
      "iter: 0 Total loss: tf.Tensor(3.1615881588660724, shape=(), dtype=float64)\n",
      "iter: 1 Total loss: tf.Tensor(3.1600152654096494, shape=(), dtype=float64)\n",
      "epoch: 9\n",
      "iter: 0 Total loss: tf.Tensor(3.158494158439609, shape=(), dtype=float64)\n",
      "iter: 1 Total loss: tf.Tensor(3.157454159315654, shape=(), dtype=float64)\n",
      "iter: 0 Total loss: tf.Tensor(3.156517162041977, shape=(), dtype=float64)\n",
      "iter: 1 Total loss: tf.Tensor(3.1549450118110527, shape=(), dtype=float64)\n",
      "tf.Tensor(\n",
      "[ 0.          0.10464624  0.05152107 -0.1801013   0.10323447 -0.086852\n",
      " -1.12677482  0.76923536  0.19562207 -1.06738817 -1.2275519   1.78308844\n",
      "  1.76876603 -0.7020301  -0.67579635 -1.53661396 -1.48686073 -0.64260509\n",
      " -0.64727168 -0.66984012 -0.67177126 -0.66288023 -0.65191478 -0.3678535\n",
      " -0.24649878 -0.30874059 -0.31871886 -0.31325859 -0.29435041  1.        ], shape=(30,), dtype=float64)\n"
     ]
    }
   ],
   "source": [
    "reload(semisupervised_params)\n",
    "reload(Multi_Learn)\n",
    "reload(generate_AXY)\n",
    "from semisupervised_params import Multilearn_GLRM_Semisupervised\n",
    "from Multi_Learn import alternating_minimization, predict \n",
    "from generate_AXY import get_semisupervised_glrm_train_form\n",
    "\n",
    "embedding_dim = 5\n",
    "\n",
    "A_prime, X_prime, Y_prime = get_semisupervised_glrm_train_form(X_train, Y_train)\n",
    "[GLRM_loss_list, X_regularization_loss_list, Y_regularization_loss_list] = Multilearn_GLRM_Semisupervised(A_prime, X_prime, Y_prime)\n",
    "\n",
    "num_iterations=100000\n",
    "learning_rate=0.005\n",
    "result = alternating_minimization(A_prime, X_prime, Y_prime, GLRM_loss_list, X_regularization_loss_list, Y_regularization_loss_list, num_iterations, learning_rate)"
   ]
  },
  {
   "cell_type": "code",
   "execution_count": 213,
   "id": "558196dc",
   "metadata": {},
   "outputs": [
    {
     "data": {
      "text/plain": [
       "0.846875"
      ]
     },
     "execution_count": 213,
     "metadata": {},
     "output_type": "execute_result"
    }
   ],
   "source": [
    "prob = np.matmul(result[0], result[1][:,0])\n",
    "prob = np.exp(prob)/(1+np.exp(prob))\n",
    "predictions = [1 if x >= 0.5 else 0 for x in prob]\n",
    "accuracy_score(Y_train, predictions)"
   ]
  },
  {
   "cell_type": "code",
   "execution_count": 214,
   "id": "918b960c",
   "metadata": {
    "scrolled": true
   },
   "outputs": [
    {
     "name": "stdout",
     "output_type": "stream",
     "text": [
      "iter: 0 Total loss: tf.Tensor(128.55204826270014, shape=(), dtype=float64)\n",
      "iter: 100 Total loss: tf.Tensor(40.3683881227587, shape=(), dtype=float64)\n",
      "iter: 200 Total loss: tf.Tensor(18.78337658005118, shape=(), dtype=float64)\n",
      "iter: 300 Total loss: tf.Tensor(13.916675651541675, shape=(), dtype=float64)\n",
      "iter: 400 Total loss: tf.Tensor(12.72761664133808, shape=(), dtype=float64)\n",
      "iter: 500 Total loss: tf.Tensor(12.350638247896429, shape=(), dtype=float64)\n",
      "iter: 600 Total loss: tf.Tensor(12.177642825438333, shape=(), dtype=float64)\n",
      "iter: 615 Total loss: tf.Tensor(12.15888532813026, shape=(), dtype=float64)\n"
     ]
    }
   ],
   "source": [
    "beta = result[1][1:,0]\n",
    "Y_final = result[1][1:embedding_dim+1,1:]\n",
    "Y_final.shape, beta.shape\n",
    "\n",
    "A = X_test\n",
    "A_prime =tf.constant(A)\n",
    "\n",
    "\n",
    "X = np.random.uniform(-1,1, (A.shape[0], embedding_dim))\n",
    "X_prime = X\n",
    "X_prime = tf.Variable(X_prime)\n",
    "\n",
    "Y_prime = Y_final\n",
    "X_regularization_loss_list, Y_regularization_loss_list = [], []\n",
    "\n",
    "GLRM_loss_list = [{\n",
    "    \"A_start_row\": 0,\n",
    "    \"A_end_row\" : A_prime.shape[0],\n",
    "    \"A_start_col\" : 0,\n",
    "    \"A_end_col\" : A_prime.shape[1],\n",
    "\n",
    "    \"X_start_row\": 0,\n",
    "    \"X_end_row\" : X_prime.shape[0],\n",
    "    \"X_start_col\" : 0,\n",
    "    \"X_end_col\" : X_prime.shape[1],\n",
    "\n",
    "    \"Y_start_row\": 0,\n",
    "    \"Y_end_row\" : Y_prime.shape[0],\n",
    "    \"Y_start_col\" : 0,\n",
    "    \"Y_end_col\" : Y_prime.shape[1],\n",
    "    \"weight\": 1,\n",
    "    \"loss\": 'MSE'\n",
    "}]\n",
    "\n",
    "X_regularization_loss_list = [\n",
    "    {\n",
    "        \"X_start_row\": 0,\n",
    "        \"X_end_row\" : X.shape[0],\n",
    "        \"X_start_col\" : 1,\n",
    "        \"X_end_col\" : X.shape[1],\n",
    "        \"penalty_type\" : 'L2',\n",
    "        \"alpha\": 0.0005\n",
    "    }\n",
    "]\n",
    "\n",
    "num_iterations=50000\n",
    "learning_rate=0.005\n",
    "result_val = preditct(A_prime, X_prime, Y_prime, GLRM_loss_list, X_regularization_loss_list, Y_regularization_loss_list, num_iterations, learning_rate)"
   ]
  },
  {
   "cell_type": "code",
   "execution_count": 215,
   "id": "9b5f6089",
   "metadata": {},
   "outputs": [
    {
     "data": {
      "text/plain": [
       "0.8176666666666667"
      ]
     },
     "execution_count": 215,
     "metadata": {},
     "output_type": "execute_result"
    }
   ],
   "source": [
    "val_pred = np.hstack((result_val[0], A_prime))\n",
    "val_pred = np.hstack((val_pred, np.ones(shape=(val_pred.shape[0],1))))\n",
    "prob_val = np.matmul(val_pred, beta)\n",
    "prob_val = np.exp(prob_val)/(1+np.exp(prob_val))\n",
    "predictions_val = [1 if x >= 0.5 else 0 for x in prob_val]\n",
    "accuracy_score(Y_test, predictions_val)"
   ]
  },
  {
   "cell_type": "code",
   "execution_count": 216,
   "id": "effa4a1d",
   "metadata": {},
   "outputs": [
    {
     "data": {
      "text/plain": [
       "(array([[4601,  133],\n",
       "        [ 961,  305]]),\n",
       " array([[18416,   214],\n",
       "        [ 3461,  1909]]))"
      ]
     },
     "execution_count": 216,
     "metadata": {},
     "output_type": "execute_result"
    }
   ],
   "source": [
    "from sklearn.metrics import confusion_matrix\n",
    "\n",
    "confusion_matrix(Y_test, predictions_val), confusion_matrix(Y_train, predictions)"
   ]
  },
  {
   "cell_type": "code",
   "execution_count": 204,
   "id": "7ca7fbf1",
   "metadata": {},
   "outputs": [
    {
     "data": {
      "text/plain": [
       "(0.6715927750410509, 0.32306477093206953)"
      ]
     },
     "execution_count": 204,
     "metadata": {},
     "output_type": "execute_result"
    }
   ],
   "source": [
    "409/(409+200), 409/(409+857)"
   ]
  },
  {
   "cell_type": "code",
   "execution_count": 217,
   "id": "0b442a5c",
   "metadata": {},
   "outputs": [
    {
     "data": {
      "text/plain": [
       "(0.6963470319634704, 0.24091627172195892)"
      ]
     },
     "execution_count": 217,
     "metadata": {},
     "output_type": "execute_result"
    }
   ],
   "source": [
    "305/(305+133), 305/(305+961)"
   ]
  },
  {
   "cell_type": "code",
   "execution_count": 205,
   "id": "18a4b495",
   "metadata": {},
   "outputs": [
    {
     "data": {
      "text/plain": [
       "(0.7902534113060429, 0.37746741154562385)"
      ]
     },
     "execution_count": 205,
     "metadata": {},
     "output_type": "execute_result"
    }
   ],
   "source": [
    "2027/(2027+538), 2027/(2027+3343)"
   ]
  },
  {
   "cell_type": "code",
   "execution_count": 206,
   "id": "f7e72441",
   "metadata": {},
   "outputs": [
    {
     "data": {
      "text/plain": [
       "(0.814375, 0.8043333333333333)"
      ]
     },
     "execution_count": 206,
     "metadata": {},
     "output_type": "execute_result"
    }
   ],
   "source": [
    "from sklearn.linear_model import LogisticRegression\n",
    "\n",
    "X_train_embedding = result[0][:, 1:embedding_dim+1]\n",
    "X_train_embedding = X_train_embedding.numpy()\n",
    "\n",
    "X_test_embedding = result_val[0].numpy()\n",
    "\n",
    "\n",
    "clf = LogisticRegression().fit(X_train_embedding, Y_train)\n",
    "pred_logistic = clf.predict(X_train_embedding)\n",
    "pred_logistic_val = clf.predict(X_test_embedding)\n",
    "accuracy_score(Y_train, pred_logistic), accuracy_score(Y_test, pred_logistic_val)"
   ]
  },
  {
   "cell_type": "code",
   "execution_count": 208,
   "id": "31ff9640",
   "metadata": {},
   "outputs": [
    {
     "data": {
      "text/plain": [
       "(array([[4498,  236],\n",
       "        [ 938,  328]]),\n",
       " array([[17980,   650],\n",
       "        [ 3805,  1565]]))"
      ]
     },
     "execution_count": 208,
     "metadata": {},
     "output_type": "execute_result"
    }
   ],
   "source": [
    "confusion_matrix(Y_test, pred_logistic_val), confusion_matrix(Y_train, pred_logistic)"
   ]
  },
  {
   "cell_type": "code",
   "execution_count": 209,
   "id": "24d0caac",
   "metadata": {},
   "outputs": [
    {
     "data": {
      "text/plain": [
       "(0.5815602836879432, 0.25908372827804105)"
      ]
     },
     "execution_count": 209,
     "metadata": {},
     "output_type": "execute_result"
    }
   ],
   "source": [
    "328/(328+236), 328/(328+938)"
   ]
  },
  {
   "cell_type": "code",
   "execution_count": 210,
   "id": "15512ae9",
   "metadata": {},
   "outputs": [
    {
     "data": {
      "text/plain": [
       "(0.7065462753950339, 0.2914338919925512)"
      ]
     },
     "execution_count": 210,
     "metadata": {},
     "output_type": "execute_result"
    }
   ],
   "source": [
    "1565/(1565+650), 1565/(1565+3805)"
   ]
  },
  {
   "cell_type": "code",
   "execution_count": 183,
   "id": "54e8e32f",
   "metadata": {},
   "outputs": [
    {
     "data": {
      "text/plain": [
       "<tf.Tensor: shape=(24,), dtype=float64, numpy=\n",
       "array([-0.06078221, -0.08096537,  0.07017905, -0.22062607,  0.35488053,\n",
       "        0.39862827,  0.2153722 ,  0.06315138,  0.01180752,  0.06021941,\n",
       "        0.04830898, -0.18859167,  0.08307187,  0.16422852,  0.00642617,\n",
       "        0.14052606,  0.0896697 , -0.22232949, -0.17849683, -0.08283164,\n",
       "       -0.11471487, -0.12704948, -0.07854479, -1.26667971])>"
      ]
     },
     "execution_count": 183,
     "metadata": {},
     "output_type": "execute_result"
    }
   ],
   "source": [
    "beta[5:]"
   ]
  },
  {
   "cell_type": "code",
   "execution_count": null,
   "id": "1236099e",
   "metadata": {},
   "outputs": [],
   "source": []
  },
  {
   "cell_type": "code",
   "execution_count": 163,
   "id": "2e130cfa",
   "metadata": {},
   "outputs": [
    {
     "data": {
      "text/plain": [
       "<tf.Tensor: shape=(23,), dtype=float64, numpy=\n",
       "array([-0.8944437 , -1.29999224,  0.19562207,  0.8480684 , -1.33541679,\n",
       "        1.78308844,  1.76876603,  0.12852902,  0.18145061,  0.22244805,\n",
       "        0.24003907,  0.00893509,  0.01580282,  0.03063303,  0.02771253,\n",
       "       -0.31078083, -0.31270152, -0.36732258, -0.16417763, -0.16869953,\n",
       "       -0.18406823, -0.26715539, -0.25424832])>"
      ]
     },
     "execution_count": 163,
     "metadata": {},
     "output_type": "execute_result"
    }
   ],
   "source": [
    "A_prime[0]"
   ]
  },
  {
   "cell_type": "code",
   "execution_count": null,
   "id": "22f49a77",
   "metadata": {},
   "outputs": [],
   "source": [
    "x_embeddings"
   ]
  },
  {
   "cell_type": "code",
   "execution_count": 62,
   "id": "c98a3071",
   "metadata": {
    "scrolled": true
   },
   "outputs": [
    {
     "data": {
      "text/plain": [
       "array([0.34780297, 0.16671354, 0.16582201, 0.64219219, 0.1262042 ,\n",
       "       0.20658415, 0.08178106, 0.15208459, 0.1876595 , 0.15627313])"
      ]
     },
     "execution_count": 62,
     "metadata": {},
     "output_type": "execute_result"
    }
   ],
   "source": [
    "prob_val[0:10]"
   ]
  },
  {
   "cell_type": "code",
   "execution_count": 63,
   "id": "e9bc4471",
   "metadata": {},
   "outputs": [
    {
     "data": {
      "text/plain": [
       "array([0.34500034, 0.21897527, 0.21774101, 0.24583357, 0.30727848,\n",
       "       0.22784088, 0.50308932, 0.13373273, 0.30618575, 0.07753649])"
      ]
     },
     "execution_count": 63,
     "metadata": {},
     "output_type": "execute_result"
    }
   ],
   "source": [
    "prob[0:10]"
   ]
  },
  {
   "cell_type": "code",
   "execution_count": null,
   "id": "4508e482",
   "metadata": {},
   "outputs": [],
   "source": [
    "temp = tf.Variable([1,1,1])\n",
    "tf.where(temp!=1).shape[0]\n",
    "# tf.where([True, False, False, True]).numpy()"
   ]
  },
  {
   "cell_type": "code",
   "execution_count": 151,
   "id": "c6dcba4d",
   "metadata": {},
   "outputs": [
    {
     "data": {
      "text/plain": [
       "array([-1.9516478 , -2.04629543, -1.70377307, -2.15427262, -1.38936124,\n",
       "       -1.20421852, -1.29999224, -2.36851212, -2.98284474, -1.55114657,\n",
       "       -1.77752498, -1.56302776, -1.53258922, -1.53304331, -1.53661396,\n",
       "       -1.48686073, -0.85538492, -1.65103594, -1.35636746, -1.70503041,\n",
       "       -1.67992001, -4.18589619, -0.3678535 , -0.2796292 , -0.30874059,\n",
       "       -0.31871886, -0.31325859, -0.29435041,  1.        ])"
      ]
     },
     "execution_count": 151,
     "metadata": {},
     "output_type": "execute_result"
    }
   ],
   "source": [
    "np.min(val_pred,axis=0)"
   ]
  },
  {
   "cell_type": "code",
   "execution_count": 152,
   "id": "7ddcd2bf",
   "metadata": {},
   "outputs": [
    {
     "data": {
      "text/plain": [
       "array([ 0.        , -2.11853932, -1.95478155, -2.32238873, -1.65901012,\n",
       "       -1.37094107, -1.20421852, -1.29999224, -2.36851212, -2.98284474,\n",
       "       -1.55114657, -1.77752498, -1.56302776, -1.53258922, -1.53304331,\n",
       "       -1.53661396, -1.48686073, -2.97568136, -1.68302713, -2.986122  ,\n",
       "       -3.36721611, -2.01072475, -6.39286167, -0.3678535 , -0.2796292 ,\n",
       "       -0.30874059, -0.31871886, -0.31325859, -0.29435041,  1.        ])"
      ]
     },
     "execution_count": 152,
     "metadata": {},
     "output_type": "execute_result"
    }
   ],
   "source": [
    "np.min(result[0],axis=0)"
   ]
  },
  {
   "cell_type": "code",
   "execution_count": 153,
   "id": "7f3ce7e6",
   "metadata": {},
   "outputs": [
    {
     "data": {
      "text/plain": [
       "<tf.Tensor: shape=(29,), dtype=float64, numpy=\n",
       "array([ 2.32920304,  1.87744885,  2.28603496,  0.0193024 ,  1.94286537,\n",
       "       -0.05994122, -0.09603823, -0.12248185, -0.20116798,  0.17172587,\n",
       "        0.24053478,  0.05275302, -0.00564511, -0.04167461,  0.09804698,\n",
       "        0.02832339, -0.25440925,  0.18297612, -0.08606386, -0.02333948,\n",
       "       -0.24518346,  0.50206154, -0.1084216 , -0.01720935, -0.23590036,\n",
       "        0.28719348,  0.0371344 ,  0.08209635, -1.26288559])>"
      ]
     },
     "execution_count": 153,
     "metadata": {},
     "output_type": "execute_result"
    }
   ],
   "source": [
    "beta"
   ]
  },
  {
   "cell_type": "code",
   "execution_count": 69,
   "id": "efb93256",
   "metadata": {},
   "outputs": [
    {
     "data": {
      "text/plain": [
       "<tf.Tensor: shape=(7, 29), dtype=float64, numpy=\n",
       "array([[ 0.00000000e+00,  2.79704164e-02,  1.24598251e-01,\n",
       "         8.08389672e-03, -1.64245262e-01, -8.94443705e-01,\n",
       "         7.69235361e-01,  1.95622071e-01, -1.06738817e+00,\n",
       "         1.74691685e-01,  2.78172924e-03,  1.02869133e-01,\n",
       "         1.28529024e-01,  1.81450606e-01,  2.22448051e-01,\n",
       "         2.40039073e-01, -4.96488771e-02, -5.87046225e-03,\n",
       "         4.28777847e-02, -2.22836998e-01, -1.82979704e-01,\n",
       "        -1.52426383e-01, -2.35124189e-01, -1.82546015e-01,\n",
       "        -2.34184570e-01, -2.44808832e-01, -2.43252446e-01,\n",
       "        -2.37628924e-01,  1.00000000e+00],\n",
       "       [ 0.00000000e+00, -2.86595088e-02,  1.35622732e-01,\n",
       "        -2.72350274e-01, -4.77846802e-01, -8.94443705e-01,\n",
       "        -1.29999224e+00,  1.95622071e-01, -1.06738817e+00,\n",
       "         2.33198950e+00, -8.87371627e-01,  1.02869133e-01,\n",
       "        -7.02030096e-01,  1.81450606e-01,  2.22448051e-01,\n",
       "         2.40039073e-01, -5.77854383e-01, -6.10775294e-01,\n",
       "        -1.54446033e-01, -3.39755882e-01, -3.45598022e-01,\n",
       "        -3.28507580e-01, -2.35124189e-01,  1.48416884e+00,\n",
       "         3.12559602e-01,  2.85999558e-01, -2.68137700e-01,\n",
       "        -2.55836520e-01,  1.00000000e+00],\n",
       "       [ 0.00000000e+00,  1.17330722e-01, -2.64749844e-02,\n",
       "        -1.84203187e-01,  7.09118136e-02, -8.94443705e-01,\n",
       "        -1.29999224e+00, -1.08644502e+00,  8.48068396e-01,\n",
       "         1.74691685e-01,  2.78172924e-03,  1.02869133e-01,\n",
       "         1.28529024e-01,  1.81450606e-01,  2.22448051e-01,\n",
       "         2.40039073e-01,  1.90000299e-01,  1.19706661e-01,\n",
       "         1.64841384e-01, -3.64268575e-01, -3.37759597e-01,\n",
       "        -3.13411525e-01, -2.01941862e-01, -1.92355311e-01,\n",
       "        -2.67921171e-01, -2.51527926e-01, -2.47771084e-01,\n",
       "        -2.48973220e-01,  1.00000000e+00],\n",
       "       [ 0.00000000e+00, -6.05912198e-01, -3.86277143e-01,\n",
       "        -3.68982796e-01,  1.62826294e-01,  2.59052299e+00,\n",
       "        -1.29999224e+00, -1.08644502e+00,  8.48068396e-01,\n",
       "        -6.88227442e-01,  2.78172924e-03,  1.02869133e-01,\n",
       "         1.28529024e-01,  1.81450606e-01,  2.22448051e-01,\n",
       "         2.40039073e-01,  4.36858171e+00,  5.16430853e+00,\n",
       "         5.84580523e+00,  7.93229480e+00,  7.34131168e+00,\n",
       "         7.36005017e+00,  3.28220246e+00,  1.64376225e+00,\n",
       "         2.05220015e+00,  1.04115848e+00,  5.87194682e-01,\n",
       "         4.86704406e-01,  1.00000000e+00],\n",
       "       [ 0.00000000e+00, -4.72709750e-02,  1.89276985e-01,\n",
       "         6.10510562e-01, -6.72602754e-03, -5.07225183e-01,\n",
       "         7.69235361e-01,  1.95622071e-01,  8.48068396e-01,\n",
       "        -1.33541679e+00,  2.78172924e-03, -7.30079315e-01,\n",
       "        -7.02030096e-01,  1.81450606e-01,  2.22448051e-01,\n",
       "        -6.23410831e-01, -5.32994149e-01, -6.85956708e-01,\n",
       "        -6.71130589e-01, -6.68267187e-01, -6.65515134e-01,\n",
       "        -6.42329714e-01, -3.42634928e-01, -2.50730242e-01,\n",
       "        -3.08740594e-01, -2.79680928e-01, -2.02781164e-01,\n",
       "        -2.06885880e-01,  1.00000000e+00],\n",
       "       [ 0.00000000e+00,  6.25664083e-02,  8.32136782e-02,\n",
       "        -1.78771143e-01, -6.26716247e-02, -1.97450365e-01,\n",
       "         7.69235361e-01,  1.47768916e+00, -1.06738817e+00,\n",
       "        -7.96092333e-01,  2.78172924e-03,  1.02869133e-01,\n",
       "         1.78964726e+00,  1.81450606e-01,  2.22448051e-01,\n",
       "         2.40039073e-01, -5.41129282e-01, -4.91025085e-01,\n",
       "        -5.02387636e-01, -4.78159047e-01, -4.67449901e-01,\n",
       "        -5.89045542e-01, -1.46925564e-01, -2.79629198e-01,\n",
       "        -2.81900425e-01, -2.51527926e-01, -2.47771084e-01,\n",
       "        -2.37628924e-01,  1.00000000e+00],\n",
       "       [ 0.00000000e+00,  4.16851089e-01,  3.47443495e-01,\n",
       "         4.90604717e-01, -1.30320072e-01, -1.12677482e+00,\n",
       "        -1.29999224e+00,  1.47768916e+00,  8.48068396e-01,\n",
       "        -4.10380966e-02, -1.77752498e+00, -1.56302776e+00,\n",
       "        -1.53258922e+00, -1.53304331e+00, -6.57082957e-01,\n",
       "        -6.23410831e-01, -6.96467648e-01, -6.91357264e-01,\n",
       "        -6.79943877e-01, -6.71771265e-01, -4.47331829e-01,\n",
       "        -4.16734132e-01, -3.67853497e-01, -2.79629198e-01,\n",
       "        -3.08740594e-01,  5.55233637e-01, -2.39781608e-01,\n",
       "        -2.94350406e-01,  1.00000000e+00]])>"
      ]
     },
     "execution_count": 69,
     "metadata": {},
     "output_type": "execute_result"
    }
   ],
   "source": [
    "result[0][3:10,:]"
   ]
  }
 ],
 "metadata": {
  "kernelspec": {
   "display_name": "Python 3 (ipykernel)",
   "language": "python",
   "name": "python3"
  },
  "language_info": {
   "codemirror_mode": {
    "name": "ipython",
    "version": 3
   },
   "file_extension": ".py",
   "mimetype": "text/x-python",
   "name": "python",
   "nbconvert_exporter": "python",
   "pygments_lexer": "ipython3",
   "version": "3.9.10"
  }
 },
 "nbformat": 4,
 "nbformat_minor": 5
}
