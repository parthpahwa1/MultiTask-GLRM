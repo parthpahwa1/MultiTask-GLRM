{
 "cells": [
  {
   "cell_type": "code",
   "execution_count": 1,
   "id": "8541f4bf",
   "metadata": {},
   "outputs": [],
   "source": [
    "import tensorflow as tf\n",
    "import numpy as np\n",
    "import pandas as pd\n",
    "from sklearn.linear_model import LogisticRegression\n",
    "from sklearn.metrics import accuracy_score\n",
    "from sklearn.preprocessing import StandardScaler\n",
    "from importlib import reload\n",
    "import json\n",
    "%load_ext autoreload\n",
    "%autoreload 2"
   ]
  },
  {
   "cell_type": "code",
   "execution_count": 2,
   "id": "f18b8c23",
   "metadata": {},
   "outputs": [],
   "source": [
    "import os\n",
    "import sys\n",
    "\n",
    "module_path = os.path.abspath(os.path.join('../../'))\n",
    "if module_path not in sys.path:\n",
    "    sys.path.append(module_path)\n",
    "\n",
    "import MultiLearn_GLRM"
   ]
  },
  {
   "cell_type": "code",
   "execution_count": 3,
   "id": "6d51f914",
   "metadata": {},
   "outputs": [],
   "source": [
    "df = pd.read_csv('./prostate/prostate.data', delimiter='\\t', index_col=0)\n",
    "df = df.sample(frac=1).reset_index(drop=True)\n",
    "\n",
    "mask_train = df.pop('train')\n",
    "df_y = df.pop('lpsa')\n",
    "\n",
    "X_train = df[mask_train == 'T']\n",
    "Y_train = df_y[mask_train == 'T']\n",
    "Y_train = np.array(Y_train).reshape(-1,1)\n",
    "\n",
    "\n",
    "X_test = df[mask_train != 'T']\n",
    "Y_test = df_y[mask_train != 'T']\n",
    "Y_test = np.array(Y_test).reshape(-1,1)\n",
    "\n",
    "\n",
    "scaler = StandardScaler()\n",
    "X_train = scaler.fit_transform(X_train)\n",
    "X_test = scaler.transform(X_test)\n",
    "\n",
    "\n",
    "scaler2 = StandardScaler()\n",
    "Y_train = scaler2.fit_transform(Y_train)\n",
    "Y_test = scaler2.transform(Y_test)\n",
    "\n",
    "params = {\n",
    "    \"train_hyper_params\": None,\n",
    "    \"test_hyper_params\": None,\n",
    "    \"beta\": None,\n",
    "    \"embedding_matrix\": None,\n",
    "    \"train_error\": None,\n",
    "    \"test_error\": None,\n",
    "    \"embedding_dim\": None,\n",
    "    \"predictor_scaling_parmas\": None,\n",
    "    \"target_scaling_parmas\": None\n",
    "}"
   ]
  },
  {
   "cell_type": "code",
   "execution_count": 4,
   "id": "b54793c7",
   "metadata": {},
   "outputs": [
    {
     "data": {
      "text/html": [
       "<div>\n",
       "<style scoped>\n",
       "    .dataframe tbody tr th:only-of-type {\n",
       "        vertical-align: middle;\n",
       "    }\n",
       "\n",
       "    .dataframe tbody tr th {\n",
       "        vertical-align: top;\n",
       "    }\n",
       "\n",
       "    .dataframe thead th {\n",
       "        text-align: right;\n",
       "    }\n",
       "</style>\n",
       "<table border=\"1\" class=\"dataframe\">\n",
       "  <thead>\n",
       "    <tr style=\"text-align: right;\">\n",
       "      <th></th>\n",
       "      <th>lcavol</th>\n",
       "      <th>lweight</th>\n",
       "      <th>age</th>\n",
       "      <th>lbph</th>\n",
       "      <th>svi</th>\n",
       "      <th>lcp</th>\n",
       "      <th>gleason</th>\n",
       "      <th>pgg45</th>\n",
       "    </tr>\n",
       "  </thead>\n",
       "  <tbody>\n",
       "    <tr>\n",
       "      <th>0</th>\n",
       "      <td>1.160021</td>\n",
       "      <td>3.341093</td>\n",
       "      <td>77</td>\n",
       "      <td>1.749200</td>\n",
       "      <td>0</td>\n",
       "      <td>-1.386294</td>\n",
       "      <td>7</td>\n",
       "      <td>25</td>\n",
       "    </tr>\n",
       "    <tr>\n",
       "      <th>1</th>\n",
       "      <td>2.779440</td>\n",
       "      <td>3.823192</td>\n",
       "      <td>63</td>\n",
       "      <td>-1.386294</td>\n",
       "      <td>0</td>\n",
       "      <td>0.371564</td>\n",
       "      <td>7</td>\n",
       "      <td>50</td>\n",
       "    </tr>\n",
       "    <tr>\n",
       "      <th>2</th>\n",
       "      <td>3.302849</td>\n",
       "      <td>3.518980</td>\n",
       "      <td>64</td>\n",
       "      <td>-1.386294</td>\n",
       "      <td>1</td>\n",
       "      <td>2.327278</td>\n",
       "      <td>7</td>\n",
       "      <td>60</td>\n",
       "    </tr>\n",
       "    <tr>\n",
       "      <th>3</th>\n",
       "      <td>1.147402</td>\n",
       "      <td>3.419365</td>\n",
       "      <td>59</td>\n",
       "      <td>-1.386294</td>\n",
       "      <td>0</td>\n",
       "      <td>-1.386294</td>\n",
       "      <td>6</td>\n",
       "      <td>0</td>\n",
       "    </tr>\n",
       "    <tr>\n",
       "      <th>4</th>\n",
       "      <td>0.182322</td>\n",
       "      <td>3.825375</td>\n",
       "      <td>70</td>\n",
       "      <td>1.658228</td>\n",
       "      <td>0</td>\n",
       "      <td>-1.386294</td>\n",
       "      <td>6</td>\n",
       "      <td>0</td>\n",
       "    </tr>\n",
       "    <tr>\n",
       "      <th>...</th>\n",
       "      <td>...</td>\n",
       "      <td>...</td>\n",
       "      <td>...</td>\n",
       "      <td>...</td>\n",
       "      <td>...</td>\n",
       "      <td>...</td>\n",
       "      <td>...</td>\n",
       "      <td>...</td>\n",
       "    </tr>\n",
       "    <tr>\n",
       "      <th>92</th>\n",
       "      <td>1.467874</td>\n",
       "      <td>3.070376</td>\n",
       "      <td>66</td>\n",
       "      <td>0.559616</td>\n",
       "      <td>0</td>\n",
       "      <td>0.223144</td>\n",
       "      <td>7</td>\n",
       "      <td>40</td>\n",
       "    </tr>\n",
       "    <tr>\n",
       "      <th>93</th>\n",
       "      <td>2.409644</td>\n",
       "      <td>3.375880</td>\n",
       "      <td>65</td>\n",
       "      <td>-1.386294</td>\n",
       "      <td>0</td>\n",
       "      <td>1.619388</td>\n",
       "      <td>6</td>\n",
       "      <td>0</td>\n",
       "    </tr>\n",
       "    <tr>\n",
       "      <th>94</th>\n",
       "      <td>3.246491</td>\n",
       "      <td>4.101817</td>\n",
       "      <td>68</td>\n",
       "      <td>-1.386294</td>\n",
       "      <td>0</td>\n",
       "      <td>-1.386294</td>\n",
       "      <td>6</td>\n",
       "      <td>0</td>\n",
       "    </tr>\n",
       "    <tr>\n",
       "      <th>95</th>\n",
       "      <td>1.771557</td>\n",
       "      <td>3.896909</td>\n",
       "      <td>61</td>\n",
       "      <td>-1.386294</td>\n",
       "      <td>0</td>\n",
       "      <td>0.810930</td>\n",
       "      <td>7</td>\n",
       "      <td>6</td>\n",
       "    </tr>\n",
       "    <tr>\n",
       "      <th>96</th>\n",
       "      <td>2.034706</td>\n",
       "      <td>3.917011</td>\n",
       "      <td>66</td>\n",
       "      <td>2.008214</td>\n",
       "      <td>1</td>\n",
       "      <td>2.110213</td>\n",
       "      <td>7</td>\n",
       "      <td>60</td>\n",
       "    </tr>\n",
       "  </tbody>\n",
       "</table>\n",
       "<p>97 rows × 8 columns</p>\n",
       "</div>"
      ],
      "text/plain": [
       "      lcavol   lweight  age      lbph  svi       lcp  gleason  pgg45\n",
       "0   1.160021  3.341093   77  1.749200    0 -1.386294        7     25\n",
       "1   2.779440  3.823192   63 -1.386294    0  0.371564        7     50\n",
       "2   3.302849  3.518980   64 -1.386294    1  2.327278        7     60\n",
       "3   1.147402  3.419365   59 -1.386294    0 -1.386294        6      0\n",
       "4   0.182322  3.825375   70  1.658228    0 -1.386294        6      0\n",
       "..       ...       ...  ...       ...  ...       ...      ...    ...\n",
       "92  1.467874  3.070376   66  0.559616    0  0.223144        7     40\n",
       "93  2.409644  3.375880   65 -1.386294    0  1.619388        6      0\n",
       "94  3.246491  4.101817   68 -1.386294    0 -1.386294        6      0\n",
       "95  1.771557  3.896909   61 -1.386294    0  0.810930        7      6\n",
       "96  2.034706  3.917011   66  2.008214    1  2.110213        7     60\n",
       "\n",
       "[97 rows x 8 columns]"
      ]
     },
     "execution_count": 4,
     "metadata": {},
     "output_type": "execute_result"
    }
   ],
   "source": [
    "df"
   ]
  },
  {
   "cell_type": "code",
   "execution_count": 159,
   "id": "84527605",
   "metadata": {},
   "outputs": [],
   "source": [
    "params[\"predictor_scaling_parmas\"] =  {\n",
    "    \"mean\" : scaler.mean_.tolist(),\n",
    "    \"var\" : scaler.mean_.tolist()\n",
    "}\n",
    "params[\"target_scaling_parmas\"] =  {\n",
    "    \"mean\" : scaler2.mean_.tolist(),\n",
    "    \"var\" : scaler2.mean_.tolist()\n",
    "}"
   ]
  },
  {
   "cell_type": "code",
   "execution_count": 169,
   "id": "96597f86",
   "metadata": {
    "scrolled": true
   },
   "outputs": [
    {
     "name": "stdout",
     "output_type": "stream",
     "text": [
      "epoch: 0\n",
      "epoch: 1\n",
      "iter: 21 Total loss: tf.Tensor(0.6380809749290439, shape=(), dtype=float64)\n",
      "epoch: 2\n",
      "iter: 97 Total loss: tf.Tensor(0.512113932567725, shape=(), dtype=float64)\n",
      "iter: 11 Total loss: tf.Tensor(0.4834841167609327, shape=(), dtype=float64)\n",
      "epoch: 3\n",
      "iter: 33 Total loss: tf.Tensor(0.46784838624596237, shape=(), dtype=float64)\n",
      "iter: 6 Total loss: tf.Tensor(0.46375847276137766, shape=(), dtype=float64)\n",
      "epoch: 4\n",
      "iter: 7 Total loss: tf.Tensor(0.46157230441807995, shape=(), dtype=float64)\n",
      "iter: 1 Total loss: tf.Tensor(0.4612612080999671, shape=(), dtype=float64)\n",
      "epoch: 5\n",
      "iter: 2 Total loss: tf.Tensor(0.46059247491928074, shape=(), dtype=float64)\n",
      "iter: 1 Total loss: tf.Tensor(0.46027691663836884, shape=(), dtype=float64)\n",
      "epoch: 5 Total loss: tf.Tensor(0.46044763031983815, shape=(), dtype=float64)\n",
      "Final loss: tf.Tensor(0.46044763031983815, shape=(), dtype=float64) best loss: tf.Tensor(0.46044763031983815, shape=(), dtype=float64)\n"
     ]
    }
   ],
   "source": [
    "reload(MultiLearn_GLRM)\n",
    "from MultiLearn_GLRM import Multi_Learn, generate_AXY\n",
    "from MultiLearn_GLRM.Params.semisupervised_params import Multilearn_GLRM_Semisupervised_Train_Params, Multilearn_GLRM_Semisupervised_Test_Params\n",
    "\n",
    "embedding_dim = 2\n",
    "params[\"embedding_dim\"] = embedding_dim\n",
    "\n",
    "n_class = 1\n",
    "\n",
    "A_prime, X_prime, Y_prime = generate_AXY.get_semisupervised_glrm_train_form(X_train, Y_train, n_class, embedding_dim)\n",
    "GLRM_loss_list, X_regulariation_list, Y_regulariation_list, X_grad_restrictions, Y_grad_restrictions = Multilearn_GLRM_Semisupervised_Train_Params(A_prime, X_prime, Y_prime, n_class)\n",
    "\n",
    "params[\"train_hyper_params\"] = [GLRM_loss_list, X_regulariation_list, Y_regulariation_list]\n",
    "\n",
    "num_iterations=100\n",
    "learning_rate=0.01\n",
    "result = Multi_Learn.alternating_minimization(A_prime, X_prime, Y_prime, GLRM_loss_list, X_regulariation_list, Y_regulariation_list, X_grad_restrictions, Y_grad_restrictions, num_iterations, learning_rate, n_class)\n",
    "\n"
   ]
  },
  {
   "cell_type": "code",
   "execution_count": 170,
   "id": "cd160014",
   "metadata": {},
   "outputs": [
    {
     "data": {
      "text/plain": [
       "0.23727834672178755"
      ]
     },
     "execution_count": 170,
     "metadata": {},
     "output_type": "execute_result"
    }
   ],
   "source": [
    "beta = result[1][1:,0:n_class]\n",
    "Y_final = result[1][1:embedding_dim+1,n_class:]\n",
    "params[\"beta\"] = beta.numpy().tolist()\n",
    "params[\"embedding_matrix\"] = Y_final.numpy().tolist()\n",
    "\n",
    "\n",
    "res = np.matmul(result[0], result[1][:,0:n_class])\n",
    "params[\"train_error\"] = np.mean((scaler2.inverse_transform(Y_train) - scaler2.inverse_transform(res))**2)\n",
    "params[\"train_error\"]"
   ]
  },
  {
   "cell_type": "code",
   "execution_count": 85,
   "id": "558196dc",
   "metadata": {},
   "outputs": [
    {
     "data": {
      "text/plain": [
       "0.4495674496068231"
      ]
     },
     "execution_count": 85,
     "metadata": {},
     "output_type": "execute_result"
    }
   ],
   "source": [
    "# res = np.matmul(result[0], result[1][:,0:n_class])\n",
    "# np.mean((Y_train - res)**2)\n",
    "# 0.4495674496068231\n",
    "\n",
    "# res = np.matmul(result[0], result[1][:,0:n_class])\n",
    "# np.mean((Y_train - res)**2)\n",
    "# 0.4011543372347976\n"
   ]
  },
  {
   "cell_type": "code",
   "execution_count": 171,
   "id": "d1e7f876",
   "metadata": {},
   "outputs": [
    {
     "data": {
      "text/plain": [
       "<tf.Tensor: shape=(11, 1), dtype=float64, numpy=\n",
       "array([[-0.54822265],\n",
       "       [ 0.18504926],\n",
       "       [ 0.53468388],\n",
       "       [ 0.10875677],\n",
       "       [-0.15328889],\n",
       "       [ 0.04023021],\n",
       "       [ 0.32229294],\n",
       "       [-0.09989735],\n",
       "       [ 0.11034852],\n",
       "       [ 0.20666993],\n",
       "       [-0.00857186]])>"
      ]
     },
     "execution_count": 171,
     "metadata": {},
     "output_type": "execute_result"
    }
   ],
   "source": [
    "beta"
   ]
  },
  {
   "cell_type": "code",
   "execution_count": null,
   "id": "6db0fa4a",
   "metadata": {},
   "outputs": [],
   "source": [
    "\"\"\"\n",
    "<tf.Tensor: shape=(11, 1), dtype=float64, numpy=\n",
    "array([[-0.02956712],\n",
    "       [-0.43500185],\n",
    "       [ 0.46663761],\n",
    "       [ 0.28479513],\n",
    "       [-0.04591487],\n",
    "       [ 0.22732162],\n",
    "       [ 0.19878154],\n",
    "       [-0.21300145],\n",
    "       [ 0.0071286 ],\n",
    "       [ 0.11102323],\n",
    "       [-0.00936144]])>\n",
    "\"\"\""
   ]
  },
  {
   "cell_type": "code",
   "execution_count": 128,
   "id": "f6761625",
   "metadata": {
    "scrolled": true
   },
   "outputs": [
    {
     "name": "stdout",
     "output_type": "stream",
     "text": [
      "[-0.74593503] [-0.96229798]\n",
      "[-0.54413252] [-0.3064417]\n",
      "[0.42572773] [0.49896302]\n",
      "[-0.12910999] [-0.22557737]\n",
      "[-0.14604851] [-0.50146602]\n",
      "[-0.33755776] [-0.96446617]\n",
      "[-0.10433023] [-0.2433947]\n",
      "[0.22160766] [0.39486495]\n",
      "[-0.46525248] [-0.36193532]\n",
      "[1.28570526] [0.79757593]\n",
      "[0.88730351] [-0.11278371]\n",
      "[-0.92117503] [-0.60090279]\n",
      "[1.05108772] [0.47456888]\n",
      "[0.29533824] [-0.06985816]\n",
      "[-1.33298049] [-0.40549443]\n",
      "[-0.98884928] [-1.13738764]\n",
      "[0.94708489] [0.26740704]\n",
      "[0.73842883] [0.83253999]\n",
      "[-0.98884928] [-0.8239089]\n",
      "[0.18789838] [0.47127532]\n",
      "[-0.24590799] [-0.5295947]\n",
      "[0.17051873] [0.06774572]\n",
      "[0.98321259] [1.01878964]\n",
      "[0.89960743] [0.40834803]\n",
      "[-0.61609027] [-0.16480375]\n",
      "[-0.19903089] [0.92132432]\n",
      "[-0.83871855] [-0.54230546]\n",
      "[-0.21746688] [-1.1389276]\n",
      "[-0.50376054] [-0.26556439]\n",
      "[1.39911185] [1.27266157]\n",
      "[-0.37049067] [-0.32148454]\n",
      "[-0.6312578] [-1.04501508]\n",
      "[0.48800976] [-0.0971723]\n",
      "[0.09713585] [1.16140715]\n",
      "[-0.67848884] [-0.63232126]\n",
      "[0.28519596] [-0.04114821]\n",
      "[0.33471745] [0.39521395]\n",
      "[0.43430564] [0.46751606]\n",
      "[0.92841692] [0.85708343]\n",
      "[-2.18129902] [-1.64031026]\n",
      "[-2.40508275] [-1.49634036]\n",
      "[-0.80035814] [-0.19037839]\n",
      "[0.686466] [0.78195213]\n",
      "[0.42572773] [-0.59755159]\n",
      "[-0.98884928] [-0.46943289]\n",
      "[-1.4071798] [-1.1365797]\n",
      "[0.05787251] [-0.00639045]\n",
      "[0.32504557] [0.12403457]\n",
      "[0.39050596] [0.9373522]\n",
      "[1.02417593] [0.52966269]\n",
      "[-0.44053386] [-0.29151436]\n",
      "[0.30036349] [0.26388089]\n",
      "[-0.71153044] [-0.49547744]\n",
      "[1.31590552] [0.80779465]\n",
      "[0.82022254] [0.85842964]\n",
      "[0.46776142] [0.54820183]\n",
      "[-0.81931791] [-0.80659397]\n",
      "[0.83881993] [0.75080676]\n",
      "[0.08425234] [0.0799888]\n",
      "[-2.18129902] [-1.73193056]\n",
      "[1.8619989] [1.64938876]\n",
      "[-1.73577159] [-0.78289458]\n",
      "[1.27798123] [1.33853813]\n",
      "[1.61232803] [1.19863684]\n",
      "[-2.18129902] [-1.48604543]\n",
      "[2.52356801] [1.59824035]\n",
      "[0.78454439] [0.82915764]\n"
     ]
    }
   ],
   "source": [
    "for i in range(0, Y_train.shape[0]):\n",
    "    print(Y_train[i], res[i])"
   ]
  },
  {
   "cell_type": "code",
   "execution_count": 172,
   "id": "1d34aeea",
   "metadata": {},
   "outputs": [
    {
     "name": "stdout",
     "output_type": "stream",
     "text": [
      "iter: 0 Total loss: tf.Tensor(1.2632002212825726, shape=(), dtype=float64)\n",
      "iter: 100 Total loss: tf.Tensor(0.8248082329311606, shape=(), dtype=float64)\n",
      "iter: 200 Total loss: tf.Tensor(0.6174100924374534, shape=(), dtype=float64)\n",
      "iter: 300 Total loss: tf.Tensor(0.5151888926647338, shape=(), dtype=float64)\n",
      "iter: 400 Total loss: tf.Tensor(0.4639619594004265, shape=(), dtype=float64)\n",
      "iter: 500 Total loss: tf.Tensor(0.43848152070400054, shape=(), dtype=float64)\n",
      "iter: 600 Total loss: tf.Tensor(0.4261590303403149, shape=(), dtype=float64)\n",
      "iter: 686 Total loss: tf.Tensor(0.4210041013814909, shape=(), dtype=float64)\n",
      "0.5217931478119494\n",
      "iter: 0 Total loss: tf.Tensor(1.540426400269999, shape=(), dtype=float64)\n",
      "iter: 100 Total loss: tf.Tensor(0.9189270632096767, shape=(), dtype=float64)\n",
      "iter: 200 Total loss: tf.Tensor(0.6263460465970948, shape=(), dtype=float64)\n"
     ]
    },
    {
     "ename": "KeyboardInterrupt",
     "evalue": "",
     "output_type": "error",
     "traceback": [
      "\u001b[0;31m---------------------------------------------------------------------------\u001b[0m",
      "\u001b[0;31mKeyboardInterrupt\u001b[0m                         Traceback (most recent call last)",
      "Input \u001b[0;32mIn [172]\u001b[0m, in \u001b[0;36m<cell line: 21>\u001b[0;34m()\u001b[0m\n\u001b[1;32m     28\u001b[0m X_prime \u001b[38;5;241m=\u001b[39m tf\u001b[38;5;241m.\u001b[39mVariable(X_prime)\n\u001b[1;32m     30\u001b[0m Y_prime \u001b[38;5;241m=\u001b[39m Y_final\n\u001b[0;32m---> 32\u001b[0m result_val \u001b[38;5;241m=\u001b[39m \u001b[43mMulti_Learn\u001b[49m\u001b[38;5;241;43m.\u001b[39;49m\u001b[43mpredict\u001b[49m\u001b[43m(\u001b[49m\u001b[43mA_prime\u001b[49m\u001b[43m,\u001b[49m\u001b[43m \u001b[49m\u001b[43mX_prime\u001b[49m\u001b[43m,\u001b[49m\u001b[43m \u001b[49m\u001b[43mY_prime\u001b[49m\u001b[43m,\u001b[49m\u001b[43m \u001b[49m\u001b[43mGLRM_loss_list\u001b[49m\u001b[43m,\u001b[49m\u001b[43m \u001b[49m\u001b[43mX_regularization_loss_list\u001b[49m\u001b[43m,\u001b[49m\u001b[43m \u001b[49m\u001b[43mY_regularization_loss_list\u001b[49m\u001b[43m,\u001b[49m\u001b[43m \u001b[49m\u001b[43mnum_iterations\u001b[49m\u001b[43m,\u001b[49m\u001b[43m \u001b[49m\u001b[43mlearning_rate\u001b[49m\u001b[43m)\u001b[49m\n\u001b[1;32m     33\u001b[0m val_pred \u001b[38;5;241m=\u001b[39m np\u001b[38;5;241m.\u001b[39mhstack((result_val[\u001b[38;5;241m0\u001b[39m], A_prime))\n\u001b[1;32m     34\u001b[0m val_pred \u001b[38;5;241m=\u001b[39m np\u001b[38;5;241m.\u001b[39mhstack((val_pred, np\u001b[38;5;241m.\u001b[39mones(shape\u001b[38;5;241m=\u001b[39m(val_pred\u001b[38;5;241m.\u001b[39mshape[\u001b[38;5;241m0\u001b[39m],\u001b[38;5;241m1\u001b[39m))))\n",
      "File \u001b[0;32m~/Documents/GLRM-MTL/MultiLearn_GLRM/Multi_Learn.py:175\u001b[0m, in \u001b[0;36mpredict\u001b[0;34m(A, X, Y, GLRM_loss_list, X_regulariation_list, Y_regulariation_list, num_iterations, learning_rate)\u001b[0m\n\u001b[1;32m    173\u001b[0m \u001b[38;5;28;01mfor\u001b[39;00m i \u001b[38;5;129;01min\u001b[39;00m \u001b[38;5;28mrange\u001b[39m(\u001b[38;5;241m0\u001b[39m, num_iterations):\n\u001b[1;32m    174\u001b[0m     gradients_dictionary \u001b[38;5;241m=\u001b[39m get_gradients(A, X, Y, GLRM_loss_list, X_regulariation_list, Y_regulariation_list)\n\u001b[0;32m--> 175\u001b[0m     \u001b[43mopt\u001b[49m\u001b[38;5;241;43m.\u001b[39;49m\u001b[43mapply_gradients\u001b[49m\u001b[43m(\u001b[49m\u001b[38;5;28;43mzip\u001b[39;49m\u001b[43m(\u001b[49m\u001b[43m[\u001b[49m\u001b[43mtf\u001b[49m\u001b[38;5;241;43m.\u001b[39;49m\u001b[43mVariable\u001b[49m\u001b[43m(\u001b[49m\u001b[43mgradients_dictionary\u001b[49m\u001b[43m[\u001b[49m\u001b[38;5;124;43m'\u001b[39;49m\u001b[38;5;124;43mgradients\u001b[39;49m\u001b[38;5;124;43m'\u001b[39;49m\u001b[43m]\u001b[49m\u001b[43m[\u001b[49m\u001b[38;5;124;43m'\u001b[39;49m\u001b[38;5;124;43mX\u001b[39;49m\u001b[38;5;124;43m'\u001b[39;49m\u001b[43m]\u001b[49m\u001b[43m)\u001b[49m\u001b[43m]\u001b[49m\u001b[43m,\u001b[49m\u001b[43m \u001b[49m\u001b[43m[\u001b[49m\u001b[43mX\u001b[49m\u001b[43m]\u001b[49m\u001b[43m)\u001b[49m\u001b[43m)\u001b[49m\n\u001b[1;32m    177\u001b[0m     \u001b[38;5;28;01mif\u001b[39;00m(i\u001b[38;5;241m%\u001b[39m\u001b[38;5;241m100\u001b[39m) \u001b[38;5;241m==\u001b[39m \u001b[38;5;241m0\u001b[39m:\n\u001b[1;32m    178\u001b[0m         \u001b[38;5;28mprint\u001b[39m(\u001b[38;5;124m'\u001b[39m\u001b[38;5;124miter:\u001b[39m\u001b[38;5;124m'\u001b[39m, i, \u001b[38;5;124m'\u001b[39m\u001b[38;5;124mTotal loss:\u001b[39m\u001b[38;5;124m'\u001b[39m, gradients_dictionary[\u001b[38;5;124m'\u001b[39m\u001b[38;5;124mtotal_loss\u001b[39m\u001b[38;5;124m'\u001b[39m])\n",
      "File \u001b[0;32m~/miniforge3/lib/python3.9/site-packages/keras/optimizer_v2/optimizer_v2.py:665\u001b[0m, in \u001b[0;36mOptimizerV2.apply_gradients\u001b[0;34m(self, grads_and_vars, name, experimental_aggregate_gradients)\u001b[0m\n\u001b[1;32m    654\u001b[0m \u001b[38;5;28;01mif\u001b[39;00m (\u001b[38;5;129;01mnot\u001b[39;00m experimental_aggregate_gradients \u001b[38;5;129;01mand\u001b[39;00m strategy \u001b[38;5;129;01mand\u001b[39;00m\n\u001b[1;32m    655\u001b[0m     \u001b[38;5;28misinstance\u001b[39m(strategy,\n\u001b[1;32m    656\u001b[0m                (tf\u001b[38;5;241m.\u001b[39mcompat\u001b[38;5;241m.\u001b[39mv1\u001b[38;5;241m.\u001b[39mdistribute\u001b[38;5;241m.\u001b[39mexperimental\u001b[38;5;241m.\u001b[39mParameterServerStrategy,\n\u001b[1;32m    657\u001b[0m                 tf\u001b[38;5;241m.\u001b[39mdistribute\u001b[38;5;241m.\u001b[39mexperimental\u001b[38;5;241m.\u001b[39mParameterServerStrategy,\n\u001b[1;32m    658\u001b[0m                 tf\u001b[38;5;241m.\u001b[39mdistribute\u001b[38;5;241m.\u001b[39mexperimental\u001b[38;5;241m.\u001b[39mCentralStorageStrategy,\n\u001b[1;32m    659\u001b[0m                 tf\u001b[38;5;241m.\u001b[39mcompat\u001b[38;5;241m.\u001b[39mv1\u001b[38;5;241m.\u001b[39mdistribute\u001b[38;5;241m.\u001b[39mexperimental\u001b[38;5;241m.\u001b[39mCentralStorageStrategy))):\n\u001b[1;32m    660\u001b[0m   \u001b[38;5;28;01mraise\u001b[39;00m \u001b[38;5;167;01mNotImplementedError\u001b[39;00m(\n\u001b[1;32m    661\u001b[0m       \u001b[38;5;124m\"\u001b[39m\u001b[38;5;124m`experimental_aggregate_gradients=False is not supported for \u001b[39m\u001b[38;5;124m\"\u001b[39m\n\u001b[1;32m    662\u001b[0m       \u001b[38;5;124m\"\u001b[39m\u001b[38;5;124mParameterServerStrategy and CentralStorageStrategy. Used: \u001b[39m\u001b[38;5;124m\"\u001b[39m\n\u001b[1;32m    663\u001b[0m       \u001b[38;5;124mf\u001b[39m\u001b[38;5;124m\"\u001b[39m\u001b[38;5;124mstrategy=\u001b[39m\u001b[38;5;132;01m{\u001b[39;00mstrategy\u001b[38;5;132;01m}\u001b[39;00m\u001b[38;5;124m.\u001b[39m\u001b[38;5;124m\"\u001b[39m)\n\u001b[0;32m--> 665\u001b[0m apply_state \u001b[38;5;241m=\u001b[39m \u001b[38;5;28;43mself\u001b[39;49m\u001b[38;5;241;43m.\u001b[39;49m\u001b[43m_prepare\u001b[49m\u001b[43m(\u001b[49m\u001b[43mvar_list\u001b[49m\u001b[43m)\u001b[49m\n\u001b[1;32m    666\u001b[0m \u001b[38;5;28;01mif\u001b[39;00m experimental_aggregate_gradients:\n\u001b[1;32m    667\u001b[0m   grads_and_vars \u001b[38;5;241m=\u001b[39m \u001b[38;5;28mself\u001b[39m\u001b[38;5;241m.\u001b[39m_transform_unaggregated_gradients(grads_and_vars)\n",
      "File \u001b[0;32m~/miniforge3/lib/python3.9/site-packages/keras/optimizer_v2/nadam.py:139\u001b[0m, in \u001b[0;36mNadam._prepare\u001b[0;34m(self, var_list)\u001b[0m\n\u001b[1;32m    136\u001b[0m \u001b[38;5;28;01mdef\u001b[39;00m \u001b[38;5;21m_prepare\u001b[39m(\u001b[38;5;28mself\u001b[39m, var_list):\n\u001b[1;32m    137\u001b[0m   \u001b[38;5;66;03m# Get the value of the momentum cache before starting to apply gradients.\u001b[39;00m\n\u001b[1;32m    138\u001b[0m   \u001b[38;5;28mself\u001b[39m\u001b[38;5;241m.\u001b[39m_m_cache_read \u001b[38;5;241m=\u001b[39m tf\u001b[38;5;241m.\u001b[39midentity(\u001b[38;5;28mself\u001b[39m\u001b[38;5;241m.\u001b[39m_m_cache)\n\u001b[0;32m--> 139\u001b[0m   \u001b[38;5;28;01mreturn\u001b[39;00m \u001b[38;5;28;43msuper\u001b[39;49m\u001b[43m(\u001b[49m\u001b[43mNadam\u001b[49m\u001b[43m,\u001b[49m\u001b[43m \u001b[49m\u001b[38;5;28;43mself\u001b[39;49m\u001b[43m)\u001b[49m\u001b[38;5;241;43m.\u001b[39;49m\u001b[43m_prepare\u001b[49m\u001b[43m(\u001b[49m\u001b[43mvar_list\u001b[49m\u001b[43m)\u001b[49m\n",
      "File \u001b[0;32m~/miniforge3/lib/python3.9/site-packages/keras/optimizer_v2/optimizer_v2.py:944\u001b[0m, in \u001b[0;36mOptimizerV2._prepare\u001b[0;34m(self, var_list)\u001b[0m\n\u001b[1;32m    942\u001b[0m   apply_state[(var_device, var_dtype)] \u001b[38;5;241m=\u001b[39m {}\n\u001b[1;32m    943\u001b[0m   \u001b[38;5;28;01mwith\u001b[39;00m tf\u001b[38;5;241m.\u001b[39mdevice(var_device):\n\u001b[0;32m--> 944\u001b[0m     \u001b[38;5;28;43mself\u001b[39;49m\u001b[38;5;241;43m.\u001b[39;49m\u001b[43m_prepare_local\u001b[49m\u001b[43m(\u001b[49m\u001b[43mvar_device\u001b[49m\u001b[43m,\u001b[49m\u001b[43m \u001b[49m\u001b[43mvar_dtype\u001b[49m\u001b[43m,\u001b[49m\u001b[43m \u001b[49m\u001b[43mapply_state\u001b[49m\u001b[43m)\u001b[49m\n\u001b[1;32m    946\u001b[0m \u001b[38;5;28;01mreturn\u001b[39;00m apply_state\n",
      "File \u001b[0;32m~/miniforge3/lib/python3.9/site-packages/keras/optimizer_v2/nadam.py:129\u001b[0m, in \u001b[0;36mNadam._prepare_local\u001b[0;34m(self, var_device, var_dtype, apply_state)\u001b[0m\n\u001b[1;32m    116\u001b[0m   m_schedule_new \u001b[38;5;241m=\u001b[39m tf\u001b[38;5;241m.\u001b[39midentity(tf\u001b[38;5;241m.\u001b[39mcompat\u001b[38;5;241m.\u001b[39mv1\u001b[38;5;241m.\u001b[39massign(\n\u001b[1;32m    117\u001b[0m       \u001b[38;5;28mself\u001b[39m\u001b[38;5;241m.\u001b[39m_m_cache, m_schedule_new, use_locking\u001b[38;5;241m=\u001b[39m\u001b[38;5;28mself\u001b[39m\u001b[38;5;241m.\u001b[39m_use_locking))\n\u001b[1;32m    118\u001b[0m m_schedule_next \u001b[38;5;241m=\u001b[39m m_schedule_new \u001b[38;5;241m*\u001b[39m m_t_1\n\u001b[1;32m    120\u001b[0m apply_state[(var_device, var_dtype)] \u001b[38;5;241m=\u001b[39m \u001b[38;5;28mdict\u001b[39m(\n\u001b[1;32m    121\u001b[0m     lr_t\u001b[38;5;241m=\u001b[39mlr_t,\n\u001b[1;32m    122\u001b[0m     neg_lr_t\u001b[38;5;241m=\u001b[39m\u001b[38;5;241m-\u001b[39mlr_t,  \u001b[38;5;66;03m# pylint: disable=invalid-unary-operand-type\u001b[39;00m\n\u001b[1;32m    123\u001b[0m     epsilon\u001b[38;5;241m=\u001b[39mtf\u001b[38;5;241m.\u001b[39mconvert_to_tensor(\u001b[38;5;28mself\u001b[39m\u001b[38;5;241m.\u001b[39mepsilon, var_dtype),\n\u001b[1;32m    124\u001b[0m     beta_1_t\u001b[38;5;241m=\u001b[39mbeta_1_t,\n\u001b[1;32m    125\u001b[0m     beta_2_t\u001b[38;5;241m=\u001b[39mbeta_2_t,\n\u001b[1;32m    126\u001b[0m     m_t\u001b[38;5;241m=\u001b[39mm_t,\n\u001b[1;32m    127\u001b[0m     m_t_1\u001b[38;5;241m=\u001b[39mm_t_1,\n\u001b[1;32m    128\u001b[0m     one_minus_beta_1_t\u001b[38;5;241m=\u001b[39m\u001b[38;5;241m1\u001b[39m \u001b[38;5;241m-\u001b[39m beta_1_t,\n\u001b[0;32m--> 129\u001b[0m     one_minus_beta_2_t\u001b[38;5;241m=\u001b[39m\u001b[38;5;241;43m1\u001b[39;49m\u001b[43m \u001b[49m\u001b[38;5;241;43m-\u001b[39;49m\u001b[43m \u001b[49m\u001b[43mbeta_2_t\u001b[49m,\n\u001b[1;32m    130\u001b[0m     one_minus_m_t\u001b[38;5;241m=\u001b[39m\u001b[38;5;241m1.\u001b[39m \u001b[38;5;241m-\u001b[39m m_t,\n\u001b[1;32m    131\u001b[0m     one_minus_m_schedule_new\u001b[38;5;241m=\u001b[39m\u001b[38;5;241m1.\u001b[39m \u001b[38;5;241m-\u001b[39m m_schedule_new,\n\u001b[1;32m    132\u001b[0m     one_minus_m_schedule_next\u001b[38;5;241m=\u001b[39m\u001b[38;5;241m1.\u001b[39m \u001b[38;5;241m-\u001b[39m m_schedule_next,\n\u001b[1;32m    133\u001b[0m     v_t_prime_denominator\u001b[38;5;241m=\u001b[39m\u001b[38;5;241m1.\u001b[39m \u001b[38;5;241m-\u001b[39m tf\u001b[38;5;241m.\u001b[39mpow(beta_2_t, local_step),\n\u001b[1;32m    134\u001b[0m )\n",
      "File \u001b[0;32m~/miniforge3/lib/python3.9/site-packages/tensorflow/python/util/traceback_utils.py:150\u001b[0m, in \u001b[0;36mfilter_traceback.<locals>.error_handler\u001b[0;34m(*args, **kwargs)\u001b[0m\n\u001b[1;32m    148\u001b[0m filtered_tb \u001b[38;5;241m=\u001b[39m \u001b[38;5;28;01mNone\u001b[39;00m\n\u001b[1;32m    149\u001b[0m \u001b[38;5;28;01mtry\u001b[39;00m:\n\u001b[0;32m--> 150\u001b[0m   \u001b[38;5;28;01mreturn\u001b[39;00m \u001b[43mfn\u001b[49m\u001b[43m(\u001b[49m\u001b[38;5;241;43m*\u001b[39;49m\u001b[43margs\u001b[49m\u001b[43m,\u001b[49m\u001b[43m \u001b[49m\u001b[38;5;241;43m*\u001b[39;49m\u001b[38;5;241;43m*\u001b[39;49m\u001b[43mkwargs\u001b[49m\u001b[43m)\u001b[49m\n\u001b[1;32m    151\u001b[0m \u001b[38;5;28;01mexcept\u001b[39;00m \u001b[38;5;167;01mException\u001b[39;00m \u001b[38;5;28;01mas\u001b[39;00m e:\n\u001b[1;32m    152\u001b[0m   filtered_tb \u001b[38;5;241m=\u001b[39m _process_traceback_frames(e\u001b[38;5;241m.\u001b[39m__traceback__)\n",
      "File \u001b[0;32m~/miniforge3/lib/python3.9/site-packages/tensorflow/python/ops/math_ops.py:1441\u001b[0m, in \u001b[0;36m_OverrideBinaryOperatorHelper.<locals>.r_binary_op_wrapper\u001b[0;34m(y, x)\u001b[0m\n\u001b[1;32m   1437\u001b[0m \u001b[38;5;28;01mwith\u001b[39;00m ops\u001b[38;5;241m.\u001b[39mname_scope(\u001b[38;5;28;01mNone\u001b[39;00m, op_name, [x, y]) \u001b[38;5;28;01mas\u001b[39;00m name:\n\u001b[1;32m   1438\u001b[0m   \u001b[38;5;66;03m# TODO(b/178860388): Figure out why binary_op_wrapper and\u001b[39;00m\n\u001b[1;32m   1439\u001b[0m   \u001b[38;5;66;03m#   r_binary_op_wrapper use different force_same_dtype values.\u001b[39;00m\n\u001b[1;32m   1440\u001b[0m   y, x \u001b[38;5;241m=\u001b[39m maybe_promote_tensors(y, x, force_same_dtype\u001b[38;5;241m=\u001b[39m\u001b[38;5;28;01mTrue\u001b[39;00m)\n\u001b[0;32m-> 1441\u001b[0m   \u001b[38;5;28;01mreturn\u001b[39;00m \u001b[43mfunc\u001b[49m\u001b[43m(\u001b[49m\u001b[43mx\u001b[49m\u001b[43m,\u001b[49m\u001b[43m \u001b[49m\u001b[43my\u001b[49m\u001b[43m,\u001b[49m\u001b[43m \u001b[49m\u001b[43mname\u001b[49m\u001b[38;5;241;43m=\u001b[39;49m\u001b[43mname\u001b[49m\u001b[43m)\u001b[49m\n",
      "File \u001b[0;32m~/miniforge3/lib/python3.9/site-packages/tensorflow/python/util/traceback_utils.py:150\u001b[0m, in \u001b[0;36mfilter_traceback.<locals>.error_handler\u001b[0;34m(*args, **kwargs)\u001b[0m\n\u001b[1;32m    148\u001b[0m filtered_tb \u001b[38;5;241m=\u001b[39m \u001b[38;5;28;01mNone\u001b[39;00m\n\u001b[1;32m    149\u001b[0m \u001b[38;5;28;01mtry\u001b[39;00m:\n\u001b[0;32m--> 150\u001b[0m   \u001b[38;5;28;01mreturn\u001b[39;00m \u001b[43mfn\u001b[49m\u001b[43m(\u001b[49m\u001b[38;5;241;43m*\u001b[39;49m\u001b[43margs\u001b[49m\u001b[43m,\u001b[49m\u001b[43m \u001b[49m\u001b[38;5;241;43m*\u001b[39;49m\u001b[38;5;241;43m*\u001b[39;49m\u001b[43mkwargs\u001b[49m\u001b[43m)\u001b[49m\n\u001b[1;32m    151\u001b[0m \u001b[38;5;28;01mexcept\u001b[39;00m \u001b[38;5;167;01mException\u001b[39;00m \u001b[38;5;28;01mas\u001b[39;00m e:\n\u001b[1;32m    152\u001b[0m   filtered_tb \u001b[38;5;241m=\u001b[39m _process_traceback_frames(e\u001b[38;5;241m.\u001b[39m__traceback__)\n",
      "File \u001b[0;32m~/miniforge3/lib/python3.9/site-packages/tensorflow/python/util/dispatch.py:1082\u001b[0m, in \u001b[0;36madd_dispatch_support.<locals>.decorator.<locals>.op_dispatch_handler\u001b[0;34m(*args, **kwargs)\u001b[0m\n\u001b[1;32m   1080\u001b[0m \u001b[38;5;66;03m# Fallback dispatch system (dispatch v1):\u001b[39;00m\n\u001b[1;32m   1081\u001b[0m \u001b[38;5;28;01mtry\u001b[39;00m:\n\u001b[0;32m-> 1082\u001b[0m   \u001b[38;5;28;01mreturn\u001b[39;00m \u001b[43mdispatch_target\u001b[49m\u001b[43m(\u001b[49m\u001b[38;5;241;43m*\u001b[39;49m\u001b[43margs\u001b[49m\u001b[43m,\u001b[49m\u001b[43m \u001b[49m\u001b[38;5;241;43m*\u001b[39;49m\u001b[38;5;241;43m*\u001b[39;49m\u001b[43mkwargs\u001b[49m\u001b[43m)\u001b[49m\n\u001b[1;32m   1083\u001b[0m \u001b[38;5;28;01mexcept\u001b[39;00m (\u001b[38;5;167;01mTypeError\u001b[39;00m, \u001b[38;5;167;01mValueError\u001b[39;00m):\n\u001b[1;32m   1084\u001b[0m   \u001b[38;5;66;03m# Note: convert_to_eager_tensor currently raises a ValueError, not a\u001b[39;00m\n\u001b[1;32m   1085\u001b[0m   \u001b[38;5;66;03m# TypeError, when given unexpected types.  So we need to catch both.\u001b[39;00m\n\u001b[1;32m   1086\u001b[0m   result \u001b[38;5;241m=\u001b[39m dispatch(op_dispatch_handler, args, kwargs)\n",
      "File \u001b[0;32m~/miniforge3/lib/python3.9/site-packages/tensorflow/python/ops/math_ops.py:548\u001b[0m, in \u001b[0;36msubtract\u001b[0;34m(x, y, name)\u001b[0m\n\u001b[1;32m    544\u001b[0m \u001b[38;5;129m@tf_export\u001b[39m(\u001b[38;5;124m\"\u001b[39m\u001b[38;5;124mmath.subtract\u001b[39m\u001b[38;5;124m\"\u001b[39m, \u001b[38;5;124m\"\u001b[39m\u001b[38;5;124msubtract\u001b[39m\u001b[38;5;124m\"\u001b[39m)\n\u001b[1;32m    545\u001b[0m \u001b[38;5;129m@dispatch\u001b[39m\u001b[38;5;241m.\u001b[39mregister_binary_elementwise_api\n\u001b[1;32m    546\u001b[0m \u001b[38;5;129m@dispatch\u001b[39m\u001b[38;5;241m.\u001b[39madd_dispatch_support\n\u001b[1;32m    547\u001b[0m \u001b[38;5;28;01mdef\u001b[39;00m \u001b[38;5;21msubtract\u001b[39m(x, y, name\u001b[38;5;241m=\u001b[39m\u001b[38;5;28;01mNone\u001b[39;00m):\n\u001b[0;32m--> 548\u001b[0m   \u001b[38;5;28;01mreturn\u001b[39;00m \u001b[43mgen_math_ops\u001b[49m\u001b[38;5;241;43m.\u001b[39;49m\u001b[43msub\u001b[49m\u001b[43m(\u001b[49m\u001b[43mx\u001b[49m\u001b[43m,\u001b[49m\u001b[43m \u001b[49m\u001b[43my\u001b[49m\u001b[43m,\u001b[49m\u001b[43m \u001b[49m\u001b[43mname\u001b[49m\u001b[43m)\u001b[49m\n",
      "File \u001b[0;32m~/miniforge3/lib/python3.9/site-packages/tensorflow/python/ops/gen_math_ops.py:11126\u001b[0m, in \u001b[0;36msub\u001b[0;34m(x, y, name)\u001b[0m\n\u001b[1;32m  11124\u001b[0m \u001b[38;5;28;01mif\u001b[39;00m tld\u001b[38;5;241m.\u001b[39mis_eager:\n\u001b[1;32m  11125\u001b[0m   \u001b[38;5;28;01mtry\u001b[39;00m:\n\u001b[0;32m> 11126\u001b[0m     _result \u001b[38;5;241m=\u001b[39m \u001b[43mpywrap_tfe\u001b[49m\u001b[38;5;241;43m.\u001b[39;49m\u001b[43mTFE_Py_FastPathExecute\u001b[49m\u001b[43m(\u001b[49m\n\u001b[1;32m  11127\u001b[0m \u001b[43m      \u001b[49m\u001b[43m_ctx\u001b[49m\u001b[43m,\u001b[49m\u001b[43m \u001b[49m\u001b[38;5;124;43m\"\u001b[39;49m\u001b[38;5;124;43mSub\u001b[39;49m\u001b[38;5;124;43m\"\u001b[39;49m\u001b[43m,\u001b[49m\u001b[43m \u001b[49m\u001b[43mname\u001b[49m\u001b[43m,\u001b[49m\u001b[43m \u001b[49m\u001b[43mx\u001b[49m\u001b[43m,\u001b[49m\u001b[43m \u001b[49m\u001b[43my\u001b[49m\u001b[43m)\u001b[49m\n\u001b[1;32m  11128\u001b[0m     \u001b[38;5;28;01mreturn\u001b[39;00m _result\n\u001b[1;32m  11129\u001b[0m   \u001b[38;5;28;01mexcept\u001b[39;00m _core\u001b[38;5;241m.\u001b[39m_NotOkStatusException \u001b[38;5;28;01mas\u001b[39;00m e:\n",
      "\u001b[0;31mKeyboardInterrupt\u001b[0m: "
     ]
    }
   ],
   "source": [
    "reload(MultiLearn_GLRM)\n",
    "from MultiLearn_GLRM import Multi_Learn, generate_AXY\n",
    "from MultiLearn_GLRM.Params.semisupervised_params import Multilearn_GLRM_Semisupervised_Train_Params, Multilearn_GLRM_Semisupervised_Test_Params\n",
    "\n",
    "A = X_test\n",
    "A_prime =tf.constant(A)\n",
    "\n",
    "\n",
    "X = np.random.standard_normal((A.shape[0], embedding_dim))\n",
    "X_prime = X\n",
    "X_prime = tf.Variable(X_prime)\n",
    "\n",
    "Y_prime = Y_final\n",
    "\n",
    "GLRM_loss_list, X_regularization_loss_list, Y_regularization_loss_list, X_grad_restrictions, Y_grad_restrictions =  Multilearn_GLRM_Semisupervised_Test_Params(A_prime, X_prime, Y_prime)\n",
    "params[\"test_hyper_params\"] = [GLRM_loss_list, X_regularization_loss_list, Y_regularization_loss_list]\n",
    "\n",
    "num_iterations=10000\n",
    "learning_rate=0.004\n",
    "results_log = []\n",
    "for i in range(0,10):\n",
    "    A = X_test\n",
    "    A_prime =tf.constant(A)\n",
    "\n",
    "\n",
    "    X = np.random.uniform(-1,1, (A.shape[0], embedding_dim))\n",
    "    X_prime = X\n",
    "    X_prime = tf.Variable(X_prime)\n",
    "\n",
    "    Y_prime = Y_final\n",
    "\n",
    "    result_val = Multi_Learn.predict(A_prime, X_prime, Y_prime, GLRM_loss_list, X_regularization_loss_list, Y_regularization_loss_list, num_iterations, learning_rate)\n",
    "    val_pred = np.hstack((result_val[0], A_prime))\n",
    "    val_pred = np.hstack((val_pred, np.ones(shape=(val_pred.shape[0],1))))\n",
    "    regress_val = np.matmul(val_pred, beta)\n",
    "    print(np.mean((scaler2.inverse_transform(Y_test) - scaler2.inverse_transform(regress_val))**2))\n",
    "    results_log.append(np.mean((scaler2.inverse_transform(Y_test) - scaler2.inverse_transform(regress_val))**2))\n",
    "\n",
    "params[\"test_error\"] = results_log\n",
    "\n",
    "with open('./logs/Prostate_'+ str(round(np.mean(results_log),5))+'_MSE.json', 'w') as f:\n",
    "    f.write(json.dumps(params, sort_keys=True, indent=4, separators=(',', ': ')))\n",
    "\n",
    "\n"
   ]
  },
  {
   "cell_type": "code",
   "execution_count": 156,
   "id": "e8cc1d4e",
   "metadata": {},
   "outputs": [],
   "source": []
  },
  {
   "cell_type": "code",
   "execution_count": 157,
   "id": "34f25389",
   "metadata": {},
   "outputs": [
    {
     "data": {
      "text/plain": [
       "{'train_hyper_params': [[{'Description': 'Supervised Learning Matrix Location',\n",
       "    'A_start_row': 0,\n",
       "    'A_end_row': 67,\n",
       "    'A_start_col': 0,\n",
       "    'A_end_col': 1,\n",
       "    'X_start_row': 0,\n",
       "    'X_end_row': 67,\n",
       "    'X_start_col': 1,\n",
       "    'X_end_col': 12,\n",
       "    'Y_start_row': 1,\n",
       "    'Y_end_row': 12,\n",
       "    'Y_start_col': 0,\n",
       "    'Y_end_col': 1,\n",
       "    'loss': 'MSE',\n",
       "    'weight': 0.7,\n",
       "    'alpha': 5},\n",
       "   {'Description': 'Matrix Factorization Matrix Location',\n",
       "    'A_start_row': 0,\n",
       "    'A_end_row': 67,\n",
       "    'A_start_col': 1,\n",
       "    'A_end_col': 9,\n",
       "    'X_start_row': 0,\n",
       "    'X_end_row': 67,\n",
       "    'X_start_col': 1,\n",
       "    'X_end_col': 3,\n",
       "    'Y_start_row': 1,\n",
       "    'Y_end_row': 3,\n",
       "    'Y_start_col': 1,\n",
       "    'Y_end_col': 9,\n",
       "    'weight': 0.3,\n",
       "    'alpha': 5,\n",
       "    'loss': 'MSE'}],\n",
       "  [{'Description': 'Regularize first column of X (constant 0)',\n",
       "    'X_start_row': 0,\n",
       "    'X_end_row': 67,\n",
       "    'X_start_col': 0,\n",
       "    'X_end_col': 1,\n",
       "    'penalty_type': 'inf',\n",
       "    'alpha': 99999999999.9},\n",
       "   {'Description': 'Regularize constant matrix A',\n",
       "    'X_start_row': 0,\n",
       "    'X_end_row': 67,\n",
       "    'X_start_col': 3,\n",
       "    'X_end_col': 12,\n",
       "    'penalty_type': 'constant',\n",
       "    'constant': 1,\n",
       "    'alpha': 0},\n",
       "   {'Description': 'Regularize Embeddings in X',\n",
       "    'X_start_row': 0,\n",
       "    'X_end_row': 67,\n",
       "    'X_start_col': 1,\n",
       "    'X_end_col': 3,\n",
       "    'penalty_type': 'L2',\n",
       "    'alpha': 0.001},\n",
       "   {'Description': 'Regularize Embeddings in X',\n",
       "    'X_start_row': 0,\n",
       "    'X_end_row': 67,\n",
       "    'X_start_col': 1,\n",
       "    'X_end_col': 3,\n",
       "    'penalty_type': 'L1',\n",
       "    'alpha': 0.0001}],\n",
       "  [{'Description': 'Regularize parameter estimate for Beta for embeddings in Y',\n",
       "    'X_start_row': 1,\n",
       "    'X_end_row': 3,\n",
       "    'X_start_col': 0,\n",
       "    'X_end_col': 1,\n",
       "    'penalty_type': 'L2',\n",
       "    'alpha': 0.001},\n",
       "   {'Description': 'Regularize parameter estimate for Beta for embeddings in Y',\n",
       "    'X_start_row': 1,\n",
       "    'X_end_row': 3,\n",
       "    'X_start_col': 0,\n",
       "    'X_end_col': 1,\n",
       "    'penalty_type': 'L1',\n",
       "    'alpha': 0.0001},\n",
       "   {'Description': 'Regularize parameter estimate for Beta for A in Y',\n",
       "    'X_start_row': 3,\n",
       "    'X_end_row': 11,\n",
       "    'X_start_col': 0,\n",
       "    'X_end_col': 1,\n",
       "    'penalty_type': 'L2',\n",
       "    'alpha': 0.001},\n",
       "   {'Description': 'Regularize parameter estimate for Beta for A  in Y',\n",
       "    'X_start_row': 3,\n",
       "    'X_end_row': 11,\n",
       "    'X_start_col': 0,\n",
       "    'X_end_col': 1,\n",
       "    'penalty_type': 'L1',\n",
       "    'alpha': 0.0001},\n",
       "   {'Description': 'Regularize Embedding Matrix in Y',\n",
       "    'X_start_row': 1,\n",
       "    'X_end_row': 3,\n",
       "    'X_start_col': 1,\n",
       "    'X_end_col': 9,\n",
       "    'penalty_type': 'L2',\n",
       "    'alpha': 0.001},\n",
       "   {'Description': 'Regularize first 0 row in Y',\n",
       "    'X_start_row': 0,\n",
       "    'X_end_row': 1,\n",
       "    'X_start_col': 0,\n",
       "    'X_end_col': 9,\n",
       "    'penalty_type': 'inf',\n",
       "    'alpha': 999999999.9},\n",
       "   {'Description': 'Regularize constant 0 matrix in Y',\n",
       "    'X_start_row': 3,\n",
       "    'X_end_row': 12,\n",
       "    'X_start_col': 1,\n",
       "    'X_end_col': 9,\n",
       "    'penalty_type': 'inf',\n",
       "    'alpha': 999999999.9}]],\n",
       " 'test_hyper_params': [[{'A_start_row': 0,\n",
       "    'A_end_row': 30,\n",
       "    'A_start_col': 0,\n",
       "    'A_end_col': 8,\n",
       "    'X_start_row': 0,\n",
       "    'X_end_row': 30,\n",
       "    'X_start_col': 0,\n",
       "    'X_end_col': 2,\n",
       "    'Y_start_row': 0,\n",
       "    'Y_end_row': 2,\n",
       "    'Y_start_col': 0,\n",
       "    'Y_end_col': 8,\n",
       "    'weight': 1,\n",
       "    'alpha': 5,\n",
       "    'loss': 'MSE'}],\n",
       "  [{'Description': 'Regularize Embeddings in X',\n",
       "    'X_start_row': 0,\n",
       "    'X_end_row': 30,\n",
       "    'X_start_col': 0,\n",
       "    'X_end_col': 2,\n",
       "    'penalty_type': 'L2',\n",
       "    'alpha': 0.001},\n",
       "   {'Description': 'Regularize Embeddings in X',\n",
       "    'X_start_row': 0,\n",
       "    'X_end_row': 30,\n",
       "    'X_start_col': 0,\n",
       "    'X_end_col': 2,\n",
       "    'penalty_type': 'L1',\n",
       "    'alpha': 0.0001}],\n",
       "  []],\n",
       " 'beta': [[-0.02956712013122058],\n",
       "  [-0.4350018544670634],\n",
       "  [0.4666376146989383],\n",
       "  [0.284795133795545],\n",
       "  [-0.0459148689703318],\n",
       "  [0.22732161821017519],\n",
       "  [0.19878154365882933],\n",
       "  [-0.2130014486017298],\n",
       "  [0.007128600071869611],\n",
       "  [0.11102322874103296],\n",
       "  [-0.009361444618359721]],\n",
       " 'embedding_matrix': [[-0.7107259005198898,\n",
       "   -0.4657265982910924,\n",
       "   -0.684086854754244,\n",
       "   -0.4930592916273081,\n",
       "   -0.6736599751923327,\n",
       "   -0.8208612463232478,\n",
       "   -0.984626358340223,\n",
       "   -0.8003530194558367],\n",
       "  [-0.5904040801542271,\n",
       "   0.5203533082853542,\n",
       "   0.48619884720981726,\n",
       "   0.653978851393219,\n",
       "   -0.7030938369585595,\n",
       "   -0.7055650212140486,\n",
       "   -0.23773123620651426,\n",
       "   -0.6589334782903604]],\n",
       " 'train_error': 0.3223202849028466,\n",
       " 'test_error': [0.45769193215509124,\n",
       "  0.4436425989624073,\n",
       "  0.44363872426793527,\n",
       "  0.4285291342779261,\n",
       "  0.44251888161935476,\n",
       "  0.4416388632789749,\n",
       "  0.43361452709522325,\n",
       "  0.4393398092676069,\n",
       "  0.44790776056661424,\n",
       "  0.4496471293720549],\n",
       " 'embedding_dim': 2,\n",
       " 'train_scaling_parmas': {'mean': [1.3134915526567166,\n",
       "   3.626107686567164,\n",
       "   64.74626865671642,\n",
       "   0.07143990820895525,\n",
       "   0.22388059701492538,\n",
       "   -0.21420300955223878,\n",
       "   6.731343283582089,\n",
       "   26.26865671641791],\n",
       "  'var': [1.3134915526567166,\n",
       "   3.626107686567164,\n",
       "   64.74626865671642,\n",
       "   0.07143990820895525,\n",
       "   0.22388059701492538,\n",
       "   -0.21420300955223878,\n",
       "   6.731343283582089,\n",
       "   26.26865671641791]},\n",
       " 'test_scaling_parmas': {'mean': [2.4523450850746267],\n",
       "  'var': [2.4523450850746267]},\n",
       " 'predictor_scaling_parmas': {'mean': [1.3134915526567166,\n",
       "   3.626107686567164,\n",
       "   64.74626865671642,\n",
       "   0.07143990820895525,\n",
       "   0.22388059701492538,\n",
       "   -0.21420300955223878,\n",
       "   6.731343283582089,\n",
       "   26.26865671641791],\n",
       "  'var': [1.3134915526567166,\n",
       "   3.626107686567164,\n",
       "   64.74626865671642,\n",
       "   0.07143990820895525,\n",
       "   0.22388059701492538,\n",
       "   -0.21420300955223878,\n",
       "   6.731343283582089,\n",
       "   26.26865671641791]},\n",
       " 'target_scaling_parmas': {'mean': [2.4523450850746267],\n",
       "  'var': [2.4523450850746267]}}"
      ]
     },
     "execution_count": 157,
     "metadata": {},
     "output_type": "execute_result"
    }
   ],
   "source": [
    "params"
   ]
  },
  {
   "cell_type": "code",
   "execution_count": 154,
   "id": "34fb8398",
   "metadata": {},
   "outputs": [
    {
     "data": {
      "text/plain": [
       "0.4496471293720549"
      ]
     },
     "execution_count": 154,
     "metadata": {},
     "output_type": "execute_result"
    }
   ],
   "source": [
    "val_pred = np.hstack((result_val[0], A_prime))\n",
    "val_pred = np.hstack((val_pred, np.ones(shape=(val_pred.shape[0],1))))\n",
    "regress_val = np.matmul(val_pred, beta)\n",
    "np.mean((scaler2.inverse_transform(Y_test) - scaler2.inverse_transform(regress_val))**2)"
   ]
  },
  {
   "cell_type": "code",
   "execution_count": 38,
   "id": "d376c42e",
   "metadata": {},
   "outputs": [
    {
     "data": {
      "text/plain": [
       "array([[ 2.30923451],\n",
       "       [ 0.50613568],\n",
       "       [-0.8628483 ],\n",
       "       [ 0.74312623],\n",
       "       [ 0.20962183],\n",
       "       [-0.55266391],\n",
       "       [-3.50156826],\n",
       "       [-2.65497436],\n",
       "       [-0.57342551],\n",
       "       [-2.41594279],\n",
       "       [-0.13582648],\n",
       "       [ 1.65054362],\n",
       "       [-1.98419775],\n",
       "       [ 0.55293849],\n",
       "       [-1.65754598],\n",
       "       [-0.78133466],\n",
       "       [-0.93538785],\n",
       "       [-0.73470754],\n",
       "       [ 1.15636356],\n",
       "       [ 0.0607335 ],\n",
       "       [-2.04546397],\n",
       "       [ 1.63477858],\n",
       "       [-1.20399331],\n",
       "       [ 0.08267352],\n",
       "       [ 0.02493476],\n",
       "       [-2.00865144],\n",
       "       [-1.57173321],\n",
       "       [ 1.12387255],\n",
       "       [-1.2316063 ],\n",
       "       [ 1.66820273]])"
      ]
     },
     "execution_count": 38,
     "metadata": {},
     "output_type": "execute_result"
    }
   ],
   "source": [
    "regress_val"
   ]
  },
  {
   "cell_type": "code",
   "execution_count": 41,
   "id": "0e30e421",
   "metadata": {},
   "outputs": [
    {
     "data": {
      "text/plain": [
       "array([[ 3.3375474],\n",
       "       [ 1.6956156],\n",
       "       [ 1.446919 ],\n",
       "       [ 1.4701758],\n",
       "       [ 2.8535925],\n",
       "       [ 2.7942279],\n",
       "       [ 1.2669476],\n",
       "       [ 4.029806 ],\n",
       "       [ 3.0130809],\n",
       "       [ 3.5307626],\n",
       "       [ 2.9204698],\n",
       "       [ 2.1575593],\n",
       "       [ 2.2137539],\n",
       "       [ 2.2975726],\n",
       "       [ 1.4929041],\n",
       "       [-0.1625189],\n",
       "       [ 3.5652984],\n",
       "       [ 2.0476928],\n",
       "       [ 1.5993876],\n",
       "       [ 2.5533438],\n",
       "       [ 3.4355988],\n",
       "       [ 2.8124102],\n",
       "       [ 2.5217206],\n",
       "       [-0.4307829],\n",
       "       [ 1.8484548],\n",
       "       [ 2.8419982],\n",
       "       [ 4.3851468],\n",
       "       [ 3.0373539],\n",
       "       [ 4.1295508],\n",
       "       [ 5.477509 ],\n",
       "       [ 1.3480731],\n",
       "       [ 2.677591 ],\n",
       "       [ 3.3928291],\n",
       "       [ 3.7123518],\n",
       "       [ 3.5876769],\n",
       "       [ 2.2772673],\n",
       "       [-0.1625189],\n",
       "       [ 2.5687881],\n",
       "       [-0.1625189],\n",
       "       [ 2.1916535],\n",
       "       [ 1.9242487],\n",
       "       [ 0.7654678],\n",
       "       [ 0.8544153],\n",
       "       [ 2.7180005],\n",
       "       [ 1.6389967],\n",
       "       [ 3.993603 ],\n",
       "       [ 2.9626924],\n",
       "       [ 1.7137979],\n",
       "       [ 3.2752562],\n",
       "       [ 2.8063861],\n",
       "       [ 2.9729753],\n",
       "       [ 3.6309855],\n",
       "       [ 1.2669476],\n",
       "       [ 2.6567569],\n",
       "       [ 1.8000583],\n",
       "       [ 3.9843437],\n",
       "       [ 4.6844434],\n",
       "       [ 3.4578927],\n",
       "       [ 3.5160131],\n",
       "       [ 1.5581446],\n",
       "       [ 2.9626924],\n",
       "       [ 3.6800909],\n",
       "       [ 0.3715636],\n",
       "       [ 1.8946169],\n",
       "       [ 2.3272777],\n",
       "       [ 1.2669476],\n",
       "       [ 2.008214 ]])"
      ]
     },
     "execution_count": 41,
     "metadata": {},
     "output_type": "execute_result"
    }
   ],
   "source": [
    "Y_train"
   ]
  },
  {
   "cell_type": "code",
   "execution_count": 216,
   "id": "65aee6e8",
   "metadata": {},
   "outputs": [
    {
     "data": {
      "text/plain": [
       "(array([[4601,  133],\n",
       "        [ 961,  305]]),\n",
       " array([[18416,   214],\n",
       "        [ 3461,  1909]]))"
      ]
     },
     "execution_count": 216,
     "metadata": {},
     "output_type": "execute_result"
    }
   ],
   "source": [
    "from sklearn.metrics import confusion_matrix\n",
    "\n",
    "confusion_matrix(Y_test, predictions_val), confusion_matrix(Y_train, predictions)"
   ]
  },
  {
   "cell_type": "code",
   "execution_count": 204,
   "id": "69c99ec4",
   "metadata": {},
   "outputs": [
    {
     "data": {
      "text/plain": [
       "(0.6715927750410509, 0.32306477093206953)"
      ]
     },
     "execution_count": 204,
     "metadata": {},
     "output_type": "execute_result"
    }
   ],
   "source": [
    "409/(409+200), 409/(409+857)"
   ]
  },
  {
   "cell_type": "code",
   "execution_count": 217,
   "id": "979995fb",
   "metadata": {},
   "outputs": [
    {
     "data": {
      "text/plain": [
       "(0.6963470319634704, 0.24091627172195892)"
      ]
     },
     "execution_count": 217,
     "metadata": {},
     "output_type": "execute_result"
    }
   ],
   "source": [
    "305/(305+133), 305/(305+961)"
   ]
  },
  {
   "cell_type": "code",
   "execution_count": 205,
   "id": "07698ffe",
   "metadata": {},
   "outputs": [
    {
     "data": {
      "text/plain": [
       "(0.7902534113060429, 0.37746741154562385)"
      ]
     },
     "execution_count": 205,
     "metadata": {},
     "output_type": "execute_result"
    }
   ],
   "source": [
    "2027/(2027+538), 2027/(2027+3343)"
   ]
  },
  {
   "cell_type": "code",
   "execution_count": 206,
   "id": "6a5846e8",
   "metadata": {},
   "outputs": [
    {
     "data": {
      "text/plain": [
       "(0.814375, 0.8043333333333333)"
      ]
     },
     "execution_count": 206,
     "metadata": {},
     "output_type": "execute_result"
    }
   ],
   "source": [
    "from sklearn.linear_model import LogisticRegression\n",
    "\n",
    "X_train_embedding = result[0][:, 1:embedding_dim+1]\n",
    "X_train_embedding = X_train_embedding.numpy()\n",
    "\n",
    "X_test_embedding = result_val[0].numpy()\n",
    "\n",
    "\n",
    "clf = LogisticRegression().fit(X_train_embedding, Y_train)\n",
    "pred_logistic = clf.predict(X_train_embedding)\n",
    "pred_logistic_val = clf.predict(X_test_embedding)\n",
    "accuracy_score(Y_train, pred_logistic), accuracy_score(Y_test, pred_logistic_val)"
   ]
  },
  {
   "cell_type": "code",
   "execution_count": 208,
   "id": "21d387d1",
   "metadata": {},
   "outputs": [
    {
     "data": {
      "text/plain": [
       "(array([[4498,  236],\n",
       "        [ 938,  328]]),\n",
       " array([[17980,   650],\n",
       "        [ 3805,  1565]]))"
      ]
     },
     "execution_count": 208,
     "metadata": {},
     "output_type": "execute_result"
    }
   ],
   "source": [
    "confusion_matrix(Y_test, pred_logistic_val), confusion_matrix(Y_train, pred_logistic)"
   ]
  },
  {
   "cell_type": "code",
   "execution_count": 209,
   "id": "f17149e4",
   "metadata": {},
   "outputs": [
    {
     "data": {
      "text/plain": [
       "(0.5815602836879432, 0.25908372827804105)"
      ]
     },
     "execution_count": 209,
     "metadata": {},
     "output_type": "execute_result"
    }
   ],
   "source": [
    "328/(328+236), 328/(328+938)"
   ]
  },
  {
   "cell_type": "code",
   "execution_count": 210,
   "id": "aedaa965",
   "metadata": {},
   "outputs": [
    {
     "data": {
      "text/plain": [
       "(0.7065462753950339, 0.2914338919925512)"
      ]
     },
     "execution_count": 210,
     "metadata": {},
     "output_type": "execute_result"
    }
   ],
   "source": [
    "1565/(1565+650), 1565/(1565+3805)"
   ]
  },
  {
   "cell_type": "code",
   "execution_count": 183,
   "id": "9377afd4",
   "metadata": {},
   "outputs": [
    {
     "data": {
      "text/plain": [
       "<tf.Tensor: shape=(24,), dtype=float64, numpy=\n",
       "array([-0.06078221, -0.08096537,  0.07017905, -0.22062607,  0.35488053,\n",
       "        0.39862827,  0.2153722 ,  0.06315138,  0.01180752,  0.06021941,\n",
       "        0.04830898, -0.18859167,  0.08307187,  0.16422852,  0.00642617,\n",
       "        0.14052606,  0.0896697 , -0.22232949, -0.17849683, -0.08283164,\n",
       "       -0.11471487, -0.12704948, -0.07854479, -1.26667971])>"
      ]
     },
     "execution_count": 183,
     "metadata": {},
     "output_type": "execute_result"
    }
   ],
   "source": [
    "beta[5:]"
   ]
  },
  {
   "cell_type": "code",
   "execution_count": null,
   "id": "6461d6e4",
   "metadata": {},
   "outputs": [],
   "source": []
  },
  {
   "cell_type": "code",
   "execution_count": 163,
   "id": "d1db71d5",
   "metadata": {},
   "outputs": [
    {
     "data": {
      "text/plain": [
       "<tf.Tensor: shape=(23,), dtype=float64, numpy=\n",
       "array([-0.8944437 , -1.29999224,  0.19562207,  0.8480684 , -1.33541679,\n",
       "        1.78308844,  1.76876603,  0.12852902,  0.18145061,  0.22244805,\n",
       "        0.24003907,  0.00893509,  0.01580282,  0.03063303,  0.02771253,\n",
       "       -0.31078083, -0.31270152, -0.36732258, -0.16417763, -0.16869953,\n",
       "       -0.18406823, -0.26715539, -0.25424832])>"
      ]
     },
     "execution_count": 163,
     "metadata": {},
     "output_type": "execute_result"
    }
   ],
   "source": [
    "A_prime[0]"
   ]
  },
  {
   "cell_type": "code",
   "execution_count": null,
   "id": "17cabbd3",
   "metadata": {},
   "outputs": [],
   "source": [
    "x_embeddings"
   ]
  },
  {
   "cell_type": "code",
   "execution_count": 62,
   "id": "c98a3071",
   "metadata": {
    "scrolled": true
   },
   "outputs": [
    {
     "data": {
      "text/plain": [
       "array([0.34780297, 0.16671354, 0.16582201, 0.64219219, 0.1262042 ,\n",
       "       0.20658415, 0.08178106, 0.15208459, 0.1876595 , 0.15627313])"
      ]
     },
     "execution_count": 62,
     "metadata": {},
     "output_type": "execute_result"
    }
   ],
   "source": [
    "prob_val[0:10]"
   ]
  },
  {
   "cell_type": "code",
   "execution_count": 63,
   "id": "e9bc4471",
   "metadata": {},
   "outputs": [
    {
     "data": {
      "text/plain": [
       "array([0.34500034, 0.21897527, 0.21774101, 0.24583357, 0.30727848,\n",
       "       0.22784088, 0.50308932, 0.13373273, 0.30618575, 0.07753649])"
      ]
     },
     "execution_count": 63,
     "metadata": {},
     "output_type": "execute_result"
    }
   ],
   "source": [
    "prob[0:10]"
   ]
  },
  {
   "cell_type": "code",
   "execution_count": null,
   "id": "4508e482",
   "metadata": {},
   "outputs": [],
   "source": [
    "temp = tf.Variable([1,1,1])\n",
    "tf.where(temp!=1).shape[0]\n",
    "# tf.where([True, False, False, True]).numpy()"
   ]
  },
  {
   "cell_type": "code",
   "execution_count": 151,
   "id": "c6dcba4d",
   "metadata": {},
   "outputs": [
    {
     "data": {
      "text/plain": [
       "array([-1.9516478 , -2.04629543, -1.70377307, -2.15427262, -1.38936124,\n",
       "       -1.20421852, -1.29999224, -2.36851212, -2.98284474, -1.55114657,\n",
       "       -1.77752498, -1.56302776, -1.53258922, -1.53304331, -1.53661396,\n",
       "       -1.48686073, -0.85538492, -1.65103594, -1.35636746, -1.70503041,\n",
       "       -1.67992001, -4.18589619, -0.3678535 , -0.2796292 , -0.30874059,\n",
       "       -0.31871886, -0.31325859, -0.29435041,  1.        ])"
      ]
     },
     "execution_count": 151,
     "metadata": {},
     "output_type": "execute_result"
    }
   ],
   "source": [
    "np.min(val_pred,axis=0)"
   ]
  },
  {
   "cell_type": "code",
   "execution_count": 152,
   "id": "7ddcd2bf",
   "metadata": {},
   "outputs": [
    {
     "data": {
      "text/plain": [
       "array([ 0.        , -2.11853932, -1.95478155, -2.32238873, -1.65901012,\n",
       "       -1.37094107, -1.20421852, -1.29999224, -2.36851212, -2.98284474,\n",
       "       -1.55114657, -1.77752498, -1.56302776, -1.53258922, -1.53304331,\n",
       "       -1.53661396, -1.48686073, -2.97568136, -1.68302713, -2.986122  ,\n",
       "       -3.36721611, -2.01072475, -6.39286167, -0.3678535 , -0.2796292 ,\n",
       "       -0.30874059, -0.31871886, -0.31325859, -0.29435041,  1.        ])"
      ]
     },
     "execution_count": 152,
     "metadata": {},
     "output_type": "execute_result"
    }
   ],
   "source": [
    "np.min(result[0],axis=0)"
   ]
  },
  {
   "cell_type": "code",
   "execution_count": 153,
   "id": "2100c827",
   "metadata": {},
   "outputs": [
    {
     "data": {
      "text/plain": [
       "<tf.Tensor: shape=(29,), dtype=float64, numpy=\n",
       "array([ 2.32920304,  1.87744885,  2.28603496,  0.0193024 ,  1.94286537,\n",
       "       -0.05994122, -0.09603823, -0.12248185, -0.20116798,  0.17172587,\n",
       "        0.24053478,  0.05275302, -0.00564511, -0.04167461,  0.09804698,\n",
       "        0.02832339, -0.25440925,  0.18297612, -0.08606386, -0.02333948,\n",
       "       -0.24518346,  0.50206154, -0.1084216 , -0.01720935, -0.23590036,\n",
       "        0.28719348,  0.0371344 ,  0.08209635, -1.26288559])>"
      ]
     },
     "execution_count": 153,
     "metadata": {},
     "output_type": "execute_result"
    }
   ],
   "source": [
    "beta"
   ]
  },
  {
   "cell_type": "code",
   "execution_count": 69,
   "id": "3ada90a3",
   "metadata": {},
   "outputs": [
    {
     "data": {
      "text/plain": [
       "<tf.Tensor: shape=(7, 29), dtype=float64, numpy=\n",
       "array([[ 0.00000000e+00,  2.79704164e-02,  1.24598251e-01,\n",
       "         8.08389672e-03, -1.64245262e-01, -8.94443705e-01,\n",
       "         7.69235361e-01,  1.95622071e-01, -1.06738817e+00,\n",
       "         1.74691685e-01,  2.78172924e-03,  1.02869133e-01,\n",
       "         1.28529024e-01,  1.81450606e-01,  2.22448051e-01,\n",
       "         2.40039073e-01, -4.96488771e-02, -5.87046225e-03,\n",
       "         4.28777847e-02, -2.22836998e-01, -1.82979704e-01,\n",
       "        -1.52426383e-01, -2.35124189e-01, -1.82546015e-01,\n",
       "        -2.34184570e-01, -2.44808832e-01, -2.43252446e-01,\n",
       "        -2.37628924e-01,  1.00000000e+00],\n",
       "       [ 0.00000000e+00, -2.86595088e-02,  1.35622732e-01,\n",
       "        -2.72350274e-01, -4.77846802e-01, -8.94443705e-01,\n",
       "        -1.29999224e+00,  1.95622071e-01, -1.06738817e+00,\n",
       "         2.33198950e+00, -8.87371627e-01,  1.02869133e-01,\n",
       "        -7.02030096e-01,  1.81450606e-01,  2.22448051e-01,\n",
       "         2.40039073e-01, -5.77854383e-01, -6.10775294e-01,\n",
       "        -1.54446033e-01, -3.39755882e-01, -3.45598022e-01,\n",
       "        -3.28507580e-01, -2.35124189e-01,  1.48416884e+00,\n",
       "         3.12559602e-01,  2.85999558e-01, -2.68137700e-01,\n",
       "        -2.55836520e-01,  1.00000000e+00],\n",
       "       [ 0.00000000e+00,  1.17330722e-01, -2.64749844e-02,\n",
       "        -1.84203187e-01,  7.09118136e-02, -8.94443705e-01,\n",
       "        -1.29999224e+00, -1.08644502e+00,  8.48068396e-01,\n",
       "         1.74691685e-01,  2.78172924e-03,  1.02869133e-01,\n",
       "         1.28529024e-01,  1.81450606e-01,  2.22448051e-01,\n",
       "         2.40039073e-01,  1.90000299e-01,  1.19706661e-01,\n",
       "         1.64841384e-01, -3.64268575e-01, -3.37759597e-01,\n",
       "        -3.13411525e-01, -2.01941862e-01, -1.92355311e-01,\n",
       "        -2.67921171e-01, -2.51527926e-01, -2.47771084e-01,\n",
       "        -2.48973220e-01,  1.00000000e+00],\n",
       "       [ 0.00000000e+00, -6.05912198e-01, -3.86277143e-01,\n",
       "        -3.68982796e-01,  1.62826294e-01,  2.59052299e+00,\n",
       "        -1.29999224e+00, -1.08644502e+00,  8.48068396e-01,\n",
       "        -6.88227442e-01,  2.78172924e-03,  1.02869133e-01,\n",
       "         1.28529024e-01,  1.81450606e-01,  2.22448051e-01,\n",
       "         2.40039073e-01,  4.36858171e+00,  5.16430853e+00,\n",
       "         5.84580523e+00,  7.93229480e+00,  7.34131168e+00,\n",
       "         7.36005017e+00,  3.28220246e+00,  1.64376225e+00,\n",
       "         2.05220015e+00,  1.04115848e+00,  5.87194682e-01,\n",
       "         4.86704406e-01,  1.00000000e+00],\n",
       "       [ 0.00000000e+00, -4.72709750e-02,  1.89276985e-01,\n",
       "         6.10510562e-01, -6.72602754e-03, -5.07225183e-01,\n",
       "         7.69235361e-01,  1.95622071e-01,  8.48068396e-01,\n",
       "        -1.33541679e+00,  2.78172924e-03, -7.30079315e-01,\n",
       "        -7.02030096e-01,  1.81450606e-01,  2.22448051e-01,\n",
       "        -6.23410831e-01, -5.32994149e-01, -6.85956708e-01,\n",
       "        -6.71130589e-01, -6.68267187e-01, -6.65515134e-01,\n",
       "        -6.42329714e-01, -3.42634928e-01, -2.50730242e-01,\n",
       "        -3.08740594e-01, -2.79680928e-01, -2.02781164e-01,\n",
       "        -2.06885880e-01,  1.00000000e+00],\n",
       "       [ 0.00000000e+00,  6.25664083e-02,  8.32136782e-02,\n",
       "        -1.78771143e-01, -6.26716247e-02, -1.97450365e-01,\n",
       "         7.69235361e-01,  1.47768916e+00, -1.06738817e+00,\n",
       "        -7.96092333e-01,  2.78172924e-03,  1.02869133e-01,\n",
       "         1.78964726e+00,  1.81450606e-01,  2.22448051e-01,\n",
       "         2.40039073e-01, -5.41129282e-01, -4.91025085e-01,\n",
       "        -5.02387636e-01, -4.78159047e-01, -4.67449901e-01,\n",
       "        -5.89045542e-01, -1.46925564e-01, -2.79629198e-01,\n",
       "        -2.81900425e-01, -2.51527926e-01, -2.47771084e-01,\n",
       "        -2.37628924e-01,  1.00000000e+00],\n",
       "       [ 0.00000000e+00,  4.16851089e-01,  3.47443495e-01,\n",
       "         4.90604717e-01, -1.30320072e-01, -1.12677482e+00,\n",
       "        -1.29999224e+00,  1.47768916e+00,  8.48068396e-01,\n",
       "        -4.10380966e-02, -1.77752498e+00, -1.56302776e+00,\n",
       "        -1.53258922e+00, -1.53304331e+00, -6.57082957e-01,\n",
       "        -6.23410831e-01, -6.96467648e-01, -6.91357264e-01,\n",
       "        -6.79943877e-01, -6.71771265e-01, -4.47331829e-01,\n",
       "        -4.16734132e-01, -3.67853497e-01, -2.79629198e-01,\n",
       "        -3.08740594e-01,  5.55233637e-01, -2.39781608e-01,\n",
       "        -2.94350406e-01,  1.00000000e+00]])>"
      ]
     },
     "execution_count": 69,
     "metadata": {},
     "output_type": "execute_result"
    }
   ],
   "source": [
    "result[0][3:10,:]"
   ]
  },
  {
   "cell_type": "code",
   "execution_count": 103,
   "id": "e00b9b51",
   "metadata": {},
   "outputs": [
    {
     "data": {
      "text/plain": [
       "True"
      ]
     },
     "execution_count": 103,
     "metadata": {},
     "output_type": "execute_result"
    }
   ],
   "source": [
    "'beta' in params.keys()"
   ]
  }
 ],
 "metadata": {
  "kernelspec": {
   "display_name": "Python 3 (ipykernel)",
   "language": "python",
   "name": "python3"
  },
  "language_info": {
   "codemirror_mode": {
    "name": "ipython",
    "version": 3
   },
   "file_extension": ".py",
   "mimetype": "text/x-python",
   "name": "python",
   "nbconvert_exporter": "python",
   "pygments_lexer": "ipython3",
   "version": "3.9.10"
  }
 },
 "nbformat": 4,
 "nbformat_minor": 5
}
