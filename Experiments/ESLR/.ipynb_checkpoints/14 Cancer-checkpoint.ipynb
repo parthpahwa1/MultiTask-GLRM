{
 "cells": [
  {
   "cell_type": "code",
   "execution_count": null,
   "id": "8541f4bf",
   "metadata": {},
   "outputs": [],
   "source": [
    "import tensorflow as tf\n",
    "import numpy as np\n",
    "import pandas as pd\n",
    "from sklearn.linear_model import LogisticRegression\n",
    "from sklearn.metrics import accuracy_score\n",
    "from sklearn.preprocessing import StandardScaler\n",
    "from importlib import reload\n",
    "import json\n",
    "%load_ext autoreload\n",
    "%autoreload 2"
   ]
  },
  {
   "cell_type": "code",
   "execution_count": 2,
   "id": "f18b8c23",
   "metadata": {},
   "outputs": [],
   "source": [
    "import os\n",
    "import sys\n",
    "\n",
    "module_path = os.path.abspath(os.path.join('../../'))\n",
    "if module_path not in sys.path:\n",
    "    sys.path.append(module_path)\n",
    "\n",
    "import MultiLearn_GLRM"
   ]
  },
  {
   "cell_type": "code",
   "execution_count": 11,
   "id": "9bf28c0e",
   "metadata": {},
   "outputs": [],
   "source": [
    "df_train = pd.read_csv('./cancer/xtrain.data', sep='\\s+', header=None)\n",
    "df_label_train = pd.read_csv('./cancer/xtrain_label.data', sep='\\s+', header=None)\n",
    "df_test = pd.read_csv('./cancer/xtest.data', sep='\\s+', header=None)\n",
    "df_label_test = pd.read_csv('./cancer/xtest_label.data', sep='\\s+', header=None)\n",
    "\n",
    "df_train.loc[-1] = df_label_train.loc[0].to_list()\n",
    "df_train.index = df_train.index + 1  \n",
    "df_train = df_train.sort_index()\n",
    "df_train = df_train.T\n",
    "\n",
    "df_test.loc[-1] = df_label_test.loc[0].to_list()\n",
    "df_test.index = df_test.index + 1  \n",
    "df_test = df_test.sort_index()\n",
    "df_test = df_test.T\n",
    "\n",
    "\n",
    "X_train = df_train.drop(columns=[0])\n",
    "Y_train = df_train[0]\n",
    "Y_train = np.array(Y_train, dtype=np.int64).reshape(-1,1)\n",
    "\n",
    "X_test = df_test.drop(columns=[0])\n",
    "Y_test = df_test[0]\n",
    "Y_test = np.array(Y_test, dtype=np.int64).reshape(-1,1)\n",
    "\n",
    "scaler = StandardScaler()\n",
    "X_train = scaler.fit_transform(X_train)\n",
    "X_test = scaler.fit_transform(X_test)\n",
    "\n",
    "\n",
    "params = {\n",
    "    \"train_hyper_params\": None,\n",
    "    \"test_hyper_params\": None,\n",
    "    \"beta\": None,\n",
    "    \"embedding_matrix\": None,\n",
    "    \"train_error\": None,\n",
    "    \"test_error\": None,\n",
    "    \"embedding_dim\": None,\n",
    "    \"predictor_scaling_parmas\": None,\n",
    "    \"target_scaling_parmas\": None\n",
    "}"
   ]
  },
  {
   "cell_type": "code",
   "execution_count": 17,
   "id": "da4cfca1",
   "metadata": {},
   "outputs": [],
   "source": [
    "from sklearn.decomposition import PCA\n",
    "pca = PCA(n_components=144)\n",
    "X_train_pca = pca.fit_transform(X_train)\n",
    "\n",
    "n_class = max(max(Y_train), max(Y_test))[0]\n",
    "\n",
    "one_hot_targets = np.eye(n_class)[Y_train.reshape(-1,)-1]\n",
    "Train = np.hstack((X_train_pca, one_hot_targets))"
   ]
  },
  {
   "cell_type": "code",
   "execution_count": 18,
   "id": "c9008006",
   "metadata": {},
   "outputs": [
    {
     "data": {
      "text/plain": [
       "(144, 158)"
      ]
     },
     "execution_count": 18,
     "metadata": {},
     "output_type": "execute_result"
    }
   ],
   "source": [
    "Train.shape"
   ]
  },
  {
   "cell_type": "code",
   "execution_count": 19,
   "id": "84527605",
   "metadata": {},
   "outputs": [],
   "source": [
    "params[\"predictor_scaling_parmas\"] =  {\n",
    "    \"mean\" : scaler.mean_.tolist(),\n",
    "    \"var\" : scaler.mean_.tolist()\n",
    "}"
   ]
  },
  {
   "cell_type": "code",
   "execution_count": null,
   "id": "96597f86",
   "metadata": {
    "scrolled": true
   },
   "outputs": [
    {
     "name": "stdout",
     "output_type": "stream",
     "text": [
      "epoch: 0\n",
      "iter: 0 Total loss: tf.Tensor(859.2899256627837, shape=(), dtype=float64) [<tf.Tensor: shape=(), dtype=float64, numpy=14.9046821121997>, <tf.Tensor: shape=(), dtype=float64, numpy=214.00025340296295>]\n",
      "iter: 30 Total loss: tf.Tensor(678.0067532709893, shape=(), dtype=float64)\n",
      "iter: 0 Total loss: tf.Tensor(677.4163040877055, shape=(), dtype=float64)\n",
      "iter: 2 Total loss: tf.Tensor(375.30749983524504, shape=(), dtype=float64)\n",
      "iter: 4 Total loss: tf.Tensor(251.3761654524726, shape=(), dtype=float64)\n",
      "iter: 6 Total loss: tf.Tensor(190.8491579650508, shape=(), dtype=float64)\n",
      "iter: 8 Total loss: tf.Tensor(160.88752999639283, shape=(), dtype=float64)\n",
      "iter: 10 Total loss: tf.Tensor(146.35803612193178, shape=(), dtype=float64)\n",
      "iter: 12 Total loss: tf.Tensor(138.08254668696097, shape=(), dtype=float64)\n",
      "iter: 14 Total loss: tf.Tensor(133.65523478887502, shape=(), dtype=float64)\n",
      "iter: 16 Total loss: tf.Tensor(130.76337764759774, shape=(), dtype=float64)\n",
      "iter: 18 Total loss: tf.Tensor(128.860720729985, shape=(), dtype=float64)\n",
      "iter: 19 Total loss: tf.Tensor(128.76467798108644, shape=(), dtype=float64)\n",
      "epoch: 1\n",
      "iter: 0 Total loss: tf.Tensor(127.424615733842, shape=(), dtype=float64) [<tf.Tensor: shape=(), dtype=float64, numpy=8.7032016460073>, <tf.Tensor: shape=(), dtype=float64, numpy=60.97083757062845>]\n",
      "iter: 21 Total loss: tf.Tensor(113.27140634316913, shape=(), dtype=float64)\n",
      "iter: 0 Total loss: tf.Tensor(113.18241947771875, shape=(), dtype=float64)\n",
      "iter: 2 Total loss: tf.Tensor(101.56482817109344, shape=(), dtype=float64)\n",
      "iter: 4 Total loss: tf.Tensor(91.88402633201991, shape=(), dtype=float64)\n",
      "iter: 6 Total loss: tf.Tensor(87.79418091707731, shape=(), dtype=float64)\n",
      "iter: 8 Total loss: tf.Tensor(85.76066072370367, shape=(), dtype=float64)\n",
      "iter: 10 Total loss: tf.Tensor(84.60150059623811, shape=(), dtype=float64)\n",
      "iter: 12 Total loss: tf.Tensor(84.14444137617485, shape=(), dtype=float64)\n",
      "iter: 14 Total loss: tf.Tensor(83.86525936721961, shape=(), dtype=float64)\n",
      "iter: 16 Total loss: tf.Tensor(83.88071999961926, shape=(), dtype=float64)\n",
      "iter: 18 Total loss: tf.Tensor(83.98561749744289, shape=(), dtype=float64)\n",
      "iter: 20 Total loss: tf.Tensor(84.16291528601442, shape=(), dtype=float64)\n",
      "iter: 22 Total loss: tf.Tensor(84.40190521518835, shape=(), dtype=float64)\n",
      "iter: 24 Total loss: tf.Tensor(84.60425481399434, shape=(), dtype=float64)\n",
      "iter: 26 Total loss: tf.Tensor(84.79617096849263, shape=(), dtype=float64)\n",
      "iter: 28 Total loss: tf.Tensor(84.90157911042809, shape=(), dtype=float64)\n",
      "iter: 30 Total loss: tf.Tensor(85.07028172829715, shape=(), dtype=float64)\n",
      "iter: 32 Total loss: tf.Tensor(85.22588073869144, shape=(), dtype=float64)\n",
      "iter: 34 Total loss: tf.Tensor(85.41343493329185, shape=(), dtype=float64)\n",
      "iter: 36 Total loss: tf.Tensor(85.50263529549588, shape=(), dtype=float64)\n",
      "iter: 38 Total loss: tf.Tensor(85.5834758280916, shape=(), dtype=float64)\n",
      "iter: 40 Total loss: tf.Tensor(85.65999080912908, shape=(), dtype=float64)\n",
      "iter: 42 Total loss: tf.Tensor(85.7153724575331, shape=(), dtype=float64)\n",
      "iter: 44 Total loss: tf.Tensor(85.75275619863623, shape=(), dtype=float64)\n",
      "iter: 46 Total loss: tf.Tensor(85.77873983145798, shape=(), dtype=float64)\n",
      "iter: 48 Total loss: tf.Tensor(85.82426425511892, shape=(), dtype=float64)\n",
      "iter: 50 Total loss: tf.Tensor(85.88553736075943, shape=(), dtype=float64)\n",
      "iter: 52 Total loss: tf.Tensor(85.8568906537711, shape=(), dtype=float64)\n",
      "iter: 54 Total loss: tf.Tensor(85.85927040761369, shape=(), dtype=float64)\n",
      "iter: 56 Total loss: tf.Tensor(85.90694740206723, shape=(), dtype=float64)\n",
      "iter: 58 Total loss: tf.Tensor(85.91399031768977, shape=(), dtype=float64)\n",
      "iter: 60 Total loss: tf.Tensor(85.99890662287865, shape=(), dtype=float64)\n",
      "iter: 62 Total loss: tf.Tensor(85.98911101220745, shape=(), dtype=float64)\n",
      "iter: 64 Total loss: tf.Tensor(86.0007753173771, shape=(), dtype=float64)\n",
      "iter: 66 Total loss: tf.Tensor(86.01396411044092, shape=(), dtype=float64)\n",
      "iter: 68 Total loss: tf.Tensor(85.96663096322072, shape=(), dtype=float64)\n",
      "iter: 70 Total loss: tf.Tensor(86.02613889014964, shape=(), dtype=float64)\n",
      "iter: 72 Total loss: tf.Tensor(86.03582929685308, shape=(), dtype=float64)\n",
      "iter: 74 Total loss: tf.Tensor(86.06739096701472, shape=(), dtype=float64)\n",
      "iter: 76 Total loss: tf.Tensor(86.02932194948664, shape=(), dtype=float64)\n",
      "iter: 78 Total loss: tf.Tensor(85.97316375793093, shape=(), dtype=float64)\n",
      "iter: 80 Total loss: tf.Tensor(86.00525328275694, shape=(), dtype=float64)\n",
      "iter: 82 Total loss: tf.Tensor(85.99744736682533, shape=(), dtype=float64)\n",
      "iter: 84 Total loss: tf.Tensor(85.93583630986598, shape=(), dtype=float64)\n",
      "iter: 86 Total loss: tf.Tensor(85.98460149709646, shape=(), dtype=float64)\n",
      "iter: 88 Total loss: tf.Tensor(85.92575665575015, shape=(), dtype=float64)\n",
      "iter: 90 Total loss: tf.Tensor(85.92130470035875, shape=(), dtype=float64)\n",
      "iter: 92 Total loss: tf.Tensor(85.93027845171443, shape=(), dtype=float64)\n",
      "iter: 94 Total loss: tf.Tensor(85.85811103601127, shape=(), dtype=float64)\n",
      "iter: 96 Total loss: tf.Tensor(85.84437961900176, shape=(), dtype=float64)\n",
      "iter: 98 Total loss: tf.Tensor(85.80770000078346, shape=(), dtype=float64)\n",
      "epoch: 2\n",
      "iter: 0 Total loss: tf.Tensor(85.78549839886739, shape=(), dtype=float64) [<tf.Tensor: shape=(), dtype=float64, numpy=3.0492584898292714>, <tf.Tensor: shape=(), dtype=float64, numpy=49.087764778584685>]\n",
      "iter: 18 Total loss: tf.Tensor(80.70895108646647, shape=(), dtype=float64)\n",
      "iter: 0 Total loss: tf.Tensor(80.62323546563684, shape=(), dtype=float64)\n",
      "iter: 2 Total loss: tf.Tensor(87.86423328703009, shape=(), dtype=float64)\n",
      "iter: 4 Total loss: tf.Tensor(80.87988455947526, shape=(), dtype=float64)\n",
      "iter: 6 Total loss: tf.Tensor(76.53320880309838, shape=(), dtype=float64)\n",
      "iter: 8 Total loss: tf.Tensor(74.44642194095051, shape=(), dtype=float64)\n",
      "iter: 10 Total loss: tf.Tensor(73.13449982332003, shape=(), dtype=float64)\n",
      "iter: 12 Total loss: tf.Tensor(72.27395892566386, shape=(), dtype=float64)\n",
      "iter: 14 Total loss: tf.Tensor(71.71733343772475, shape=(), dtype=float64)\n",
      "iter: 16 Total loss: tf.Tensor(71.45511270787085, shape=(), dtype=float64)\n",
      "iter: 18 Total loss: tf.Tensor(71.45871833634564, shape=(), dtype=float64)\n",
      "iter: 20 Total loss: tf.Tensor(71.56152788432651, shape=(), dtype=float64)\n",
      "iter: 22 Total loss: tf.Tensor(71.65243141472715, shape=(), dtype=float64)\n",
      "iter: 24 Total loss: tf.Tensor(71.68466384597204, shape=(), dtype=float64)\n",
      "iter: 26 Total loss: tf.Tensor(71.59597170276193, shape=(), dtype=float64)\n",
      "iter: 28 Total loss: tf.Tensor(71.6009945432652, shape=(), dtype=float64)\n",
      "iter: 30 Total loss: tf.Tensor(71.62787811519445, shape=(), dtype=float64)\n",
      "iter: 32 Total loss: tf.Tensor(71.66953483675779, shape=(), dtype=float64)\n",
      "iter: 34 Total loss: tf.Tensor(71.71947709470601, shape=(), dtype=float64)\n",
      "iter: 36 Total loss: tf.Tensor(71.82889461927692, shape=(), dtype=float64)\n",
      "iter: 38 Total loss: tf.Tensor(71.81804738683509, shape=(), dtype=float64)\n",
      "iter: 40 Total loss: tf.Tensor(71.82455367350127, shape=(), dtype=float64)\n",
      "iter: 42 Total loss: tf.Tensor(71.87053884149907, shape=(), dtype=float64)\n",
      "iter: 44 Total loss: tf.Tensor(71.92659093251896, shape=(), dtype=float64)\n",
      "iter: 46 Total loss: tf.Tensor(72.00649990823449, shape=(), dtype=float64)\n",
      "iter: 48 Total loss: tf.Tensor(72.03442327800704, shape=(), dtype=float64)\n",
      "iter: 50 Total loss: tf.Tensor(72.06449797987207, shape=(), dtype=float64)\n",
      "iter: 52 Total loss: tf.Tensor(72.12130621311043, shape=(), dtype=float64)\n",
      "iter: 54 Total loss: tf.Tensor(72.11013172966821, shape=(), dtype=float64)\n",
      "iter: 56 Total loss: tf.Tensor(72.14956172119903, shape=(), dtype=float64)\n",
      "iter: 58 Total loss: tf.Tensor(72.16489753005406, shape=(), dtype=float64)\n",
      "iter: 60 Total loss: tf.Tensor(72.29396821992651, shape=(), dtype=float64)\n",
      "iter: 62 Total loss: tf.Tensor(72.34928624994822, shape=(), dtype=float64)\n",
      "iter: 64 Total loss: tf.Tensor(72.35098510650391, shape=(), dtype=float64)\n",
      "iter: 66 Total loss: tf.Tensor(72.36964070842106, shape=(), dtype=float64)\n",
      "iter: 68 Total loss: tf.Tensor(72.37852483770708, shape=(), dtype=float64)\n",
      "iter: 70 Total loss: tf.Tensor(72.51053363324665, shape=(), dtype=float64)\n",
      "iter: 72 Total loss: tf.Tensor(72.66330562380074, shape=(), dtype=float64)\n"
     ]
    },
    {
     "name": "stdout",
     "output_type": "stream",
     "text": [
      "iter: 74 Total loss: tf.Tensor(72.64210966968167, shape=(), dtype=float64)\n",
      "iter: 76 Total loss: tf.Tensor(72.58551375712386, shape=(), dtype=float64)\n",
      "iter: 78 Total loss: tf.Tensor(72.58391000135626, shape=(), dtype=float64)\n",
      "iter: 80 Total loss: tf.Tensor(72.66617643148724, shape=(), dtype=float64)\n",
      "iter: 82 Total loss: tf.Tensor(72.77516374056152, shape=(), dtype=float64)\n",
      "iter: 84 Total loss: tf.Tensor(72.78956088450468, shape=(), dtype=float64)\n",
      "iter: 86 Total loss: tf.Tensor(72.74994037049166, shape=(), dtype=float64)\n",
      "iter: 88 Total loss: tf.Tensor(72.740248129002, shape=(), dtype=float64)\n",
      "iter: 90 Total loss: tf.Tensor(72.85013283458358, shape=(), dtype=float64)\n",
      "iter: 92 Total loss: tf.Tensor(72.90707274942646, shape=(), dtype=float64)\n",
      "iter: 94 Total loss: tf.Tensor(72.88284920879644, shape=(), dtype=float64)\n",
      "iter: 96 Total loss: tf.Tensor(72.92555880867158, shape=(), dtype=float64)\n",
      "iter: 98 Total loss: tf.Tensor(72.89797788209614, shape=(), dtype=float64)\n",
      "epoch: 3\n",
      "iter: 0 Total loss: tf.Tensor(72.9471920881211, shape=(), dtype=float64) [<tf.Tensor: shape=(), dtype=float64, numpy=2.987479180937401>, <tf.Tensor: shape=(), dtype=float64, numpy=46.74238327670447>]\n",
      "iter: 5 Total loss: tf.Tensor(71.96909822915178, shape=(), dtype=float64)\n",
      "iter: 0 Total loss: tf.Tensor(71.79695624254907, shape=(), dtype=float64)\n",
      "iter: 2 Total loss: tf.Tensor(74.1563719732937, shape=(), dtype=float64)\n",
      "iter: 4 Total loss: tf.Tensor(70.76283456739941, shape=(), dtype=float64)\n",
      "iter: 6 Total loss: tf.Tensor(69.0414208213974, shape=(), dtype=float64)\n",
      "iter: 8 Total loss: tf.Tensor(68.04407959568985, shape=(), dtype=float64)\n",
      "iter: 10 Total loss: tf.Tensor(67.46719632442827, shape=(), dtype=float64)\n",
      "iter: 12 Total loss: tf.Tensor(67.26253198066671, shape=(), dtype=float64)\n",
      "iter: 14 Total loss: tf.Tensor(67.2272662998738, shape=(), dtype=float64)\n",
      "iter: 16 Total loss: tf.Tensor(67.29672220733559, shape=(), dtype=float64)\n",
      "iter: 18 Total loss: tf.Tensor(67.4864796288117, shape=(), dtype=float64)\n",
      "iter: 20 Total loss: tf.Tensor(67.46371758401266, shape=(), dtype=float64)\n",
      "iter: 22 Total loss: tf.Tensor(67.46936095670688, shape=(), dtype=float64)\n",
      "iter: 24 Total loss: tf.Tensor(67.53505857007292, shape=(), dtype=float64)\n",
      "iter: 26 Total loss: tf.Tensor(67.5652501862968, shape=(), dtype=float64)\n",
      "iter: 28 Total loss: tf.Tensor(67.61233071227296, shape=(), dtype=float64)\n",
      "iter: 30 Total loss: tf.Tensor(67.75526624364412, shape=(), dtype=float64)\n",
      "iter: 32 Total loss: tf.Tensor(67.71441069789276, shape=(), dtype=float64)\n",
      "iter: 34 Total loss: tf.Tensor(67.72710068530898, shape=(), dtype=float64)\n",
      "iter: 36 Total loss: tf.Tensor(67.82341589779388, shape=(), dtype=float64)\n",
      "iter: 38 Total loss: tf.Tensor(67.85103176034283, shape=(), dtype=float64)\n",
      "iter: 40 Total loss: tf.Tensor(67.89815131763153, shape=(), dtype=float64)\n",
      "iter: 42 Total loss: tf.Tensor(67.9593213531625, shape=(), dtype=float64)\n",
      "iter: 44 Total loss: tf.Tensor(67.96322410389176, shape=(), dtype=float64)\n",
      "iter: 46 Total loss: tf.Tensor(67.94066587696344, shape=(), dtype=float64)\n",
      "iter: 48 Total loss: tf.Tensor(68.06432562380147, shape=(), dtype=float64)\n",
      "iter: 50 Total loss: tf.Tensor(68.11388195640879, shape=(), dtype=float64)\n",
      "iter: 52 Total loss: tf.Tensor(68.10168428186415, shape=(), dtype=float64)\n",
      "iter: 54 Total loss: tf.Tensor(68.15531073403332, shape=(), dtype=float64)\n",
      "iter: 56 Total loss: tf.Tensor(68.13342176491159, shape=(), dtype=float64)\n",
      "iter: 58 Total loss: tf.Tensor(68.17147705351334, shape=(), dtype=float64)\n",
      "iter: 60 Total loss: tf.Tensor(68.29897963362971, shape=(), dtype=float64)\n",
      "iter: 62 Total loss: tf.Tensor(68.25002655155983, shape=(), dtype=float64)\n",
      "iter: 64 Total loss: tf.Tensor(68.23713610943184, shape=(), dtype=float64)\n",
      "iter: 66 Total loss: tf.Tensor(68.30643546287547, shape=(), dtype=float64)\n",
      "iter: 68 Total loss: tf.Tensor(68.31958863350754, shape=(), dtype=float64)\n",
      "iter: 70 Total loss: tf.Tensor(68.35983191667933, shape=(), dtype=float64)\n",
      "iter: 72 Total loss: tf.Tensor(68.40939393693458, shape=(), dtype=float64)\n",
      "iter: 74 Total loss: tf.Tensor(68.39988365342515, shape=(), dtype=float64)\n",
      "iter: 76 Total loss: tf.Tensor(68.37298522385939, shape=(), dtype=float64)\n",
      "iter: 78 Total loss: tf.Tensor(68.45181841936613, shape=(), dtype=float64)\n",
      "iter: 80 Total loss: tf.Tensor(68.49159704907242, shape=(), dtype=float64)\n",
      "iter: 82 Total loss: tf.Tensor(68.48606412332454, shape=(), dtype=float64)\n",
      "iter: 84 Total loss: tf.Tensor(68.52305740643716, shape=(), dtype=float64)\n",
      "iter: 86 Total loss: tf.Tensor(68.47572083866794, shape=(), dtype=float64)\n",
      "iter: 88 Total loss: tf.Tensor(68.50176441149847, shape=(), dtype=float64)\n",
      "iter: 90 Total loss: tf.Tensor(68.63440546479161, shape=(), dtype=float64)\n",
      "iter: 92 Total loss: tf.Tensor(68.60668566871553, shape=(), dtype=float64)\n",
      "iter: 94 Total loss: tf.Tensor(68.5509183049026, shape=(), dtype=float64)\n",
      "iter: 96 Total loss: tf.Tensor(68.58599406180673, shape=(), dtype=float64)\n",
      "iter: 98 Total loss: tf.Tensor(68.59594610616722, shape=(), dtype=float64)\n",
      "epoch: 4\n",
      "iter: 0 Total loss: tf.Tensor(68.6739078758408, shape=(), dtype=float64) [<tf.Tensor: shape=(), dtype=float64, numpy=2.978084690850067>, <tf.Tensor: shape=(), dtype=float64, numpy=46.38393336130913>]\n"
     ]
    }
   ],
   "source": [
    "reload(MultiLearn_GLRM)\n",
    "from MultiLearn_GLRM import Multi_Learn, generate_AXY\n",
    "from MultiLearn_GLRM.Params.semisupervised_params import Multilearn_GLRM_Semisupervised_Train_Params, Multilearn_GLRM_Semisupervised_Test_Params\n",
    "\n",
    "embedding_dim = 100\n",
    "params[\"embedding_dim\"] = embedding_dim\n",
    "\n",
    "n_class = n_class\n",
    "\n",
    "A_prime, X_prime, Y_prime = generate_AXY.get_semisupervised_glrm_train_form(Train[:,:-n_class], Train[:,-n_class:], n_class, embedding_dim)\n",
    "GLRM_loss_list, X_regulariation_list, Y_regulariation_list, X_grad_restrictions, Y_grad_restrictions = Multilearn_GLRM_Semisupervised_Train_Params(A_prime, X_prime, Y_prime, n_class)\n",
    "\n",
    "params[\"train_hyper_params\"] = [GLRM_loss_list, X_regulariation_list, Y_regulariation_list]\n",
    "\n",
    "num_iterations=100\n",
    "learning_rate=0.1\n",
    "result = Multi_Learn.alternating_minimization(A_prime, X_prime, Y_prime, GLRM_loss_list, X_regulariation_list, Y_regulariation_list, X_grad_restrictions, Y_grad_restrictions, num_iterations, learning_rate, n_class)\n"
   ]
  },
  {
   "cell_type": "code",
   "execution_count": null,
   "id": "5c229acb",
   "metadata": {},
   "outputs": [],
   "source": [
    "beta = result[1][1:,0:n_class]\n",
    "Y_final = result[1][1:embedding_dim+1,n_class:]\n",
    "params[\"beta\"] = beta.numpy().tolist()\n",
    "params[\"embedding_matrix\"] = Y_final.numpy().tolist()\n",
    "\n",
    "train_prob = tf.nn.softmax(np.matmul(result[0], result[1][:,0:n_class])).numpy()\n",
    "label_train_shuffled =  np.argmax(Train[:,-n_class:], axis=1)\n",
    "params[\"train_accuracy\"] = accuracy_score(label_train_shuffled, np.argmax(train_prob, axis=1))\n",
    "params[\"train_accuracy\"]"
   ]
  },
  {
   "cell_type": "code",
   "execution_count": null,
   "id": "558196dc",
   "metadata": {},
   "outputs": [],
   "source": [
    "# res = np.matmul(result[0], result[1][:,0:n_class])\n",
    "# np.mean((Y_train - res)**2)\n",
    "# 0.4495674496068231\n",
    "\n",
    "# res = np.matmul(result[0], result[1][:,0:n_class])\n",
    "# np.mean((Y_train - res)**2)\n",
    "# 0.4011543372347976\n"
   ]
  },
  {
   "cell_type": "code",
   "execution_count": null,
   "id": "d1e7f876",
   "metadata": {},
   "outputs": [],
   "source": [
    "A_prime.shape"
   ]
  },
  {
   "cell_type": "code",
   "execution_count": null,
   "id": "6db0fa4a",
   "metadata": {},
   "outputs": [],
   "source": [
    "\"\"\"\n",
    "<tf.Tensor: shape=(11, 1), dtype=float64, numpy=\n",
    "array([[-0.02956712],\n",
    "       [-0.43500185],\n",
    "       [ 0.46663761],\n",
    "       [ 0.28479513],\n",
    "       [-0.04591487],\n",
    "       [ 0.22732162],\n",
    "       [ 0.19878154],\n",
    "       [-0.21300145],\n",
    "       [ 0.0071286 ],\n",
    "       [ 0.11102323],\n",
    "       [-0.00936144]])>\n",
    "\"\"\""
   ]
  },
  {
   "cell_type": "code",
   "execution_count": null,
   "id": "f6761625",
   "metadata": {
    "scrolled": true
   },
   "outputs": [],
   "source": [
    "for i in range(0, Y_train.shape[0]):\n",
    "    print(Y_train[i], res[i])"
   ]
  },
  {
   "cell_type": "code",
   "execution_count": null,
   "id": "1d34aeea",
   "metadata": {},
   "outputs": [],
   "source": [
    "reload(MultiLearn_GLRM)\n",
    "from MultiLearn_GLRM import Multi_Learn, generate_AXY\n",
    "from MultiLearn_GLRM.Params.semisupervised_params import Multilearn_GLRM_Semisupervised_Train_Params, Multilearn_GLRM_Semisupervised_Test_Params\n",
    "\n",
    "A = X_test\n",
    "A_prime =tf.constant(A)\n",
    "\n",
    "\n",
    "X = np.random.standard_normal((A.shape[0], embedding_dim))\n",
    "X_prime = X\n",
    "X_prime = tf.Variable(X_prime)\n",
    "\n",
    "Y_prime = Y_final\n",
    "\n",
    "GLRM_loss_list, X_regularization_loss_list, Y_regularization_loss_list, X_grad_restrictions, Y_grad_restrictions =  Multilearn_GLRM_Semisupervised_Test_Params(A_prime, X_prime, Y_prime)\n",
    "params[\"test_hyper_params\"] = [GLRM_loss_list, X_regularization_loss_list, Y_regularization_loss_list]\n",
    "\n",
    "num_iterations=10000\n",
    "learning_rate=0.004\n",
    "results_log = []\n",
    "for i in range(0,10):\n",
    "    A = X_test\n",
    "    A_prime =tf.constant(A)\n",
    "\n",
    "\n",
    "    X = np.random.uniform(-1,1, (A.shape[0], embedding_dim))\n",
    "    X_prime = X\n",
    "    X_prime = tf.Variable(X_prime)\n",
    "\n",
    "    Y_prime = Y_final\n",
    "\n",
    "    result_val = Multi_Learn.predict(A_prime, X_prime, Y_prime, GLRM_loss_list, X_regularization_loss_list, Y_regularization_loss_list, num_iterations, learning_rate)\n",
    "    val_pred = np.hstack((result_val[0], A_prime))\n",
    "    val_pred = np.hstack((val_pred, np.ones(shape=(val_pred.shape[0],1))))\n",
    "    val_pred = np.matmul(val_pred, beta)\n",
    "    val_pred = tf.nn.softmax(val_pred).numpy()\n",
    "    accuracy = accuracy_score(np.array(label_test)-1, np.argmax(val_pred, axis=1))\n",
    "\n",
    "    print(accuracy)\n",
    "    results_log.append(accuracy)\n",
    "\n",
    "\n",
    "params[\"accuracy\"] = results_log\n",
    "\n",
    "# with open('./logs/Prostate_'+ str(round(np.mean(results_log),5))+'_MSE.json', 'w') as f:\n",
    "#     f.write(json.dumps(params, sort_keys=True, indent=4, separators=(',', ': ')))\n",
    "\n",
    "\n"
   ]
  },
  {
   "cell_type": "code",
   "execution_count": null,
   "id": "e8cc1d4e",
   "metadata": {},
   "outputs": [],
   "source": []
  },
  {
   "cell_type": "code",
   "execution_count": null,
   "id": "34f25389",
   "metadata": {},
   "outputs": [],
   "source": [
    "params"
   ]
  },
  {
   "cell_type": "code",
   "execution_count": null,
   "id": "34fb8398",
   "metadata": {},
   "outputs": [],
   "source": [
    "val_pred = np.hstack((result_val[0], A_prime))\n",
    "val_pred = np.hstack((val_pred, np.ones(shape=(val_pred.shape[0],1))))\n",
    "regress_val = np.matmul(val_pred, beta)\n",
    "np.mean((scaler2.inverse_transform(Y_test) - scaler2.inverse_transform(regress_val))**2)"
   ]
  },
  {
   "cell_type": "code",
   "execution_count": null,
   "id": "d376c42e",
   "metadata": {},
   "outputs": [],
   "source": [
    "regress_val"
   ]
  },
  {
   "cell_type": "code",
   "execution_count": null,
   "id": "0e30e421",
   "metadata": {},
   "outputs": [],
   "source": [
    "Y_train"
   ]
  },
  {
   "cell_type": "code",
   "execution_count": null,
   "id": "65aee6e8",
   "metadata": {},
   "outputs": [],
   "source": [
    "from sklearn.metrics import confusion_matrix\n",
    "\n",
    "confusion_matrix(Y_test, predictions_val), confusion_matrix(Y_train, predictions)"
   ]
  },
  {
   "cell_type": "code",
   "execution_count": null,
   "id": "69c99ec4",
   "metadata": {},
   "outputs": [],
   "source": [
    "409/(409+200), 409/(409+857)"
   ]
  },
  {
   "cell_type": "code",
   "execution_count": null,
   "id": "979995fb",
   "metadata": {},
   "outputs": [],
   "source": [
    "305/(305+133), 305/(305+961)"
   ]
  },
  {
   "cell_type": "code",
   "execution_count": null,
   "id": "07698ffe",
   "metadata": {},
   "outputs": [],
   "source": [
    "2027/(2027+538), 2027/(2027+3343)"
   ]
  },
  {
   "cell_type": "code",
   "execution_count": null,
   "id": "6a5846e8",
   "metadata": {},
   "outputs": [],
   "source": [
    "from sklearn.linear_model import LogisticRegression\n",
    "\n",
    "X_train_embedding = result[0][:, 1:embedding_dim+1]\n",
    "X_train_embedding = X_train_embedding.numpy()\n",
    "\n",
    "X_test_embedding = result_val[0].numpy()\n",
    "\n",
    "\n",
    "clf = LogisticRegression().fit(X_train_embedding, Y_train)\n",
    "pred_logistic = clf.predict(X_train_embedding)\n",
    "pred_logistic_val = clf.predict(X_test_embedding)\n",
    "accuracy_score(Y_train, pred_logistic), accuracy_score(Y_test, pred_logistic_val)"
   ]
  },
  {
   "cell_type": "code",
   "execution_count": null,
   "id": "21d387d1",
   "metadata": {},
   "outputs": [],
   "source": [
    "confusion_matrix(Y_test, pred_logistic_val), confusion_matrix(Y_train, pred_logistic)"
   ]
  },
  {
   "cell_type": "code",
   "execution_count": null,
   "id": "f17149e4",
   "metadata": {},
   "outputs": [],
   "source": [
    "328/(328+236), 328/(328+938)"
   ]
  },
  {
   "cell_type": "code",
   "execution_count": null,
   "id": "aedaa965",
   "metadata": {},
   "outputs": [],
   "source": [
    "1565/(1565+650), 1565/(1565+3805)"
   ]
  },
  {
   "cell_type": "code",
   "execution_count": null,
   "id": "9377afd4",
   "metadata": {},
   "outputs": [],
   "source": [
    "beta[5:]"
   ]
  },
  {
   "cell_type": "code",
   "execution_count": null,
   "id": "6461d6e4",
   "metadata": {},
   "outputs": [],
   "source": []
  },
  {
   "cell_type": "code",
   "execution_count": null,
   "id": "d1db71d5",
   "metadata": {},
   "outputs": [],
   "source": [
    "A_prime[0]"
   ]
  },
  {
   "cell_type": "code",
   "execution_count": null,
   "id": "17cabbd3",
   "metadata": {},
   "outputs": [],
   "source": [
    "x_embeddings"
   ]
  },
  {
   "cell_type": "code",
   "execution_count": null,
   "id": "c98a3071",
   "metadata": {
    "scrolled": true
   },
   "outputs": [],
   "source": [
    "prob_val[0:10]"
   ]
  },
  {
   "cell_type": "code",
   "execution_count": null,
   "id": "e9bc4471",
   "metadata": {},
   "outputs": [],
   "source": [
    "prob[0:10]"
   ]
  },
  {
   "cell_type": "code",
   "execution_count": null,
   "id": "4508e482",
   "metadata": {},
   "outputs": [],
   "source": [
    "temp = tf.Variable([1,1,1])\n",
    "tf.where(temp!=1).shape[0]\n",
    "# tf.where([True, False, False, True]).numpy()"
   ]
  },
  {
   "cell_type": "code",
   "execution_count": null,
   "id": "c6dcba4d",
   "metadata": {},
   "outputs": [],
   "source": [
    "np.min(val_pred,axis=0)"
   ]
  },
  {
   "cell_type": "code",
   "execution_count": null,
   "id": "7ddcd2bf",
   "metadata": {},
   "outputs": [],
   "source": [
    "np.min(result[0],axis=0)"
   ]
  },
  {
   "cell_type": "code",
   "execution_count": null,
   "id": "2100c827",
   "metadata": {},
   "outputs": [],
   "source": [
    "beta"
   ]
  },
  {
   "cell_type": "code",
   "execution_count": null,
   "id": "3ada90a3",
   "metadata": {},
   "outputs": [],
   "source": [
    "result[0][3:10,:]"
   ]
  },
  {
   "cell_type": "code",
   "execution_count": null,
   "id": "e00b9b51",
   "metadata": {},
   "outputs": [],
   "source": [
    "'beta' in params.keys()"
   ]
  }
 ],
 "metadata": {
  "kernelspec": {
   "display_name": "Python 3 (ipykernel)",
   "language": "python",
   "name": "python3"
  },
  "language_info": {
   "codemirror_mode": {
    "name": "ipython",
    "version": 3
   },
   "file_extension": ".py",
   "mimetype": "text/x-python",
   "name": "python",
   "nbconvert_exporter": "python",
   "pygments_lexer": "ipython3",
   "version": "3.9.10"
  }
 },
 "nbformat": 4,
 "nbformat_minor": 5
}
