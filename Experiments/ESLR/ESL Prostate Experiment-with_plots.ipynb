{
 "cells": [
  {
   "cell_type": "code",
   "execution_count": 17,
   "id": "8541f4bf",
   "metadata": {},
   "outputs": [
    {
     "name": "stdout",
     "output_type": "stream",
     "text": [
      "The autoreload extension is already loaded. To reload it, use:\n",
      "  %reload_ext autoreload\n"
     ]
    }
   ],
   "source": [
    "import tensorflow as tf\n",
    "import numpy as np\n",
    "import pandas as pd\n",
    "from sklearn.linear_model import LogisticRegression\n",
    "from sklearn.metrics import accuracy_score\n",
    "from sklearn.preprocessing import StandardScaler\n",
    "from importlib import reload\n",
    "import json\n",
    "from matplotlib import pyplot as plt\n",
    "%load_ext autoreload\n",
    "%autoreload 2\n",
    "%matplotlib inline"
   ]
  },
  {
   "cell_type": "code",
   "execution_count": 2,
   "id": "f18b8c23",
   "metadata": {},
   "outputs": [],
   "source": [
    "import os\n",
    "import sys\n",
    "\n",
    "module_path = os.path.abspath(os.path.join('../../'))\n",
    "if module_path not in sys.path:\n",
    "    sys.path.append(module_path)\n",
    "\n",
    "import MultiLearn_GLRM"
   ]
  },
  {
   "cell_type": "code",
   "execution_count": 3,
   "id": "6d51f914",
   "metadata": {},
   "outputs": [],
   "source": [
    "df = pd.read_csv('./prostate/prostate.data', delimiter='\\t', index_col=0)\n",
    "df = df.sample(frac=1).reset_index(drop=True)\n",
    "\n",
    "mask_train = df.pop('train')\n",
    "df_y = df.pop('lpsa')\n",
    "\n",
    "X_train = df[mask_train == 'T']\n",
    "Y_train = df_y[mask_train == 'T']\n",
    "Y_train = np.array(Y_train).reshape(-1,1)\n",
    "\n",
    "\n",
    "X_test = df[mask_train != 'T']\n",
    "Y_test = df_y[mask_train != 'T']\n",
    "Y_test = np.array(Y_test).reshape(-1,1)\n",
    "\n",
    "\n",
    "scaler = StandardScaler()\n",
    "X_train = scaler.fit_transform(X_train)\n",
    "X_test = scaler.transform(X_test)\n",
    "\n",
    "\n",
    "scaler2 = StandardScaler()\n",
    "Y_train = scaler2.fit_transform(Y_train)\n",
    "Y_test = scaler2.transform(Y_test)\n",
    "\n",
    "params = {\n",
    "    \"train_hyper_params\": None,\n",
    "    \"test_hyper_params\": None,\n",
    "    \"beta\": None,\n",
    "    \"embedding_matrix\": None,\n",
    "    \"train_error\": None,\n",
    "    \"test_error\": None,\n",
    "    \"embedding_dim\": None,\n",
    "    \"predictor_scaling_parmas\": None,\n",
    "    \"target_scaling_parmas\": None\n",
    "}"
   ]
  },
  {
   "cell_type": "code",
   "execution_count": 5,
   "id": "84527605",
   "metadata": {},
   "outputs": [],
   "source": [
    "params[\"predictor_scaling_parmas\"] =  {\n",
    "    \"mean\" : scaler.mean_.tolist(),\n",
    "    \"var\" : scaler.mean_.tolist()\n",
    "}\n",
    "params[\"target_scaling_parmas\"] =  {\n",
    "    \"mean\" : scaler2.mean_.tolist(),\n",
    "    \"var\" : scaler2.mean_.tolist()\n",
    "}"
   ]
  },
  {
   "cell_type": "code",
   "execution_count": 31,
   "id": "96597f86",
   "metadata": {
    "scrolled": true
   },
   "outputs": [
    {
     "name": "stdout",
     "output_type": "stream",
     "text": [
      "epoch: 0\n",
      "iter: 1 Total loss: tf.Tensor(15.157276489130181, shape=(), dtype=float64) [14.739925699040601, 3.3841707336674105]\n",
      "iter: 100 Total loss: tf.Tensor(6.946555546196082, shape=(), dtype=float64) [6.487195886857636, 3.7767666278947907]\n",
      "iter: 1 Total loss: tf.Tensor(6.892087544636837, shape=(), dtype=float64)\n",
      "iter: 100 Total loss: tf.Tensor(1.1723528869581243, shape=(), dtype=float64)\n",
      "epoch: 1\n",
      "iter: 1 Total loss: tf.Tensor(1.1701237103788271, shape=(), dtype=float64) [0.7181032832890423, 0.8386316733224963]\n",
      "iter: 100 Total loss: tf.Tensor(0.8964076120267905, shape=(), dtype=float64) [0.5423576726772364, 0.7908686992236242]\n",
      "iter: 1 Total loss: tf.Tensor(0.8952778836763631, shape=(), dtype=float64)\n",
      "iter: 31 Total loss: tf.Tensor(0.8026794823307477, shape=(), dtype=float64)\n",
      "epoch: 2\n",
      "iter: 1 Total loss: tf.Tensor(0.8023125956271115, shape=(), dtype=float64) [0.3388963341918136, 0.7442750162877194]\n",
      "iter: 100 Total loss: tf.Tensor(0.6715363535748888, shape=(), dtype=float64) [0.3886085194264535, 0.6740202504798966]\n",
      "iter: 1 Total loss: tf.Tensor(0.671186586323766, shape=(), dtype=float64)\n",
      "iter: 23 Total loss: tf.Tensor(0.6019893175397698, shape=(), dtype=float64)\n",
      "epoch: 3\n",
      "iter: 1 Total loss: tf.Tensor(0.6017383588954492, shape=(), dtype=float64) [0.3073269920086352, 0.6100540579861958]\n",
      "iter: 91 Total loss: tf.Tensor(0.5261960960386044, shape=(), dtype=float64)\n",
      "iter: 1 Total loss: tf.Tensor(0.5259374437933485, shape=(), dtype=float64)\n",
      "iter: 32 Total loss: tf.Tensor(0.474090896164387, shape=(), dtype=float64)\n",
      "epoch: 4\n",
      "iter: 1 Total loss: tf.Tensor(0.4738730010542724, shape=(), dtype=float64) [0.30032038049402904, 0.4693608882693427]\n",
      "iter: 58 Total loss: tf.Tensor(0.439227892057721, shape=(), dtype=float64)\n",
      "iter: 1 Total loss: tf.Tensor(0.4390173700976304, shape=(), dtype=float64)\n",
      "iter: 7 Total loss: tf.Tensor(0.42775380388776973, shape=(), dtype=float64)\n",
      "epoch: 5\n",
      "iter: 1 Total loss: tf.Tensor(0.4272381956287872, shape=(), dtype=float64) [0.29212691233275145, 0.423076223002274]\n",
      "iter: 21 Total loss: tf.Tensor(0.4199368088203356, shape=(), dtype=float64)\n",
      "iter: 1 Total loss: tf.Tensor(0.41973982845515717, shape=(), dtype=float64)\n",
      "iter: 24 Total loss: tf.Tensor(0.40558194622737337, shape=(), dtype=float64)\n",
      "epoch: 6\n",
      "iter: 1 Total loss: tf.Tensor(0.40539512828995855, shape=(), dtype=float64) [0.2653340160178036, 0.409373518425683]\n",
      "iter: 17 Total loss: tf.Tensor(0.39991507526458053, shape=(), dtype=float64)\n",
      "iter: 1 Total loss: tf.Tensor(0.3997251490726681, shape=(), dtype=float64)\n",
      "iter: 2 Total loss: tf.Tensor(0.39981822775756337, shape=(), dtype=float64)\n",
      "epoch: 7\n",
      "iter: 1 Total loss: tf.Tensor(0.39857607408158, shape=(), dtype=float64) [0.2605199232526024, 0.41016128779763317]\n",
      "iter: 3 Total loss: tf.Tensor(0.39811510683198026, shape=(), dtype=float64)\n",
      "iter: 1 Total loss: tf.Tensor(0.3979624522689883, shape=(), dtype=float64)\n",
      "iter: 10 Total loss: tf.Tensor(0.3954354133968047, shape=(), dtype=float64)\n",
      "epoch: 8\n",
      "iter: 1 Total loss: tf.Tensor(0.39525009546717527, shape=(), dtype=float64) [0.2569655375469999, 0.4075027326199293]\n",
      "iter: 4 Total loss: tf.Tensor(0.39454146100069865, shape=(), dtype=float64)\n",
      "iter: 1 Total loss: tf.Tensor(0.3943892312134765, shape=(), dtype=float64)\n",
      "iter: 2 Total loss: tf.Tensor(0.3943427873694156, shape=(), dtype=float64)\n",
      "epoch: 9\n",
      "iter: 1 Total loss: tf.Tensor(0.39386796178277833, shape=(), dtype=float64) [0.256076513541701, 0.407995821169233]\n",
      "iter: 3 Total loss: tf.Tensor(0.3935077077894424, shape=(), dtype=float64)\n",
      "iter: 1 Total loss: tf.Tensor(0.3933835253201301, shape=(), dtype=float64)\n",
      "iter: 2 Total loss: tf.Tensor(0.39323970185857005, shape=(), dtype=float64)\n",
      "epoch: 10\n",
      "iter: 1 Total loss: tf.Tensor(0.3929383609990195, shape=(), dtype=float64) [0.2560078663650734, 0.4079624824876467]\n",
      "iter: 2 Total loss: tf.Tensor(0.3927775381857999, shape=(), dtype=float64)\n",
      "iter: 1 Total loss: tf.Tensor(0.39265028484823805, shape=(), dtype=float64)\n",
      "iter: 2 Total loss: tf.Tensor(0.39249227964956557, shape=(), dtype=float64)\n",
      "epoch: 11\n",
      "iter: 1 Total loss: tf.Tensor(0.3922817237712672, shape=(), dtype=float64) [0.255720754274247, 0.40761957843811547]\n",
      "iter: 2 Total loss: tf.Tensor(0.39213807742181345, shape=(), dtype=float64)\n",
      "iter: 1 Total loss: tf.Tensor(0.3920296670742428, shape=(), dtype=float64)\n",
      "iter: 2 Total loss: tf.Tensor(0.39189396644307223, shape=(), dtype=float64)\n",
      "epoch: 12\n",
      "iter: 1 Total loss: tf.Tensor(0.3917010946769306, shape=(), dtype=float64) [0.25574332392584975, 0.4074590020415888]\n",
      "iter: 2 Total loss: tf.Tensor(0.3915761983811523, shape=(), dtype=float64)\n",
      "iter: 1 Total loss: tf.Tensor(0.3914821380294512, shape=(), dtype=float64)\n",
      "iter: 2 Total loss: tf.Tensor(0.39136216643884586, shape=(), dtype=float64)\n",
      "epoch: 13\n",
      "iter: 1 Total loss: tf.Tensor(0.39119185828564884, shape=(), dtype=float64) [0.25585493479545657, 0.4072492300962481]\n",
      "iter: 2 Total loss: tf.Tensor(0.3910827134732024, shape=(), dtype=float64)\n",
      "iter: 1 Total loss: tf.Tensor(0.39100017337633886, shape=(), dtype=float64)\n",
      "iter: 2 Total loss: tf.Tensor(0.3908837946940348, shape=(), dtype=float64)\n",
      "epoch: 14\n",
      "iter: 1 Total loss: tf.Tensor(0.39074068219346403, shape=(), dtype=float64) [0.25562217876150045, 0.4070360625137332]\n",
      "iter: 2 Total loss: tf.Tensor(0.39064406980994093, shape=(), dtype=float64)\n",
      "iter: 1 Total loss: tf.Tensor(0.3905720342125075, shape=(), dtype=float64)\n",
      "iter: 2 Total loss: tf.Tensor(0.3904673404465159, shape=(), dtype=float64)\n",
      "epoch: 15\n",
      "iter: 1 Total loss: tf.Tensor(0.39033848205401067, shape=(), dtype=float64) [0.25563817126854105, 0.40692187487170733]\n",
      "iter: 2 Total loss: tf.Tensor(0.3902538516366843, shape=(), dtype=float64)\n",
      "iter: 1 Total loss: tf.Tensor(0.39019000657589925, shape=(), dtype=float64)\n",
      "iter: 2 Total loss: tf.Tensor(0.3900976325424919, shape=(), dtype=float64)\n",
      "epoch: 16\n",
      "iter: 1 Total loss: tf.Tensor(0.3899829320042542, shape=(), dtype=float64) [0.25577242624688995, 0.40675717554116664]\n",
      "iter: 2 Total loss: tf.Tensor(0.38990837188124516, shape=(), dtype=float64)\n",
      "iter: 1 Total loss: tf.Tensor(0.38985189749959986, shape=(), dtype=float64)\n",
      "iter: 2 Total loss: tf.Tensor(0.3897669261709348, shape=(), dtype=float64)\n",
      "epoch: 17\n",
      "iter: 1 Total loss: tf.Tensor(0.3896664496840906, shape=(), dtype=float64) [0.2558856090863217, 0.40660352120614374]\n",
      "iter: 2 Total loss: tf.Tensor(0.3895999557712743, shape=(), dtype=float64)\n",
      "iter: 1 Total loss: tf.Tensor(0.3895501946831257, shape=(), dtype=float64)\n",
      "iter: 2 Total loss: tf.Tensor(0.38947263340717986, shape=(), dtype=float64)\n",
      "epoch: 18\n",
      "iter: 1 Total loss: tf.Tensor(0.3893840654577643, shape=(), dtype=float64) [0.2559607087697644, 0.40649540983496685]\n",
      "iter: 2 Total loss: tf.Tensor(0.3893252250405151, shape=(), dtype=float64)\n",
      "iter: 1 Total loss: tf.Tensor(0.3892810357778758, shape=(), dtype=float64)\n",
      "iter: 2 Total loss: tf.Tensor(0.38921083660240585, shape=(), dtype=float64)\n",
      "epoch: 19\n",
      "iter: 1 Total loss: tf.Tensor(0.3891323756142359, shape=(), dtype=float64) [0.25605975606922027, 0.40637488593527443]\n",
      "iter: 2 Total loss: tf.Tensor(0.3890800540504213, shape=(), dtype=float64)\n",
      "iter: 1 Total loss: tf.Tensor(0.3890408192705982, shape=(), dtype=float64)\n",
      "iter: 2 Total loss: tf.Tensor(0.3889769871704926, shape=(), dtype=float64)\n",
      "epoch: 20\n",
      "iter: 1 Total loss: tf.Tensor(0.3889075683869611, shape=(), dtype=float64) [0.2561343499900307, 0.40628175990907966]\n",
      "iter: 2 Total loss: tf.Tensor(0.3888610229682555, shape=(), dtype=float64)\n",
      "iter: 1 Total loss: tf.Tensor(0.3888261807156781, shape=(), dtype=float64)\n",
      "iter: 2 Total loss: tf.Tensor(0.38876818605853475, shape=(), dtype=float64)\n",
      "epoch: 21\n",
      "iter: 1 Total loss: tf.Tensor(0.3887067539187916, shape=(), dtype=float64) [0.2561830343683477, 0.40619601493476604]\n",
      "iter: 2 Total loss: tf.Tensor(0.3886653555794628, shape=(), dtype=float64)\n",
      "iter: 1 Total loss: tf.Tensor(0.38863429124885523, shape=(), dtype=float64)\n",
      "iter: 2 Total loss: tf.Tensor(0.3885818134850602, shape=(), dtype=float64)\n",
      "Final loss: tf.Tensor(0.38863429124885523, shape=(), dtype=float64) best loss: tf.Tensor(0.38863429124885523, shape=(), dtype=float64)\n"
     ]
    }
   ],
   "source": [
    "reload(MultiLearn_GLRM)\n",
    "from MultiLearn_GLRM import Multi_Learn, generate_AXY\n",
    "from MultiLearn_GLRM.Params.semisupervised_params import Multilearn_GLRM_Semisupervised_Train_Params, Multilearn_GLRM_Semisupervised_Test_Params\n",
    "\n",
    "embedding_dim = 2\n",
    "params[\"embedding_dim\"] = embedding_dim\n",
    "\n",
    "n_class = 1\n",
    "\n",
    "A_prime, X_prime, Y_prime = generate_AXY.get_semisupervised_glrm_train_form(X_train, Y_train, n_class, embedding_dim)\n",
    "GLRM_loss_list, X_regulariation_list, Y_regulariation_list, X_grad_restrictions, Y_grad_restrictions = Multilearn_GLRM_Semisupervised_Train_Params(A_prime, X_prime, Y_prime, n_class)\n",
    "\n",
    "params[\"train_hyper_params\"] = [GLRM_loss_list, X_regulariation_list, Y_regulariation_list]\n",
    "\n",
    "num_iterations=100\n",
    "learning_rate=0.01\n",
    "result = Multi_Learn.alternating_minimization(A_prime, X_prime, Y_prime, GLRM_loss_list, X_regulariation_list, Y_regulariation_list, X_grad_restrictions, Y_grad_restrictions, num_iterations, learning_rate, n_class)\n",
    "\n"
   ]
  },
  {
   "cell_type": "code",
   "execution_count": 32,
   "id": "cd160014",
   "metadata": {},
   "outputs": [
    {
     "data": {
      "text/plain": [
       "0.3682432675186439"
      ]
     },
     "execution_count": 32,
     "metadata": {},
     "output_type": "execute_result"
    }
   ],
   "source": [
    "beta = result[1][1:,0:n_class]\n",
    "Y_final = result[1][1:embedding_dim+1,n_class:]\n",
    "params[\"beta\"] = beta.numpy().tolist()\n",
    "params[\"embedding_matrix\"] = Y_final.numpy().tolist()\n",
    "\n",
    "\n",
    "res = np.matmul(result[0], result[1][:,0:n_class])\n",
    "params[\"train_error\"] = np.mean((scaler2.inverse_transform(Y_train) - scaler2.inverse_transform(res))**2)\n",
    "params[\"train_error\"]"
   ]
  },
  {
   "cell_type": "code",
   "execution_count": 37,
   "id": "5f72f49a",
   "metadata": {},
   "outputs": [
    {
     "data": {
      "image/png": "[encoded data removed]",
      "text/plain": [
       "<Figure size 720x432 with 1 Axes>"
      ]
     },
     "metadata": {
      "needs_background": "light"
     },
     "output_type": "display_data"
    }
   ],
   "source": [
    "plt.figure(figsize=(10, 6))\n",
    "x_values = list(range(0, len(result[-1]['SupervisedEmbeddings'])))\n",
    "\n",
    "plt.plot(x_values[::20], result[-1]['SupervisedEmbeddings'][::20],'-.', label=\"Supervised Learning\")\n",
    "plt.plot(x_values[::20], result[-1]['Factorization'][::20], '-.', label=\"Matrix Factorization\")\n",
    "plt.plot(x_values[::20], result[-1]['WLSE'][::20],'-x', label=\"Functional wLSE\")\n",
    "plt.yscale('log')\n",
    "# plt.xticks( x_values[::20])\n",
    "plt.ylabel('Loss (Log Scale)')\n",
    "plt.xlabel('Iteration')\n",
    "plt.title('Task Loss vs Iteration (alpha=10)')\n",
    "plt.legend()\n",
    "plt.savefig('./prostate/plots/prostate_loss_vs_iteration_alpha_10')"
   ]
  },
  {
   "cell_type": "code",
   "execution_count": 36,
   "id": "9f0b2fe8",
   "metadata": {},
   "outputs": [
    {
     "data": {
      "image/png": "[encoded data removed]",
      "text/plain": [
       "<Figure size 720x432 with 1 Axes>"
      ]
     },
     "metadata": {
      "needs_background": "light"
     },
     "output_type": "display_data"
    }
   ],
   "source": [
    "alpha = 10\n",
    "w1 = 0.7\n",
    "w2= 0.3\n",
    "\n",
    "SupervisedEmbeddings_weights = w1*np.exp(alpha*np.array(result[-1]['SupervisedEmbeddings']))\n",
    "Factorization_weights = w2*np.exp(alpha*np.array(result[-1]['Factorization']))\n",
    "SupervisedEmbeddings_weights_normalized = SupervisedEmbeddings_weights/(SupervisedEmbeddings_weights+Factorization_weights)\n",
    "Factorization_weights_normalized = Factorization_weights/(SupervisedEmbeddings_weights+Factorization_weights)\n",
    "\n",
    "plt.figure(figsize=(10, 6))\n",
    "x_values = list(range(0, len(result[-1]['SupervisedEmbeddings'])))\n",
    "\n",
    "plt.plot(x_values[::20], SupervisedEmbeddings_weights_normalized[::20],'-s', label=\"Supervised Learning\")\n",
    "plt.plot(x_values[::20], Factorization_weights_normalized[::20], '-s', label=\"Matrix Factorization\")\n",
    "\n",
    "# plt.xticks( x_values[::20])\n",
    "plt.ylabel('Task Weights')\n",
    "plt.xlabel('Iteration')\n",
    "plt.title('Task Weights vs Iteration (alpha=10)')\n",
    "plt.legend()\n",
    "\n",
    "plt.savefig('./prostate/plots/prostate_task_weight_vs_iteration_alpha_10')\n",
    "\n"
   ]
  },
  {
   "cell_type": "code",
   "execution_count": null,
   "id": "805dc896",
   "metadata": {},
   "outputs": [],
   "source": []
  },
  {
   "cell_type": "code",
   "execution_count": 85,
   "id": "558196dc",
   "metadata": {},
   "outputs": [
    {
     "data": {
      "text/plain": [
       "0.4495674496068231"
      ]
     },
     "execution_count": 85,
     "metadata": {},
     "output_type": "execute_result"
    }
   ],
   "source": [
    "# res = np.matmul(result[0], result[1][:,0:n_class])\n",
    "# np.mean((Y_train - res)**2)\n",
    "# 0.4495674496068231\n",
    "\n",
    "# res = np.matmul(result[0], result[1][:,0:n_class])\n",
    "# np.mean((Y_train - res)**2)\n",
    "# 0.4011543372347976\n"
   ]
  },
  {
   "cell_type": "code",
   "execution_count": 171,
   "id": "d1e7f876",
   "metadata": {},
   "outputs": [
    {
     "data": {
      "text/plain": [
       "<tf.Tensor: shape=(11, 1), dtype=float64, numpy=\n",
       "array([[-0.54822265],\n",
       "       [ 0.18504926],\n",
       "       [ 0.53468388],\n",
       "       [ 0.10875677],\n",
       "       [-0.15328889],\n",
       "       [ 0.04023021],\n",
       "       [ 0.32229294],\n",
       "       [-0.09989735],\n",
       "       [ 0.11034852],\n",
       "       [ 0.20666993],\n",
       "       [-0.00857186]])>"
      ]
     },
     "execution_count": 171,
     "metadata": {},
     "output_type": "execute_result"
    }
   ],
   "source": [
    "beta"
   ]
  },
  {
   "cell_type": "code",
   "execution_count": null,
   "id": "6db0fa4a",
   "metadata": {},
   "outputs": [],
   "source": [
    "\"\"\"\n",
    "<tf.Tensor: shape=(11, 1), dtype=float64, numpy=\n",
    "array([[-0.02956712],\n",
    "       [-0.43500185],\n",
    "       [ 0.46663761],\n",
    "       [ 0.28479513],\n",
    "       [-0.04591487],\n",
    "       [ 0.22732162],\n",
    "       [ 0.19878154],\n",
    "       [-0.21300145],\n",
    "       [ 0.0071286 ],\n",
    "       [ 0.11102323],\n",
    "       [-0.00936144]])>\n",
    "\"\"\""
   ]
  },
  {
   "cell_type": "code",
   "execution_count": 128,
   "id": "f6761625",
   "metadata": {
    "scrolled": true
   },
   "outputs": [
    {
     "name": "stdout",
     "output_type": "stream",
     "text": [
      "[-0.74593503] [-0.96229798]\n",
      "[-0.54413252] [-0.3064417]\n",
      "[0.42572773] [0.49896302]\n",
      "[-0.12910999] [-0.22557737]\n",
      "[-0.14604851] [-0.50146602]\n",
      "[-0.33755776] [-0.96446617]\n",
      "[-0.10433023] [-0.2433947]\n",
      "[0.22160766] [0.39486495]\n",
      "[-0.46525248] [-0.36193532]\n",
      "[1.28570526] [0.79757593]\n",
      "[0.88730351] [-0.11278371]\n",
      "[-0.92117503] [-0.60090279]\n",
      "[1.05108772] [0.47456888]\n",
      "[0.29533824] [-0.06985816]\n",
      "[-1.33298049] [-0.40549443]\n",
      "[-0.98884928] [-1.13738764]\n",
      "[0.94708489] [0.26740704]\n",
      "[0.73842883] [0.83253999]\n",
      "[-0.98884928] [-0.8239089]\n",
      "[0.18789838] [0.47127532]\n",
      "[-0.24590799] [-0.5295947]\n",
      "[0.17051873] [0.06774572]\n",
      "[0.98321259] [1.01878964]\n",
      "[0.89960743] [0.40834803]\n",
      "[-0.61609027] [-0.16480375]\n",
      "[-0.19903089] [0.92132432]\n",
      "[-0.83871855] [-0.54230546]\n",
      "[-0.21746688] [-1.1389276]\n",
      "[-0.50376054] [-0.26556439]\n",
      "[1.39911185] [1.27266157]\n",
      "[-0.37049067] [-0.32148454]\n",
      "[-0.6312578] [-1.04501508]\n",
      "[0.48800976] [-0.0971723]\n",
      "[0.09713585] [1.16140715]\n",
      "[-0.67848884] [-0.63232126]\n",
      "[0.28519596] [-0.04114821]\n",
      "[0.33471745] [0.39521395]\n",
      "[0.43430564] [0.46751606]\n",
      "[0.92841692] [0.85708343]\n",
      "[-2.18129902] [-1.64031026]\n",
      "[-2.40508275] [-1.49634036]\n",
      "[-0.80035814] [-0.19037839]\n",
      "[0.686466] [0.78195213]\n",
      "[0.42572773] [-0.59755159]\n",
      "[-0.98884928] [-0.46943289]\n",
      "[-1.4071798] [-1.1365797]\n",
      "[0.05787251] [-0.00639045]\n",
      "[0.32504557] [0.12403457]\n",
      "[0.39050596] [0.9373522]\n",
      "[1.02417593] [0.52966269]\n",
      "[-0.44053386] [-0.29151436]\n",
      "[0.30036349] [0.26388089]\n",
      "[-0.71153044] [-0.49547744]\n",
      "[1.31590552] [0.80779465]\n",
      "[0.82022254] [0.85842964]\n",
      "[0.46776142] [0.54820183]\n",
      "[-0.81931791] [-0.80659397]\n",
      "[0.83881993] [0.75080676]\n",
      "[0.08425234] [0.0799888]\n",
      "[-2.18129902] [-1.73193056]\n",
      "[1.8619989] [1.64938876]\n",
      "[-1.73577159] [-0.78289458]\n",
      "[1.27798123] [1.33853813]\n",
      "[1.61232803] [1.19863684]\n",
      "[-2.18129902] [-1.48604543]\n",
      "[2.52356801] [1.59824035]\n",
      "[0.78454439] [0.82915764]\n"
     ]
    }
   ],
   "source": [
    "for i in range(0, Y_train.shape[0]):\n",
    "    print(Y_train[i], res[i])"
   ]
  },
  {
   "cell_type": "code",
   "execution_count": 35,
   "id": "1d34aeea",
   "metadata": {},
   "outputs": [
    {
     "name": "stdout",
     "output_type": "stream",
     "text": [
      "iter: 1 Total loss: tf.Tensor(1.846975195935874, shape=(), dtype=float64)\n",
      "iter: 100 Total loss: tf.Tensor(0.47256795905456694, shape=(), dtype=float64)\n",
      "iter: 199 Total loss: tf.Tensor(0.3756464618835362, shape=(), dtype=float64)\n",
      "iter: 277 Total loss: tf.Tensor(0.3716629719204157, shape=(), dtype=float64)\n",
      "0.4896981954283165\n",
      "iter: 1 Total loss: tf.Tensor(1.850371874575392, shape=(), dtype=float64)\n",
      "iter: 100 Total loss: tf.Tensor(0.4794582721888735, shape=(), dtype=float64)\n",
      "iter: 199 Total loss: tf.Tensor(0.3771997718239145, shape=(), dtype=float64)\n",
      "iter: 291 Total loss: tf.Tensor(0.3716903223389, shape=(), dtype=float64)\n",
      "0.4910819270749502\n",
      "iter: 1 Total loss: tf.Tensor(1.8665227166070286, shape=(), dtype=float64)\n",
      "iter: 100 Total loss: tf.Tensor(0.5422590780407172, shape=(), dtype=float64)\n",
      "iter: 199 Total loss: tf.Tensor(0.3904372084705908, shape=(), dtype=float64)\n",
      "iter: 298 Total loss: tf.Tensor(0.37329431022757326, shape=(), dtype=float64)\n",
      "iter: 360 Total loss: tf.Tensor(0.37180750155448794, shape=(), dtype=float64)\n",
      "0.49276118094677607\n",
      "iter: 1 Total loss: tf.Tensor(1.7695693760312285, shape=(), dtype=float64)\n",
      "iter: 100 Total loss: tf.Tensor(0.4800411370792364, shape=(), dtype=float64)\n",
      "iter: 199 Total loss: tf.Tensor(0.3795192864891436, shape=(), dtype=float64)\n",
      "iter: 298 Total loss: tf.Tensor(0.37214563245886084, shape=(), dtype=float64)\n",
      "iter: 324 Total loss: tf.Tensor(0.371793221223079, shape=(), dtype=float64)\n",
      "0.49051535115545314\n",
      "iter: 1 Total loss: tf.Tensor(2.008138572875879, shape=(), dtype=float64)\n",
      "iter: 100 Total loss: tf.Tensor(0.5400625439224868, shape=(), dtype=float64)\n",
      "iter: 199 Total loss: tf.Tensor(0.3856671089393818, shape=(), dtype=float64)\n",
      "iter: 298 Total loss: tf.Tensor(0.3723308607037603, shape=(), dtype=float64)\n",
      "iter: 333 Total loss: tf.Tensor(0.37173575239626006, shape=(), dtype=float64)\n",
      "0.4912225874714572\n",
      "iter: 1 Total loss: tf.Tensor(1.8706103933857674, shape=(), dtype=float64)\n",
      "iter: 100 Total loss: tf.Tensor(0.47006250611695344, shape=(), dtype=float64)\n",
      "iter: 199 Total loss: tf.Tensor(0.3747501975613409, shape=(), dtype=float64)\n",
      "iter: 267 Total loss: tf.Tensor(0.3716465372195036, shape=(), dtype=float64)\n",
      "0.4889283741924546\n",
      "iter: 1 Total loss: tf.Tensor(2.1314638099076317, shape=(), dtype=float64)\n",
      "iter: 100 Total loss: tf.Tensor(0.552128538879002, shape=(), dtype=float64)\n",
      "iter: 199 Total loss: tf.Tensor(0.38952204583144734, shape=(), dtype=float64)\n",
      "iter: 298 Total loss: tf.Tensor(0.3729062764544797, shape=(), dtype=float64)\n",
      "iter: 351 Total loss: tf.Tensor(0.3717466370923557, shape=(), dtype=float64)\n",
      "0.48892598417167726\n",
      "iter: 1 Total loss: tf.Tensor(2.485757725219527, shape=(), dtype=float64)\n",
      "iter: 100 Total loss: tf.Tensor(0.6090418948797921, shape=(), dtype=float64)\n",
      "iter: 199 Total loss: tf.Tensor(0.3875150513425842, shape=(), dtype=float64)\n",
      "iter: 298 Total loss: tf.Tensor(0.3720568642065619, shape=(), dtype=float64)\n",
      "iter: 323 Total loss: tf.Tensor(0.37167469895894967, shape=(), dtype=float64)\n",
      "0.48797011654724265\n",
      "iter: 1 Total loss: tf.Tensor(1.6794303670449453, shape=(), dtype=float64)\n",
      "iter: 100 Total loss: tf.Tensor(0.463927955628715, shape=(), dtype=float64)\n",
      "iter: 199 Total loss: tf.Tensor(0.37614807942803785, shape=(), dtype=float64)\n",
      "iter: 284 Total loss: tf.Tensor(0.37168389212207653, shape=(), dtype=float64)\n",
      "0.4871258543424956\n",
      "iter: 1 Total loss: tf.Tensor(1.697795693689886, shape=(), dtype=float64)\n",
      "iter: 100 Total loss: tf.Tensor(0.463594801363651, shape=(), dtype=float64)\n",
      "iter: 199 Total loss: tf.Tensor(0.3753172017182254, shape=(), dtype=float64)\n",
      "iter: 273 Total loss: tf.Tensor(0.3716528789752966, shape=(), dtype=float64)\n",
      "0.48650584371579225\n"
     ]
    }
   ],
   "source": [
    "reload(MultiLearn_GLRM)\n",
    "from MultiLearn_GLRM import Multi_Learn, generate_AXY\n",
    "from MultiLearn_GLRM.Params.semisupervised_params import Multilearn_GLRM_Semisupervised_Train_Params, Multilearn_GLRM_Semisupervised_Test_Params\n",
    "\n",
    "A = X_test\n",
    "A_prime =tf.constant(A)\n",
    "\n",
    "\n",
    "X = np.random.standard_normal((A.shape[0], embedding_dim))\n",
    "X_prime = X\n",
    "X_prime = tf.Variable(X_prime)\n",
    "\n",
    "Y_prime = Y_final\n",
    "\n",
    "GLRM_loss_list, X_regularization_loss_list, Y_regularization_loss_list, X_grad_restrictions, Y_grad_restrictions =  Multilearn_GLRM_Semisupervised_Test_Params(A_prime, X_prime, Y_prime)\n",
    "params[\"test_hyper_params\"] = [GLRM_loss_list, X_regularization_loss_list, Y_regularization_loss_list]\n",
    "\n",
    "num_iterations=10000\n",
    "learning_rate=0.01\n",
    "results_log = []\n",
    "for i in range(0,10):\n",
    "    A = X_test\n",
    "    A_prime =tf.constant(A)\n",
    "\n",
    "\n",
    "    X = np.random.uniform(-1,1, (A.shape[0], embedding_dim))\n",
    "    X_prime = X\n",
    "    X_prime = tf.Variable(X_prime)\n",
    "\n",
    "    Y_prime = Y_final\n",
    "\n",
    "    result_val = Multi_Learn.predict(A_prime, X_prime, Y_prime, GLRM_loss_list, X_regularization_loss_list, Y_regularization_loss_list, num_iterations, learning_rate)\n",
    "    val_pred = np.hstack((result_val[0], A_prime))\n",
    "    val_pred = np.hstack((val_pred, np.ones(shape=(val_pred.shape[0],1))))\n",
    "    regress_val = np.matmul(val_pred, beta)\n",
    "    print(np.mean((scaler2.inverse_transform(Y_test) - scaler2.inverse_transform(regress_val))**2))\n",
    "    results_log.append(np.mean((scaler2.inverse_transform(Y_test) - scaler2.inverse_transform(regress_val))**2))\n",
    "\n",
    "params[\"test_error\"] = results_log\n",
    "\n",
    "# with open('./logs/Prostate_'+ str(round(np.mean(results_log),5))+'_MSE.json', 'w') as f:\n",
    "#     f.write(json.dumps(params, sort_keys=True, indent=4, separators=(',', ': ')))\n",
    "\n",
    "\n"
   ]
  },
  {
   "cell_type": "code",
   "execution_count": 156,
   "id": "e8cc1d4e",
   "metadata": {},
   "outputs": [],
   "source": []
  },
  {
   "cell_type": "code",
   "execution_count": 157,
   "id": "34f25389",
   "metadata": {},
   "outputs": [
    {
     "data": {
      "text/plain": [
       "{'train_hyper_params': [[{'Description': 'Supervised Learning Matrix Location',\n",
       "    'A_start_row': 0,\n",
       "    'A_end_row': 67,\n",
       "    'A_start_col': 0,\n",
       "    'A_end_col': 1,\n",
       "    'X_start_row': 0,\n",
       "    'X_end_row': 67,\n",
       "    'X_start_col': 1,\n",
       "    'X_end_col': 12,\n",
       "    'Y_start_row': 1,\n",
       "    'Y_end_row': 12,\n",
       "    'Y_start_col': 0,\n",
       "    'Y_end_col': 1,\n",
       "    'loss': 'MSE',\n",
       "    'weight': 0.7,\n",
       "    'alpha': 5},\n",
       "   {'Description': 'Matrix Factorization Matrix Location',\n",
       "    'A_start_row': 0,\n",
       "    'A_end_row': 67,\n",
       "    'A_start_col': 1,\n",
       "    'A_end_col': 9,\n",
       "    'X_start_row': 0,\n",
       "    'X_end_row': 67,\n",
       "    'X_start_col': 1,\n",
       "    'X_end_col': 3,\n",
       "    'Y_start_row': 1,\n",
       "    'Y_end_row': 3,\n",
       "    'Y_start_col': 1,\n",
       "    'Y_end_col': 9,\n",
       "    'weight': 0.3,\n",
       "    'alpha': 5,\n",
       "    'loss': 'MSE'}],\n",
       "  [{'Description': 'Regularize first column of X (constant 0)',\n",
       "    'X_start_row': 0,\n",
       "    'X_end_row': 67,\n",
       "    'X_start_col': 0,\n",
       "    'X_end_col': 1,\n",
       "    'penalty_type': 'inf',\n",
       "    'alpha': 99999999999.9},\n",
       "   {'Description': 'Regularize constant matrix A',\n",
       "    'X_start_row': 0,\n",
       "    'X_end_row': 67,\n",
       "    'X_start_col': 3,\n",
       "    'X_end_col': 12,\n",
       "    'penalty_type': 'constant',\n",
       "    'constant': 1,\n",
       "    'alpha': 0},\n",
       "   {'Description': 'Regularize Embeddings in X',\n",
       "    'X_start_row': 0,\n",
       "    'X_end_row': 67,\n",
       "    'X_start_col': 1,\n",
       "    'X_end_col': 3,\n",
       "    'penalty_type': 'L2',\n",
       "    'alpha': 0.001},\n",
       "   {'Description': 'Regularize Embeddings in X',\n",
       "    'X_start_row': 0,\n",
       "    'X_end_row': 67,\n",
       "    'X_start_col': 1,\n",
       "    'X_end_col': 3,\n",
       "    'penalty_type': 'L1',\n",
       "    'alpha': 0.0001}],\n",
       "  [{'Description': 'Regularize parameter estimate for Beta for embeddings in Y',\n",
       "    'X_start_row': 1,\n",
       "    'X_end_row': 3,\n",
       "    'X_start_col': 0,\n",
       "    'X_end_col': 1,\n",
       "    'penalty_type': 'L2',\n",
       "    'alpha': 0.001},\n",
       "   {'Description': 'Regularize parameter estimate for Beta for embeddings in Y',\n",
       "    'X_start_row': 1,\n",
       "    'X_end_row': 3,\n",
       "    'X_start_col': 0,\n",
       "    'X_end_col': 1,\n",
       "    'penalty_type': 'L1',\n",
       "    'alpha': 0.0001},\n",
       "   {'Description': 'Regularize parameter estimate for Beta for A in Y',\n",
       "    'X_start_row': 3,\n",
       "    'X_end_row': 11,\n",
       "    'X_start_col': 0,\n",
       "    'X_end_col': 1,\n",
       "    'penalty_type': 'L2',\n",
       "    'alpha': 0.001},\n",
       "   {'Description': 'Regularize parameter estimate for Beta for A  in Y',\n",
       "    'X_start_row': 3,\n",
       "    'X_end_row': 11,\n",
       "    'X_start_col': 0,\n",
       "    'X_end_col': 1,\n",
       "    'penalty_type': 'L1',\n",
       "    'alpha': 0.0001},\n",
       "   {'Description': 'Regularize Embedding Matrix in Y',\n",
       "    'X_start_row': 1,\n",
       "    'X_end_row': 3,\n",
       "    'X_start_col': 1,\n",
       "    'X_end_col': 9,\n",
       "    'penalty_type': 'L2',\n",
       "    'alpha': 0.001},\n",
       "   {'Description': 'Regularize first 0 row in Y',\n",
       "    'X_start_row': 0,\n",
       "    'X_end_row': 1,\n",
       "    'X_start_col': 0,\n",
       "    'X_end_col': 9,\n",
       "    'penalty_type': 'inf',\n",
       "    'alpha': 999999999.9},\n",
       "   {'Description': 'Regularize constant 0 matrix in Y',\n",
       "    'X_start_row': 3,\n",
       "    'X_end_row': 12,\n",
       "    'X_start_col': 1,\n",
       "    'X_end_col': 9,\n",
       "    'penalty_type': 'inf',\n",
       "    'alpha': 999999999.9}]],\n",
       " 'test_hyper_params': [[{'A_start_row': 0,\n",
       "    'A_end_row': 30,\n",
       "    'A_start_col': 0,\n",
       "    'A_end_col': 8,\n",
       "    'X_start_row': 0,\n",
       "    'X_end_row': 30,\n",
       "    'X_start_col': 0,\n",
       "    'X_end_col': 2,\n",
       "    'Y_start_row': 0,\n",
       "    'Y_end_row': 2,\n",
       "    'Y_start_col': 0,\n",
       "    'Y_end_col': 8,\n",
       "    'weight': 1,\n",
       "    'alpha': 5,\n",
       "    'loss': 'MSE'}],\n",
       "  [{'Description': 'Regularize Embeddings in X',\n",
       "    'X_start_row': 0,\n",
       "    'X_end_row': 30,\n",
       "    'X_start_col': 0,\n",
       "    'X_end_col': 2,\n",
       "    'penalty_type': 'L2',\n",
       "    'alpha': 0.001},\n",
       "   {'Description': 'Regularize Embeddings in X',\n",
       "    'X_start_row': 0,\n",
       "    'X_end_row': 30,\n",
       "    'X_start_col': 0,\n",
       "    'X_end_col': 2,\n",
       "    'penalty_type': 'L1',\n",
       "    'alpha': 0.0001}],\n",
       "  []],\n",
       " 'beta': [[-0.02956712013122058],\n",
       "  [-0.4350018544670634],\n",
       "  [0.4666376146989383],\n",
       "  [0.284795133795545],\n",
       "  [-0.0459148689703318],\n",
       "  [0.22732161821017519],\n",
       "  [0.19878154365882933],\n",
       "  [-0.2130014486017298],\n",
       "  [0.007128600071869611],\n",
       "  [0.11102322874103296],\n",
       "  [-0.009361444618359721]],\n",
       " 'embedding_matrix': [[-0.7107259005198898,\n",
       "   -0.4657265982910924,\n",
       "   -0.684086854754244,\n",
       "   -0.4930592916273081,\n",
       "   -0.6736599751923327,\n",
       "   -0.8208612463232478,\n",
       "   -0.984626358340223,\n",
       "   -0.8003530194558367],\n",
       "  [-0.5904040801542271,\n",
       "   0.5203533082853542,\n",
       "   0.48619884720981726,\n",
       "   0.653978851393219,\n",
       "   -0.7030938369585595,\n",
       "   -0.7055650212140486,\n",
       "   -0.23773123620651426,\n",
       "   -0.6589334782903604]],\n",
       " 'train_error': 0.3223202849028466,\n",
       " 'test_error': [0.45769193215509124,\n",
       "  0.4436425989624073,\n",
       "  0.44363872426793527,\n",
       "  0.4285291342779261,\n",
       "  0.44251888161935476,\n",
       "  0.4416388632789749,\n",
       "  0.43361452709522325,\n",
       "  0.4393398092676069,\n",
       "  0.44790776056661424,\n",
       "  0.4496471293720549],\n",
       " 'embedding_dim': 2,\n",
       " 'train_scaling_parmas': {'mean': [1.3134915526567166,\n",
       "   3.626107686567164,\n",
       "   64.74626865671642,\n",
       "   0.07143990820895525,\n",
       "   0.22388059701492538,\n",
       "   -0.21420300955223878,\n",
       "   6.731343283582089,\n",
       "   26.26865671641791],\n",
       "  'var': [1.3134915526567166,\n",
       "   3.626107686567164,\n",
       "   64.74626865671642,\n",
       "   0.07143990820895525,\n",
       "   0.22388059701492538,\n",
       "   -0.21420300955223878,\n",
       "   6.731343283582089,\n",
       "   26.26865671641791]},\n",
       " 'test_scaling_parmas': {'mean': [2.4523450850746267],\n",
       "  'var': [2.4523450850746267]},\n",
       " 'predictor_scaling_parmas': {'mean': [1.3134915526567166,\n",
       "   3.626107686567164,\n",
       "   64.74626865671642,\n",
       "   0.07143990820895525,\n",
       "   0.22388059701492538,\n",
       "   -0.21420300955223878,\n",
       "   6.731343283582089,\n",
       "   26.26865671641791],\n",
       "  'var': [1.3134915526567166,\n",
       "   3.626107686567164,\n",
       "   64.74626865671642,\n",
       "   0.07143990820895525,\n",
       "   0.22388059701492538,\n",
       "   -0.21420300955223878,\n",
       "   6.731343283582089,\n",
       "   26.26865671641791]},\n",
       " 'target_scaling_parmas': {'mean': [2.4523450850746267],\n",
       "  'var': [2.4523450850746267]}}"
      ]
     },
     "execution_count": 157,
     "metadata": {},
     "output_type": "execute_result"
    }
   ],
   "source": [
    "params"
   ]
  },
  {
   "cell_type": "code",
   "execution_count": 154,
   "id": "34fb8398",
   "metadata": {},
   "outputs": [
    {
     "data": {
      "text/plain": [
       "0.4496471293720549"
      ]
     },
     "execution_count": 154,
     "metadata": {},
     "output_type": "execute_result"
    }
   ],
   "source": [
    "val_pred = np.hstack((result_val[0], A_prime))\n",
    "val_pred = np.hstack((val_pred, np.ones(shape=(val_pred.shape[0],1))))\n",
    "regress_val = np.matmul(val_pred, beta)\n",
    "np.mean((scaler2.inverse_transform(Y_test) - scaler2.inverse_transform(regress_val))**2)"
   ]
  },
  {
   "cell_type": "code",
   "execution_count": 38,
   "id": "d376c42e",
   "metadata": {},
   "outputs": [
    {
     "data": {
      "text/plain": [
       "array([[ 2.30923451],\n",
       "       [ 0.50613568],\n",
       "       [-0.8628483 ],\n",
       "       [ 0.74312623],\n",
       "       [ 0.20962183],\n",
       "       [-0.55266391],\n",
       "       [-3.50156826],\n",
       "       [-2.65497436],\n",
       "       [-0.57342551],\n",
       "       [-2.41594279],\n",
       "       [-0.13582648],\n",
       "       [ 1.65054362],\n",
       "       [-1.98419775],\n",
       "       [ 0.55293849],\n",
       "       [-1.65754598],\n",
       "       [-0.78133466],\n",
       "       [-0.93538785],\n",
       "       [-0.73470754],\n",
       "       [ 1.15636356],\n",
       "       [ 0.0607335 ],\n",
       "       [-2.04546397],\n",
       "       [ 1.63477858],\n",
       "       [-1.20399331],\n",
       "       [ 0.08267352],\n",
       "       [ 0.02493476],\n",
       "       [-2.00865144],\n",
       "       [-1.57173321],\n",
       "       [ 1.12387255],\n",
       "       [-1.2316063 ],\n",
       "       [ 1.66820273]])"
      ]
     },
     "execution_count": 38,
     "metadata": {},
     "output_type": "execute_result"
    }
   ],
   "source": [
    "regress_val"
   ]
  },
  {
   "cell_type": "code",
   "execution_count": 41,
   "id": "0e30e421",
   "metadata": {},
   "outputs": [
    {
     "data": {
      "text/plain": [
       "array([[ 3.3375474],\n",
       "       [ 1.6956156],\n",
       "       [ 1.446919 ],\n",
       "       [ 1.4701758],\n",
       "       [ 2.8535925],\n",
       "       [ 2.7942279],\n",
       "       [ 1.2669476],\n",
       "       [ 4.029806 ],\n",
       "       [ 3.0130809],\n",
       "       [ 3.5307626],\n",
       "       [ 2.9204698],\n",
       "       [ 2.1575593],\n",
       "       [ 2.2137539],\n",
       "       [ 2.2975726],\n",
       "       [ 1.4929041],\n",
       "       [-0.1625189],\n",
       "       [ 3.5652984],\n",
       "       [ 2.0476928],\n",
       "       [ 1.5993876],\n",
       "       [ 2.5533438],\n",
       "       [ 3.4355988],\n",
       "       [ 2.8124102],\n",
       "       [ 2.5217206],\n",
       "       [-0.4307829],\n",
       "       [ 1.8484548],\n",
       "       [ 2.8419982],\n",
       "       [ 4.3851468],\n",
       "       [ 3.0373539],\n",
       "       [ 4.1295508],\n",
       "       [ 5.477509 ],\n",
       "       [ 1.3480731],\n",
       "       [ 2.677591 ],\n",
       "       [ 3.3928291],\n",
       "       [ 3.7123518],\n",
       "       [ 3.5876769],\n",
       "       [ 2.2772673],\n",
       "       [-0.1625189],\n",
       "       [ 2.5687881],\n",
       "       [-0.1625189],\n",
       "       [ 2.1916535],\n",
       "       [ 1.9242487],\n",
       "       [ 0.7654678],\n",
       "       [ 0.8544153],\n",
       "       [ 2.7180005],\n",
       "       [ 1.6389967],\n",
       "       [ 3.993603 ],\n",
       "       [ 2.9626924],\n",
       "       [ 1.7137979],\n",
       "       [ 3.2752562],\n",
       "       [ 2.8063861],\n",
       "       [ 2.9729753],\n",
       "       [ 3.6309855],\n",
       "       [ 1.2669476],\n",
       "       [ 2.6567569],\n",
       "       [ 1.8000583],\n",
       "       [ 3.9843437],\n",
       "       [ 4.6844434],\n",
       "       [ 3.4578927],\n",
       "       [ 3.5160131],\n",
       "       [ 1.5581446],\n",
       "       [ 2.9626924],\n",
       "       [ 3.6800909],\n",
       "       [ 0.3715636],\n",
       "       [ 1.8946169],\n",
       "       [ 2.3272777],\n",
       "       [ 1.2669476],\n",
       "       [ 2.008214 ]])"
      ]
     },
     "execution_count": 41,
     "metadata": {},
     "output_type": "execute_result"
    }
   ],
   "source": [
    "Y_train"
   ]
  },
  {
   "cell_type": "code",
   "execution_count": 216,
   "id": "65aee6e8",
   "metadata": {},
   "outputs": [
    {
     "data": {
      "text/plain": [
       "(array([[4601,  133],\n",
       "        [ 961,  305]]),\n",
       " array([[18416,   214],\n",
       "        [ 3461,  1909]]))"
      ]
     },
     "execution_count": 216,
     "metadata": {},
     "output_type": "execute_result"
    }
   ],
   "source": [
    "from sklearn.metrics import confusion_matrix\n",
    "\n",
    "confusion_matrix(Y_test, predictions_val), confusion_matrix(Y_train, predictions)"
   ]
  },
  {
   "cell_type": "code",
   "execution_count": 204,
   "id": "69c99ec4",
   "metadata": {},
   "outputs": [
    {
     "data": {
      "text/plain": [
       "(0.6715927750410509, 0.32306477093206953)"
      ]
     },
     "execution_count": 204,
     "metadata": {},
     "output_type": "execute_result"
    }
   ],
   "source": [
    "409/(409+200), 409/(409+857)"
   ]
  },
  {
   "cell_type": "code",
   "execution_count": 217,
   "id": "979995fb",
   "metadata": {},
   "outputs": [
    {
     "data": {
      "text/plain": [
       "(0.6963470319634704, 0.24091627172195892)"
      ]
     },
     "execution_count": 217,
     "metadata": {},
     "output_type": "execute_result"
    }
   ],
   "source": [
    "305/(305+133), 305/(305+961)"
   ]
  },
  {
   "cell_type": "code",
   "execution_count": 205,
   "id": "07698ffe",
   "metadata": {},
   "outputs": [
    {
     "data": {
      "text/plain": [
       "(0.7902534113060429, 0.37746741154562385)"
      ]
     },
     "execution_count": 205,
     "metadata": {},
     "output_type": "execute_result"
    }
   ],
   "source": [
    "2027/(2027+538), 2027/(2027+3343)"
   ]
  },
  {
   "cell_type": "code",
   "execution_count": 206,
   "id": "6a5846e8",
   "metadata": {},
   "outputs": [
    {
     "data": {
      "text/plain": [
       "(0.814375, 0.8043333333333333)"
      ]
     },
     "execution_count": 206,
     "metadata": {},
     "output_type": "execute_result"
    }
   ],
   "source": [
    "from sklearn.linear_model import LogisticRegression\n",
    "\n",
    "X_train_embedding = result[0][:, 1:embedding_dim+1]\n",
    "X_train_embedding = X_train_embedding.numpy()\n",
    "\n",
    "X_test_embedding = result_val[0].numpy()\n",
    "\n",
    "\n",
    "clf = LogisticRegression().fit(X_train_embedding, Y_train)\n",
    "pred_logistic = clf.predict(X_train_embedding)\n",
    "pred_logistic_val = clf.predict(X_test_embedding)\n",
    "accuracy_score(Y_train, pred_logistic), accuracy_score(Y_test, pred_logistic_val)"
   ]
  },
  {
   "cell_type": "code",
   "execution_count": 208,
   "id": "21d387d1",
   "metadata": {},
   "outputs": [
    {
     "data": {
      "text/plain": [
       "(array([[4498,  236],\n",
       "        [ 938,  328]]),\n",
       " array([[17980,   650],\n",
       "        [ 3805,  1565]]))"
      ]
     },
     "execution_count": 208,
     "metadata": {},
     "output_type": "execute_result"
    }
   ],
   "source": [
    "confusion_matrix(Y_test, pred_logistic_val), confusion_matrix(Y_train, pred_logistic)"
   ]
  },
  {
   "cell_type": "code",
   "execution_count": 209,
   "id": "f17149e4",
   "metadata": {},
   "outputs": [
    {
     "data": {
      "text/plain": [
       "(0.5815602836879432, 0.25908372827804105)"
      ]
     },
     "execution_count": 209,
     "metadata": {},
     "output_type": "execute_result"
    }
   ],
   "source": [
    "328/(328+236), 328/(328+938)"
   ]
  },
  {
   "cell_type": "code",
   "execution_count": 210,
   "id": "aedaa965",
   "metadata": {},
   "outputs": [
    {
     "data": {
      "text/plain": [
       "(0.7065462753950339, 0.2914338919925512)"
      ]
     },
     "execution_count": 210,
     "metadata": {},
     "output_type": "execute_result"
    }
   ],
   "source": [
    "1565/(1565+650), 1565/(1565+3805)"
   ]
  },
  {
   "cell_type": "code",
   "execution_count": 183,
   "id": "9377afd4",
   "metadata": {},
   "outputs": [
    {
     "data": {
      "text/plain": [
       "<tf.Tensor: shape=(24,), dtype=float64, numpy=\n",
       "array([-0.06078221, -0.08096537,  0.07017905, -0.22062607,  0.35488053,\n",
       "        0.39862827,  0.2153722 ,  0.06315138,  0.01180752,  0.06021941,\n",
       "        0.04830898, -0.18859167,  0.08307187,  0.16422852,  0.00642617,\n",
       "        0.14052606,  0.0896697 , -0.22232949, -0.17849683, -0.08283164,\n",
       "       -0.11471487, -0.12704948, -0.07854479, -1.26667971])>"
      ]
     },
     "execution_count": 183,
     "metadata": {},
     "output_type": "execute_result"
    }
   ],
   "source": [
    "beta[5:]"
   ]
  },
  {
   "cell_type": "code",
   "execution_count": null,
   "id": "6461d6e4",
   "metadata": {},
   "outputs": [],
   "source": []
  },
  {
   "cell_type": "code",
   "execution_count": 163,
   "id": "d1db71d5",
   "metadata": {},
   "outputs": [
    {
     "data": {
      "text/plain": [
       "<tf.Tensor: shape=(23,), dtype=float64, numpy=\n",
       "array([-0.8944437 , -1.29999224,  0.19562207,  0.8480684 , -1.33541679,\n",
       "        1.78308844,  1.76876603,  0.12852902,  0.18145061,  0.22244805,\n",
       "        0.24003907,  0.00893509,  0.01580282,  0.03063303,  0.02771253,\n",
       "       -0.31078083, -0.31270152, -0.36732258, -0.16417763, -0.16869953,\n",
       "       -0.18406823, -0.26715539, -0.25424832])>"
      ]
     },
     "execution_count": 163,
     "metadata": {},
     "output_type": "execute_result"
    }
   ],
   "source": [
    "A_prime[0]"
   ]
  },
  {
   "cell_type": "code",
   "execution_count": null,
   "id": "17cabbd3",
   "metadata": {},
   "outputs": [],
   "source": [
    "x_embeddings"
   ]
  },
  {
   "cell_type": "code",
   "execution_count": 62,
   "id": "c98a3071",
   "metadata": {
    "scrolled": true
   },
   "outputs": [
    {
     "data": {
      "text/plain": [
       "array([0.34780297, 0.16671354, 0.16582201, 0.64219219, 0.1262042 ,\n",
       "       0.20658415, 0.08178106, 0.15208459, 0.1876595 , 0.15627313])"
      ]
     },
     "execution_count": 62,
     "metadata": {},
     "output_type": "execute_result"
    }
   ],
   "source": [
    "prob_val[0:10]"
   ]
  },
  {
   "cell_type": "code",
   "execution_count": 63,
   "id": "e9bc4471",
   "metadata": {},
   "outputs": [
    {
     "data": {
      "text/plain": [
       "array([0.34500034, 0.21897527, 0.21774101, 0.24583357, 0.30727848,\n",
       "       0.22784088, 0.50308932, 0.13373273, 0.30618575, 0.07753649])"
      ]
     },
     "execution_count": 63,
     "metadata": {},
     "output_type": "execute_result"
    }
   ],
   "source": [
    "prob[0:10]"
   ]
  },
  {
   "cell_type": "code",
   "execution_count": null,
   "id": "4508e482",
   "metadata": {},
   "outputs": [],
   "source": [
    "temp = tf.Variable([1,1,1])\n",
    "tf.where(temp!=1).shape[0]\n",
    "# tf.where([True, False, False, True]).numpy()"
   ]
  },
  {
   "cell_type": "code",
   "execution_count": 151,
   "id": "c6dcba4d",
   "metadata": {},
   "outputs": [
    {
     "data": {
      "text/plain": [
       "array([-1.9516478 , -2.04629543, -1.70377307, -2.15427262, -1.38936124,\n",
       "       -1.20421852, -1.29999224, -2.36851212, -2.98284474, -1.55114657,\n",
       "       -1.77752498, -1.56302776, -1.53258922, -1.53304331, -1.53661396,\n",
       "       -1.48686073, -0.85538492, -1.65103594, -1.35636746, -1.70503041,\n",
       "       -1.67992001, -4.18589619, -0.3678535 , -0.2796292 , -0.30874059,\n",
       "       -0.31871886, -0.31325859, -0.29435041,  1.        ])"
      ]
     },
     "execution_count": 151,
     "metadata": {},
     "output_type": "execute_result"
    }
   ],
   "source": [
    "np.min(val_pred,axis=0)"
   ]
  },
  {
   "cell_type": "code",
   "execution_count": 152,
   "id": "7ddcd2bf",
   "metadata": {},
   "outputs": [
    {
     "data": {
      "text/plain": [
       "array([ 0.        , -2.11853932, -1.95478155, -2.32238873, -1.65901012,\n",
       "       -1.37094107, -1.20421852, -1.29999224, -2.36851212, -2.98284474,\n",
       "       -1.55114657, -1.77752498, -1.56302776, -1.53258922, -1.53304331,\n",
       "       -1.53661396, -1.48686073, -2.97568136, -1.68302713, -2.986122  ,\n",
       "       -3.36721611, -2.01072475, -6.39286167, -0.3678535 , -0.2796292 ,\n",
       "       -0.30874059, -0.31871886, -0.31325859, -0.29435041,  1.        ])"
      ]
     },
     "execution_count": 152,
     "metadata": {},
     "output_type": "execute_result"
    }
   ],
   "source": [
    "np.min(result[0],axis=0)"
   ]
  },
  {
   "cell_type": "code",
   "execution_count": 153,
   "id": "2100c827",
   "metadata": {},
   "outputs": [
    {
     "data": {
      "text/plain": [
       "<tf.Tensor: shape=(29,), dtype=float64, numpy=\n",
       "array([ 2.32920304,  1.87744885,  2.28603496,  0.0193024 ,  1.94286537,\n",
       "       -0.05994122, -0.09603823, -0.12248185, -0.20116798,  0.17172587,\n",
       "        0.24053478,  0.05275302, -0.00564511, -0.04167461,  0.09804698,\n",
       "        0.02832339, -0.25440925,  0.18297612, -0.08606386, -0.02333948,\n",
       "       -0.24518346,  0.50206154, -0.1084216 , -0.01720935, -0.23590036,\n",
       "        0.28719348,  0.0371344 ,  0.08209635, -1.26288559])>"
      ]
     },
     "execution_count": 153,
     "metadata": {},
     "output_type": "execute_result"
    }
   ],
   "source": [
    "beta"
   ]
  },
  {
   "cell_type": "code",
   "execution_count": 69,
   "id": "3ada90a3",
   "metadata": {},
   "outputs": [
    {
     "data": {
      "text/plain": [
       "<tf.Tensor: shape=(7, 29), dtype=float64, numpy=\n",
       "array([[ 0.00000000e+00,  2.79704164e-02,  1.24598251e-01,\n",
       "         8.08389672e-03, -1.64245262e-01, -8.94443705e-01,\n",
       "         7.69235361e-01,  1.95622071e-01, -1.06738817e+00,\n",
       "         1.74691685e-01,  2.78172924e-03,  1.02869133e-01,\n",
       "         1.28529024e-01,  1.81450606e-01,  2.22448051e-01,\n",
       "         2.40039073e-01, -4.96488771e-02, -5.87046225e-03,\n",
       "         4.28777847e-02, -2.22836998e-01, -1.82979704e-01,\n",
       "        -1.52426383e-01, -2.35124189e-01, -1.82546015e-01,\n",
       "        -2.34184570e-01, -2.44808832e-01, -2.43252446e-01,\n",
       "        -2.37628924e-01,  1.00000000e+00],\n",
       "       [ 0.00000000e+00, -2.86595088e-02,  1.35622732e-01,\n",
       "        -2.72350274e-01, -4.77846802e-01, -8.94443705e-01,\n",
       "        -1.29999224e+00,  1.95622071e-01, -1.06738817e+00,\n",
       "         2.33198950e+00, -8.87371627e-01,  1.02869133e-01,\n",
       "        -7.02030096e-01,  1.81450606e-01,  2.22448051e-01,\n",
       "         2.40039073e-01, -5.77854383e-01, -6.10775294e-01,\n",
       "        -1.54446033e-01, -3.39755882e-01, -3.45598022e-01,\n",
       "        -3.28507580e-01, -2.35124189e-01,  1.48416884e+00,\n",
       "         3.12559602e-01,  2.85999558e-01, -2.68137700e-01,\n",
       "        -2.55836520e-01,  1.00000000e+00],\n",
       "       [ 0.00000000e+00,  1.17330722e-01, -2.64749844e-02,\n",
       "        -1.84203187e-01,  7.09118136e-02, -8.94443705e-01,\n",
       "        -1.29999224e+00, -1.08644502e+00,  8.48068396e-01,\n",
       "         1.74691685e-01,  2.78172924e-03,  1.02869133e-01,\n",
       "         1.28529024e-01,  1.81450606e-01,  2.22448051e-01,\n",
       "         2.40039073e-01,  1.90000299e-01,  1.19706661e-01,\n",
       "         1.64841384e-01, -3.64268575e-01, -3.37759597e-01,\n",
       "        -3.13411525e-01, -2.01941862e-01, -1.92355311e-01,\n",
       "        -2.67921171e-01, -2.51527926e-01, -2.47771084e-01,\n",
       "        -2.48973220e-01,  1.00000000e+00],\n",
       "       [ 0.00000000e+00, -6.05912198e-01, -3.86277143e-01,\n",
       "        -3.68982796e-01,  1.62826294e-01,  2.59052299e+00,\n",
       "        -1.29999224e+00, -1.08644502e+00,  8.48068396e-01,\n",
       "        -6.88227442e-01,  2.78172924e-03,  1.02869133e-01,\n",
       "         1.28529024e-01,  1.81450606e-01,  2.22448051e-01,\n",
       "         2.40039073e-01,  4.36858171e+00,  5.16430853e+00,\n",
       "         5.84580523e+00,  7.93229480e+00,  7.34131168e+00,\n",
       "         7.36005017e+00,  3.28220246e+00,  1.64376225e+00,\n",
       "         2.05220015e+00,  1.04115848e+00,  5.87194682e-01,\n",
       "         4.86704406e-01,  1.00000000e+00],\n",
       "       [ 0.00000000e+00, -4.72709750e-02,  1.89276985e-01,\n",
       "         6.10510562e-01, -6.72602754e-03, -5.07225183e-01,\n",
       "         7.69235361e-01,  1.95622071e-01,  8.48068396e-01,\n",
       "        -1.33541679e+00,  2.78172924e-03, -7.30079315e-01,\n",
       "        -7.02030096e-01,  1.81450606e-01,  2.22448051e-01,\n",
       "        -6.23410831e-01, -5.32994149e-01, -6.85956708e-01,\n",
       "        -6.71130589e-01, -6.68267187e-01, -6.65515134e-01,\n",
       "        -6.42329714e-01, -3.42634928e-01, -2.50730242e-01,\n",
       "        -3.08740594e-01, -2.79680928e-01, -2.02781164e-01,\n",
       "        -2.06885880e-01,  1.00000000e+00],\n",
       "       [ 0.00000000e+00,  6.25664083e-02,  8.32136782e-02,\n",
       "        -1.78771143e-01, -6.26716247e-02, -1.97450365e-01,\n",
       "         7.69235361e-01,  1.47768916e+00, -1.06738817e+00,\n",
       "        -7.96092333e-01,  2.78172924e-03,  1.02869133e-01,\n",
       "         1.78964726e+00,  1.81450606e-01,  2.22448051e-01,\n",
       "         2.40039073e-01, -5.41129282e-01, -4.91025085e-01,\n",
       "        -5.02387636e-01, -4.78159047e-01, -4.67449901e-01,\n",
       "        -5.89045542e-01, -1.46925564e-01, -2.79629198e-01,\n",
       "        -2.81900425e-01, -2.51527926e-01, -2.47771084e-01,\n",
       "        -2.37628924e-01,  1.00000000e+00],\n",
       "       [ 0.00000000e+00,  4.16851089e-01,  3.47443495e-01,\n",
       "         4.90604717e-01, -1.30320072e-01, -1.12677482e+00,\n",
       "        -1.29999224e+00,  1.47768916e+00,  8.48068396e-01,\n",
       "        -4.10380966e-02, -1.77752498e+00, -1.56302776e+00,\n",
       "        -1.53258922e+00, -1.53304331e+00, -6.57082957e-01,\n",
       "        -6.23410831e-01, -6.96467648e-01, -6.91357264e-01,\n",
       "        -6.79943877e-01, -6.71771265e-01, -4.47331829e-01,\n",
       "        -4.16734132e-01, -3.67853497e-01, -2.79629198e-01,\n",
       "        -3.08740594e-01,  5.55233637e-01, -2.39781608e-01,\n",
       "        -2.94350406e-01,  1.00000000e+00]])>"
      ]
     },
     "execution_count": 69,
     "metadata": {},
     "output_type": "execute_result"
    }
   ],
   "source": [
    "result[0][3:10,:]"
   ]
  },
  {
   "cell_type": "code",
   "execution_count": 103,
   "id": "e00b9b51",
   "metadata": {},
   "outputs": [
    {
     "data": {
      "text/plain": [
       "True"
      ]
     },
     "execution_count": 103,
     "metadata": {},
     "output_type": "execute_result"
    }
   ],
   "source": [
    "'beta' in params.keys()"
   ]
  }
 ],
 "metadata": {
  "kernelspec": {
   "display_name": "Python 3 (ipykernel)",
   "language": "python",
   "name": "python3"
  },
  "language_info": {
   "codemirror_mode": {
    "name": "ipython",
    "version": 3
   },
   "file_extension": ".py",
   "mimetype": "text/x-python",
   "name": "python",
   "nbconvert_exporter": "python",
   "pygments_lexer": "ipython3",
   "version": "3.9.10"
  }
 },
 "nbformat": 4,
 "nbformat_minor": 5
}
