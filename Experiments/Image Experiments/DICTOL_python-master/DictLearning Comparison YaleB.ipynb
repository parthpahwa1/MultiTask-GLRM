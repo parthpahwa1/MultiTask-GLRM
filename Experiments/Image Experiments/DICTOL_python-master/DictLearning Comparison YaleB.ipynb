{
 "cells": [
  {
   "cell_type": "code",
   "execution_count": 2,
   "id": "5622d2e1",
   "metadata": {},
   "outputs": [
    {
     "name": "stdout",
     "output_type": "stream",
     "text": [
      "\n",
      "================================================================\n",
      "Unit test: Low-rank shared Dictionary Learning\n"
     ]
    }
   ],
   "source": [
    "from __future__ import print_function\n",
    "from dictol import optimize\n",
    "from dictol import utils, base\n",
    "from dictol.utils import normF2, norm1, get_block_col, get_block_row, nuclearnorm, build_mean_matrix\n",
    "import numpy as np\n",
    "from dictol.ODL import ODL\n",
    "from dictol import SRC, ODL, DLSI, COPAR, LRSDL, utils\n",
    "\n",
    "\n",
    "print('\\n================================================================')\n",
    "print('Unit test: Low-rank shared Dictionary Learning')\n",
    "dataset = 'myARgender'\n",
    "N_train = 15\n",
    "Y_train, Y_test, label_train, label_test = utils.train_test_split(dataset, N_train)\n"
   ]
  },
  {
   "cell_type": "code",
   "execution_count": 7,
   "id": "5b948bce",
   "metadata": {},
   "outputs": [
    {
     "data": {
      "text/plain": [
       "((300, 700), (300, 225))"
      ]
     },
     "execution_count": 7,
     "metadata": {},
     "output_type": "execute_result"
    }
   ],
   "source": [
    "Y_test.shape, Y_train.shape"
   ]
  },
  {
   "cell_type": "code",
   "execution_count": null,
   "id": "3f0ee602",
   "metadata": {},
   "outputs": [],
   "source": [
    "\n",
    "lrsdl = LRSDL.LRSDL(lambd=0.001, lambd2=0.01, eta=0.1, k=7, k0=0)\n",
    "lrsdl.fit(Y_train, label_train, iterations=30, verbose=True)\n",
    "lrsdl.evaluate(Y_test, label_test)\n"
   ]
  }
 ],
 "metadata": {
  "kernelspec": {
   "display_name": "Python 3 (ipykernel)",
   "language": "python",
   "name": "python3"
  },
  "language_info": {
   "codemirror_mode": {
    "name": "ipython",
    "version": 3
   },
   "file_extension": ".py",
   "mimetype": "text/x-python",
   "name": "python",
   "nbconvert_exporter": "python",
   "pygments_lexer": "ipython3",
   "version": "3.9.10"
  }
 },
 "nbformat": 4,
 "nbformat_minor": 5
}
